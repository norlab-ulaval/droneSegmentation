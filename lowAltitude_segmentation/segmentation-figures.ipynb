{
 "cells": [
  {
   "cell_type": "code",
   "id": "initial_id",
   "metadata": {
    "collapsed": true,
    "ExecuteTime": {
     "end_time": "2024-09-05T01:24:05.786066Z",
     "start_time": "2024-09-05T01:24:05.783939Z"
    }
   },
   "source": [
    "import matplotlib\n",
    "import pandas as pd\n",
    "import numpy as np\n",
    "import matplotlib.pyplot as plt\n",
    "from matplotlib import rc\n",
    "\n",
    "from lowAltitude_classification.gsd_utils import papermode"
   ],
   "outputs": [],
   "execution_count": 6
  },
  {
   "metadata": {
    "ExecuteTime": {
     "end_time": "2024-09-05T02:18:09.700389Z",
     "start_time": "2024-09-05T02:18:09.692071Z"
    }
   },
   "cell_type": "code",
   "source": [
    "font_size = 8\n",
    "papermode(plt, font_size, has_latex=True)\n",
    "rc('text.latex', preamble=r'\\usepackage{color}')\n",
    "matplotlib.use('ps')"
   ],
   "id": "eabce59d76784de3",
   "outputs": [],
   "execution_count": 49
  },
  {
   "metadata": {
    "ExecuteTime": {
     "end_time": "2024-09-05T01:24:05.871960Z",
     "start_time": "2024-09-05T01:24:05.863981Z"
    }
   },
   "cell_type": "code",
   "source": [
    "# Load the data\n",
    "data = pd.read_csv('results/phase3-test-M2F_METRICS.csv')\n",
    "data"
   ],
   "id": "190ba78b08ef5d17",
   "outputs": [
    {
     "data": {
      "text/plain": [
       "  PL_Version    experiment      F1    pAcc\n",
       "0        NaN    SUPERVISED  0.1331  0.2959\n",
       "1         V1          BASE  0.4382  0.5550\n",
       "2        NaN  MovingWINDOW  0.4069  0.5262\n",
       "3         V1      FINETUNE  0.4556  0.5970\n",
       "4         V2      FINETUNE  0.3386  0.4524\n",
       "5         V2          BASE  0.3785  0.4835"
      ],
      "text/html": [
       "<div>\n",
       "<style scoped>\n",
       "    .dataframe tbody tr th:only-of-type {\n",
       "        vertical-align: middle;\n",
       "    }\n",
       "\n",
       "    .dataframe tbody tr th {\n",
       "        vertical-align: top;\n",
       "    }\n",
       "\n",
       "    .dataframe thead th {\n",
       "        text-align: right;\n",
       "    }\n",
       "</style>\n",
       "<table border=\"1\" class=\"dataframe\">\n",
       "  <thead>\n",
       "    <tr style=\"text-align: right;\">\n",
       "      <th></th>\n",
       "      <th>PL_Version</th>\n",
       "      <th>experiment</th>\n",
       "      <th>F1</th>\n",
       "      <th>pAcc</th>\n",
       "    </tr>\n",
       "  </thead>\n",
       "  <tbody>\n",
       "    <tr>\n",
       "      <th>0</th>\n",
       "      <td>NaN</td>\n",
       "      <td>SUPERVISED</td>\n",
       "      <td>0.1331</td>\n",
       "      <td>0.2959</td>\n",
       "    </tr>\n",
       "    <tr>\n",
       "      <th>1</th>\n",
       "      <td>V1</td>\n",
       "      <td>BASE</td>\n",
       "      <td>0.4382</td>\n",
       "      <td>0.5550</td>\n",
       "    </tr>\n",
       "    <tr>\n",
       "      <th>2</th>\n",
       "      <td>NaN</td>\n",
       "      <td>MovingWINDOW</td>\n",
       "      <td>0.4069</td>\n",
       "      <td>0.5262</td>\n",
       "    </tr>\n",
       "    <tr>\n",
       "      <th>3</th>\n",
       "      <td>V1</td>\n",
       "      <td>FINETUNE</td>\n",
       "      <td>0.4556</td>\n",
       "      <td>0.5970</td>\n",
       "    </tr>\n",
       "    <tr>\n",
       "      <th>4</th>\n",
       "      <td>V2</td>\n",
       "      <td>FINETUNE</td>\n",
       "      <td>0.3386</td>\n",
       "      <td>0.4524</td>\n",
       "    </tr>\n",
       "    <tr>\n",
       "      <th>5</th>\n",
       "      <td>V2</td>\n",
       "      <td>BASE</td>\n",
       "      <td>0.3785</td>\n",
       "      <td>0.4835</td>\n",
       "    </tr>\n",
       "  </tbody>\n",
       "</table>\n",
       "</div>"
      ]
     },
     "execution_count": 8,
     "metadata": {},
     "output_type": "execute_result"
    }
   ],
   "execution_count": 8
  },
  {
   "metadata": {},
   "cell_type": "code",
   "outputs": [],
   "execution_count": null,
   "source": "",
   "id": "3099fafdc14f06a4"
  },
  {
   "metadata": {},
   "cell_type": "code",
   "outputs": [],
   "execution_count": null,
   "source": "",
   "id": "ba7b6e14d9c64abb"
  },
  {
   "metadata": {
    "ExecuteTime": {
     "end_time": "2024-09-05T02:59:23.553257Z",
     "start_time": "2024-09-05T02:59:23.442384Z"
    }
   },
   "cell_type": "code",
   "source": [
    "results_f1 = {\n",
    "    r'Supervised' \"\\n\"r'(\\texttt{FT})': {'f1': data.iloc[0]['F1'], 'use_drones': True, 'use_pl': False},\n",
    "    r'Voting': {'f1': data.iloc[2]['F1'], 'use_drones': False, 'use_pl': False},\n",
    "    r'Pretrained'\"\\n\"r'(\\texttt{pt})': {'f1': data.iloc[1]['F1'], 'use_drones': False, 'use_pl': True},\n",
    "    r'Finetuned'\"\\n\"r'(\\texttt{pt+FT})': {'f1': data.iloc[3]['F1'], 'use_drones': True, 'use_pl': True},\n",
    "}\n",
    "\n",
    "# results_f1 = {k: round(v, 4) * 100 for k, v in results_f1.items()}\n",
    "for k, v in results_f1.items():\n",
    "    results_f1[k]['f1'] = round(v['f1'], 4) * 100\n",
    "\n",
    "width = 3.281\n",
    "height = width / 1.618\n",
    "height = 2.3\n",
    "fig, ax = plt.subplots(figsize=(width, height))\n",
    "for k, v in results_f1.items():\n",
    "    f1 = v['f1']\n",
    "    bar = ax.bar(k, f1, color=\"teal\" if k != 'Voting' else 'chocolate', edgecolor=\"black\", zorder=1)\n",
    "    ax.bar_label(bar, color=\"darkgreen\", zorder=2)\n",
    "    \n",
    "    fig.text(bar[0].get_x() + bar[0].get_width() / 2, 5, f\"Drone\", ha='center', va='bottom', color=\"white\", fontsize=15)\n",
    "    \n",
    "    if v['use_drones']:\n",
    "        ax.text(bar[0].get_x() + bar[0].get_width() / 2, 3, r\"\\textbf{$D_{train}^{drone}$}%\", ha='center', va='bottom', color=\"w\", fontsize=font_size)\n",
    "    if v['use_pl']:\n",
    "        ax.text(bar[0].get_x() + bar[0].get_width() / 2, 13, r\"\\textbf{$D_{train}^{pl}$}%\", ha='center', va='bottom', color=\"w\", fontsize=font_size)\n",
    "\n",
    "ax.grid(True, axis=\"y\", color=\"gray\", zorder=0, linestyle=\"--\")\n",
    "ax.set_ylabel(r\"$F1$ Score on \\hspace{2.6em} (\\%)\")\n",
    "ax.set_ylim(0, 55)\n",
    "ax.set_axisbelow(True)\n",
    "ax.text(-0.12, 0.64, r\"$D_{test}^{drone}$\", fontsize=font_size, color=\"blue\", transform=ax.transAxes, ha='center', va='center', rotation=90)\n",
    "\n",
    "fig.subplots_adjust(top=0.99, bottom=0.18, left=0.12, right=0.99, wspace=0.3)\n",
    "fig.set_size_inches(width, 0.8 * height)\n",
    "\n",
    "fig.savefig('results/M2F_F1.pdf')\n",
    "fig.savefig('results/M2F_F1.png')\n"
   ],
   "id": "c3a48050cba10de",
   "outputs": [],
   "execution_count": 163
  }
 ],
 "metadata": {
  "kernelspec": {
   "display_name": "Python 3",
   "language": "python",
   "name": "python3"
  },
  "language_info": {
   "codemirror_mode": {
    "name": "ipython",
    "version": 2
   },
   "file_extension": ".py",
   "mimetype": "text/x-python",
   "name": "python",
   "nbconvert_exporter": "python",
   "pygments_lexer": "ipython2",
   "version": "2.7.6"
  }
 },
 "nbformat": 4,
 "nbformat_minor": 5
}
