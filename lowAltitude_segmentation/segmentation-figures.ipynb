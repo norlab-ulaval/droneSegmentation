{
 "cells": [
  {
   "cell_type": "code",
   "id": "initial_id",
   "metadata": {
    "collapsed": true,
    "ExecuteTime": {
     "end_time": "2024-12-18T21:22:56.097544Z",
     "start_time": "2024-12-18T21:22:56.093353Z"
    }
   },
   "source": [
    "import matplotlib\n",
    "import matplotlib.pyplot as plt\n",
    "import pandas as pd\n",
    "from matplotlib import rc\n",
    "\n",
    "from lowAltitude_classification.gsd_utils import papermode"
   ],
   "outputs": [],
   "execution_count": 10
  },
  {
   "metadata": {
    "ExecuteTime": {
     "end_time": "2024-12-18T21:22:56.130690Z",
     "start_time": "2024-12-18T21:22:56.107662Z"
    }
   },
   "cell_type": "code",
   "source": [
    "font_size = 8\n",
    "papermode(plt, font_size, has_latex=True)\n",
    "rc('text.latex', preamble=r'\\usepackage{color}')\n",
    "matplotlib.use('ps')"
   ],
   "id": "eabce59d76784de3",
   "outputs": [],
   "execution_count": 11
  },
  {
   "metadata": {
    "ExecuteTime": {
     "end_time": "2024-12-18T21:22:56.173843Z",
     "start_time": "2024-12-18T21:22:56.165936Z"
    }
   },
   "cell_type": "code",
   "source": [
    "# Load the data\n",
    "data = pd.read_csv('')\n",
    "data"
   ],
   "id": "190ba78b08ef5d17",
   "outputs": [
    {
     "data": {
      "text/plain": [
       "  EXPERIMENT      F1    pAcc\n",
       "0         SP  0.3245  0.4507\n",
       "1    NO_VOTE  0.3766  0.4569\n",
       "2         MV  0.4317  0.5368\n",
       "3         PT  0.4374  0.5410\n",
       "4         FT  0.4676  0.6153"
      ],
      "text/html": [
       "<div>\n",
       "<style scoped>\n",
       "    .dataframe tbody tr th:only-of-type {\n",
       "        vertical-align: middle;\n",
       "    }\n",
       "\n",
       "    .dataframe tbody tr th {\n",
       "        vertical-align: top;\n",
       "    }\n",
       "\n",
       "    .dataframe thead th {\n",
       "        text-align: right;\n",
       "    }\n",
       "</style>\n",
       "<table border=\"1\" class=\"dataframe\">\n",
       "  <thead>\n",
       "    <tr style=\"text-align: right;\">\n",
       "      <th></th>\n",
       "      <th>EXPERIMENT</th>\n",
       "      <th>F1</th>\n",
       "      <th>pAcc</th>\n",
       "    </tr>\n",
       "  </thead>\n",
       "  <tbody>\n",
       "    <tr>\n",
       "      <th>0</th>\n",
       "      <td>SP</td>\n",
       "      <td>0.3245</td>\n",
       "      <td>0.4507</td>\n",
       "    </tr>\n",
       "    <tr>\n",
       "      <th>1</th>\n",
       "      <td>NO_VOTE</td>\n",
       "      <td>0.3766</td>\n",
       "      <td>0.4569</td>\n",
       "    </tr>\n",
       "    <tr>\n",
       "      <th>2</th>\n",
       "      <td>MV</td>\n",
       "      <td>0.4317</td>\n",
       "      <td>0.5368</td>\n",
       "    </tr>\n",
       "    <tr>\n",
       "      <th>3</th>\n",
       "      <td>PT</td>\n",
       "      <td>0.4374</td>\n",
       "      <td>0.5410</td>\n",
       "    </tr>\n",
       "    <tr>\n",
       "      <th>4</th>\n",
       "      <td>FT</td>\n",
       "      <td>0.4676</td>\n",
       "      <td>0.6153</td>\n",
       "    </tr>\n",
       "  </tbody>\n",
       "</table>\n",
       "</div>"
      ]
     },
     "execution_count": 12,
     "metadata": {},
     "output_type": "execute_result"
    }
   ],
   "execution_count": 12
  },
  {
   "metadata": {
    "ExecuteTime": {
     "end_time": "2024-12-18T21:22:56.332008Z",
     "start_time": "2024-12-18T21:22:56.242868Z"
    }
   },
   "cell_type": "code",
   "source": [
    "\n",
    "\n",
    "results_f1 = {\n",
    "    r'Supervised' \"\\n\"r'(\\texttt{SP})': {'f1': data.iloc[0]['F1'], 'use_drones': True, 'use_pl': False,\n",
    "                                         'img': 'annotations/1.png'},\n",
    "    r'Pseudo-labels'\"\\n\"'(without voting)': {'f1': data.iloc[1]['F1'], 'use_drones': False, 'use_pl': False,},\n",
    "    r'Pseudo-labels'\"\\n\"'(with voting)': {'f1': data.iloc[2]['F1'], 'use_drones': False, 'use_pl': False,\n",
    "                                          'img': 'voting/1.png'},\n",
    "    r'Pre-trained'\"\\n\"r'(\\texttt{PT})': {'f1': data.iloc[3]['F1'], 'use_drones': False, 'use_pl': True,\n",
    "                                        'img': 'pt/1.png'},\n",
    "    r'Fine-tuned'\"\\n\"r'(\\texttt{FT})': {'f1': data.iloc[4]['F1'], 'use_drones': True, 'use_pl': True,\n",
    "                                          'img': 'pt_ft/1.png'},\n",
    "}\n",
    "\n",
    "# results_f1 = {k: round(v, 4) * 100 for k, v in results_f1.items()}\n",
    "for k, v in results_f1.items():\n",
    "    results_f1[k]['f1'] = round(v['f1'], 4) * 100\n",
    "\n",
    "# width = 3.281\n",
    "width = 4.3\n",
    "height = width / 1.618\n",
    "height = 1.75\n",
    "fig, ax = plt.subplots(figsize=(width, height))\n",
    "for i, (k, v) in enumerate(results_f1.items()):\n",
    "    f1 = v['f1']\n",
    "    color = 'teal'\n",
    "    # if i == 0:\n",
    "    #     color = 'maroon'\n",
    "    if i == 1 or i == 2:\n",
    "        color = 'chocolate'\n",
    "    bar = ax.bar(k, f1, color=color, edgecolor=\"black\", zorder=1)\n",
    "    # move the bar label down\n",
    "    # bold text\n",
    "    ax.bar_label(bar, color=\"white\", zorder=2, padding=-12, fmt='%.2f')\n",
    "    #, backgroundcolor=[1, 1, 1, 0.5], padding=3,\n",
    "    # bbox=dict(facecolor=[1, 1, 1, 0.75], edgecolor='none', boxstyle='round,pad=0.2'))\n",
    "\n",
    "    fig.text(bar[0].get_x() + bar[0].get_width() / 2, 5, f\"Drone\", ha='center', va='bottom', color=\"white\", fontsize=15)\n",
    "\n",
    "    if v['use_drones']:\n",
    "        ax.text(bar[0].get_x() + bar[0].get_width() / 2, 3, r\"\\textbf{$D_{train}^{drone}$}%\", ha='center', va='bottom',\n",
    "                color=\"w\", fontsize=font_size)\n",
    "    if v['use_pl']:\n",
    "        ax.text(bar[0].get_x() + bar[0].get_width() / 2, 13, r\"\\textbf{$D^{pl}$}%\", ha='center', va='bottom',\n",
    "                color=\"w\", fontsize=font_size)\n",
    "\n",
    "ax.set_yticks(range(0, 45, 10))\n",
    "ax.grid(True, axis=\"y\", color=\"gray\", zorder=0, linestyle=\"--\")\n",
    "# ax.set_ylim(0, 50)\n",
    "ax.set_axisbelow(True)\n",
    "ax.set_ylabel(r\"$F1$ Score on \\hspace{2.2em} (\\%)\")\n",
    "ax.text(-0.085, 0.69, r\"$D_{test}^{drone}$\", fontsize=font_size, color=\"blue\", transform=ax.transAxes, ha='center',\n",
    "        va='center', rotation=90)\n",
    "\n",
    "fig.subplots_adjust(top=0.99, bottom=0.23, left=0.095, right=0.99, wspace=0.3)\n",
    "fig.set_size_inches(width, 0.8 * height)\n",
    "\n",
    "fig.savefig('results/M2F_F1.pdf')\n",
    "fig.savefig('results/M2F_F1.png')\n"
   ],
   "id": "c3a48050cba10de",
   "outputs": [],
   "execution_count": 13
  }
 ],
 "metadata": {
  "kernelspec": {
   "display_name": "Python 3",
   "language": "python",
   "name": "python3"
  },
  "language_info": {
   "codemirror_mode": {
    "name": "ipython",
    "version": 2
   },
   "file_extension": ".py",
   "mimetype": "text/x-python",
   "name": "python",
   "nbconvert_exporter": "python",
   "pygments_lexer": "ipython2",
   "version": "2.7.6"
  }
 },
 "nbformat": 4,
 "nbformat_minor": 5
}
