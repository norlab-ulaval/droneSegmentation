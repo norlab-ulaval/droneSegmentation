{
 "cells": [
  {
   "cell_type": "code",
   "id": "initial_id",
   "metadata": {
    "collapsed": true,
    "ExecuteTime": {
     "end_time": "2024-09-04T20:41:14.045627Z",
     "start_time": "2024-09-04T20:41:14.042507Z"
    }
   },
   "source": [
    "import matplotlib\n",
    "import pandas as pd\n",
    "import numpy as np\n",
    "import matplotlib.pyplot as plt\n",
    "from matplotlib import rc\n",
    "\n",
    "from lowAltitude_classification.gsd_utils import papermode"
   ],
   "outputs": [],
   "execution_count": 5
  },
  {
   "metadata": {
    "ExecuteTime": {
     "end_time": "2024-09-04T20:41:14.072897Z",
     "start_time": "2024-09-04T20:41:14.067047Z"
    }
   },
   "cell_type": "code",
   "source": [
    "papermode(plt, 10, has_latex=True)\n",
    "rc('text.latex', preamble=r'\\usepackage{color}')\n",
    "# Load the data\n",
    "data = pd.read_csv('results/phase3-test-M2F_METRICS.csv')\n",
    "data"
   ],
   "id": "190ba78b08ef5d17",
   "outputs": [
    {
     "data": {
      "text/plain": [
       "  PL_Version    experiment      F1    pAcc\n",
       "0        NaN    SUPERVISED  0.1331  0.2959\n",
       "1         V1          BASE  0.4382  0.5550\n",
       "2        NaN  MovingWINDOW  0.4069  0.5262\n",
       "3         V1      FINETUNE  0.4556  0.5970\n",
       "4         V2      FINETUNE  0.3386  0.4524\n",
       "5         V2          BASE  0.3785  0.4835"
      ],
      "text/html": [
       "<div>\n",
       "<style scoped>\n",
       "    .dataframe tbody tr th:only-of-type {\n",
       "        vertical-align: middle;\n",
       "    }\n",
       "\n",
       "    .dataframe tbody tr th {\n",
       "        vertical-align: top;\n",
       "    }\n",
       "\n",
       "    .dataframe thead th {\n",
       "        text-align: right;\n",
       "    }\n",
       "</style>\n",
       "<table border=\"1\" class=\"dataframe\">\n",
       "  <thead>\n",
       "    <tr style=\"text-align: right;\">\n",
       "      <th></th>\n",
       "      <th>PL_Version</th>\n",
       "      <th>experiment</th>\n",
       "      <th>F1</th>\n",
       "      <th>pAcc</th>\n",
       "    </tr>\n",
       "  </thead>\n",
       "  <tbody>\n",
       "    <tr>\n",
       "      <th>0</th>\n",
       "      <td>NaN</td>\n",
       "      <td>SUPERVISED</td>\n",
       "      <td>0.1331</td>\n",
       "      <td>0.2959</td>\n",
       "    </tr>\n",
       "    <tr>\n",
       "      <th>1</th>\n",
       "      <td>V1</td>\n",
       "      <td>BASE</td>\n",
       "      <td>0.4382</td>\n",
       "      <td>0.5550</td>\n",
       "    </tr>\n",
       "    <tr>\n",
       "      <th>2</th>\n",
       "      <td>NaN</td>\n",
       "      <td>MovingWINDOW</td>\n",
       "      <td>0.4069</td>\n",
       "      <td>0.5262</td>\n",
       "    </tr>\n",
       "    <tr>\n",
       "      <th>3</th>\n",
       "      <td>V1</td>\n",
       "      <td>FINETUNE</td>\n",
       "      <td>0.4556</td>\n",
       "      <td>0.5970</td>\n",
       "    </tr>\n",
       "    <tr>\n",
       "      <th>4</th>\n",
       "      <td>V2</td>\n",
       "      <td>FINETUNE</td>\n",
       "      <td>0.3386</td>\n",
       "      <td>0.4524</td>\n",
       "    </tr>\n",
       "    <tr>\n",
       "      <th>5</th>\n",
       "      <td>V2</td>\n",
       "      <td>BASE</td>\n",
       "      <td>0.3785</td>\n",
       "      <td>0.4835</td>\n",
       "    </tr>\n",
       "  </tbody>\n",
       "</table>\n",
       "</div>"
      ]
     },
     "execution_count": 6,
     "metadata": {},
     "output_type": "execute_result"
    }
   ],
   "execution_count": 6
  },
  {
   "metadata": {
    "ExecuteTime": {
     "end_time": "2024-09-04T20:41:14.155183Z",
     "start_time": "2024-09-04T20:41:14.075955Z"
    }
   },
   "cell_type": "code",
   "source": [
    "results_f1 = {\n",
    "    'Supervised\\n(FT)': data.iloc[0]['F1'],\n",
    "    'Voting': data.iloc[2]['F1'],\n",
    "    'Pretrained\\n(PT)': data.iloc[1]['F1'],\n",
    "    'Finetuned\\n(PT+FT)': data.iloc[3]['F1'],\n",
    "}\n",
    "\n",
    "results_f1 = {k: round(v, 4) * 100 for k, v in results_f1.items()}\n",
    "\n",
    "for k, v in results_f1.items():\n",
    "    bar = plt.bar(k, v, color=\"teal\" if k != 'Voting' else 'chocolate', edgecolor=\"black\")\n",
    "    plt.bar_label(bar, color=\"darkgreen\")\n",
    "    \n",
    "    plt.text(bar[0].get_x() + bar[0].get_width() / 2, 5, f\"Drone\", ha='center', va='bottom', color=\"white\", fontsize=15)\n",
    "    if k == 'Pretrained\\n(PT)' or k == 'Finetuned\\n(PT+FT)':\n",
    "        plt.text(bar[0].get_x() + bar[0].get_width() / 2, 12.5, f\"PL\", ha='center', va='bottom', color=\"white\", fontsize=15)\n",
    "plt.grid(True, axis=\"y\", color=\"k\", zorder=0, linestyle=\"--\")\n",
    "plt.ylabel(r\"F1 Score on \\textcolor{green}{is} (\\%)\")\n",
    "plt.show()\n"
   ],
   "id": "c3a48050cba10de",
   "outputs": [
    {
     "data": {
      "text/plain": [
       "<Figure size 640x480 with 1 Axes>"
      ],
      "image/png": "[encoded data removed]"
     },
     "metadata": {},
     "output_type": "display_data"
    }
   ],
   "execution_count": 7
  }
 ],
 "metadata": {
  "kernelspec": {
   "display_name": "Python 3",
   "language": "python",
   "name": "python3"
  },
  "language_info": {
   "codemirror_mode": {
    "name": "ipython",
    "version": 2
   },
   "file_extension": ".py",
   "mimetype": "text/x-python",
   "name": "python",
   "nbconvert_exporter": "python",
   "pygments_lexer": "ipython2",
   "version": "2.7.6"
  }
 },
 "nbformat": 4,
 "nbformat_minor": 5
}
