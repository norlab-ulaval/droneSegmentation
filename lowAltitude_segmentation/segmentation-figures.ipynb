{
 "cells": [
  {
   "cell_type": "code",
   "execution_count": 1,
   "id": "initial_id",
   "metadata": {
    "ExecuteTime": {
     "end_time": "2024-09-04T20:04:28.281717Z",
     "start_time": "2024-09-04T20:04:28.278669Z"
    },
    "collapsed": true
   },
   "outputs": [],
   "source": [
    "import pandas as pd\n",
    "import numpy as np\n",
    "import matplotlib.pyplot as plt\n",
    "from matplotlib import rc\n",
    "\n",
    "from fig_utils import papermode\n"
   ]
  },
  {
   "cell_type": "code",
   "execution_count": 2,
   "id": "190ba78b08ef5d17",
   "metadata": {
    "ExecuteTime": {
     "end_time": "2024-09-04T20:04:28.289519Z",
     "start_time": "2024-09-04T20:04:28.283603Z"
    }
   },
   "outputs": [
    {
     "data": {
      "text/html": [
       "<div>\n",
       "<style scoped>\n",
       "    .dataframe tbody tr th:only-of-type {\n",
       "        vertical-align: middle;\n",
       "    }\n",
       "\n",
       "    .dataframe tbody tr th {\n",
       "        vertical-align: top;\n",
       "    }\n",
       "\n",
       "    .dataframe thead th {\n",
       "        text-align: right;\n",
       "    }\n",
       "</style>\n",
       "<table border=\"1\" class=\"dataframe\">\n",
       "  <thead>\n",
       "    <tr style=\"text-align: right;\">\n",
       "      <th></th>\n",
       "      <th>PL_Version</th>\n",
       "      <th>experiment</th>\n",
       "      <th>F1</th>\n",
       "      <th>pAcc</th>\n",
       "    </tr>\n",
       "  </thead>\n",
       "  <tbody>\n",
       "    <tr>\n",
       "      <th>0</th>\n",
       "      <td>NaN</td>\n",
       "      <td>SUPERVISED</td>\n",
       "      <td>0.1331</td>\n",
       "      <td>0.2959</td>\n",
       "    </tr>\n",
       "    <tr>\n",
       "      <th>1</th>\n",
       "      <td>V1</td>\n",
       "      <td>BASE</td>\n",
       "      <td>0.4382</td>\n",
       "      <td>0.5550</td>\n",
       "    </tr>\n",
       "    <tr>\n",
       "      <th>2</th>\n",
       "      <td>NaN</td>\n",
       "      <td>MovingWINDOW</td>\n",
       "      <td>0.4069</td>\n",
       "      <td>0.5262</td>\n",
       "    </tr>\n",
       "    <tr>\n",
       "      <th>3</th>\n",
       "      <td>V1</td>\n",
       "      <td>FINETUNE</td>\n",
       "      <td>0.4556</td>\n",
       "      <td>0.5970</td>\n",
       "    </tr>\n",
       "    <tr>\n",
       "      <th>4</th>\n",
       "      <td>V2</td>\n",
       "      <td>FINETUNE</td>\n",
       "      <td>0.3386</td>\n",
       "      <td>0.4524</td>\n",
       "    </tr>\n",
       "    <tr>\n",
       "      <th>5</th>\n",
       "      <td>V2</td>\n",
       "      <td>BASE</td>\n",
       "      <td>0.3785</td>\n",
       "      <td>0.4835</td>\n",
       "    </tr>\n",
       "  </tbody>\n",
       "</table>\n",
       "</div>"
      ],
      "text/plain": [
       "  PL_Version    experiment      F1    pAcc\n",
       "0        NaN    SUPERVISED  0.1331  0.2959\n",
       "1         V1          BASE  0.4382  0.5550\n",
       "2        NaN  MovingWINDOW  0.4069  0.5262\n",
       "3         V1      FINETUNE  0.4556  0.5970\n",
       "4         V2      FINETUNE  0.3386  0.4524\n",
       "5         V2          BASE  0.3785  0.4835"
      ]
     },
     "execution_count": 2,
     "metadata": {},
     "output_type": "execute_result"
    }
   ],
   "source": [
    "# plt.rc(\"font\", family=\"serif\", serif=\"Times\")\n",
    "# size = 10\n",
    "# plt.rc(\"text\", usetex=True)\n",
    "# plt.rc(\"xtick\", labelsize=size)\n",
    "# plt.rc(\"ytick\", labelsize=size)\n",
    "# plt.rc(\"axes\", labelsize=size)\n",
    "# plt.rc(\"figure\", labelsize=size)\n",
    "# plt.rc(\"legend\", fontsize=size)\n",
    "papermode(plt, size=8, has_latex=True)\n",
    "# Load the data\n",
    "data = pd.read_csv('results/phase3-test-M2F_METRICS.csv')\n",
    "data"
   ]
  },
  {
   "cell_type": "code",
   "execution_count": 3,
   "id": "c3a48050cba10de",
   "metadata": {
    "ExecuteTime": {
     "end_time": "2024-09-04T20:04:29.036848Z",
     "start_time": "2024-09-04T20:04:28.290253Z"
    }
   },
   "outputs": [
    {
     "data": {
      "text/plain": [
       "Text(0, 0.5, '$F1$ Score for drone test set (%)')"
      ]
     },
     "execution_count": 3,
     "metadata": {},
     "output_type": "execute_result"
    },
    {
     "data": {
      "image/png": "[encoded data removed]",
      "text/plain": [
       "<Figure size 640x480 with 1 Axes>"
      ]
     },
     "metadata": {},
     "output_type": "display_data"
    }
   ],
   "source": [
    "results_f1 = {\n",
    "    'Supervised\\n(FT)': data.iloc[0]['F1'],\n",
    "    'Voting': data.iloc[2]['F1'],\n",
    "    'Pretrained\\n(PT)': data.iloc[1]['F1'],\n",
    "    'Finetuned\\n(PT+FT)': data.iloc[3]['F1'],\n",
    "}\n",
    "\n",
    "results_f1 = {k: round(v, 4) * 100 for k, v in results_f1.items()}\n",
    "\n",
    "fig, ax = plt.subplots()\n",
    "# plt.bar(results_f1.keys(), results_f1.values())\n",
    "bars = ax.bar(results_f1.keys(), results_f1.values(), color=\"teal\", edgecolor=\"black\")\n",
    "ax.bar_label(bars, color=\"darkgreen\", padding=2)\n",
    "# rotate labels\n",
    "ax.grid(True, axis=\"y\", color=\"k\", zorder=0, linestyle=\"--\")\n",
    "# TO\n",
    "# plt.xticks(rotation=45, ha=\"right\")\n",
    "ax.set_ylabel(\"$F1$ Score for drone test set (%)\")\n"
   ]
  }
 ],
 "metadata": {
  "kernelspec": {
   "display_name": "Python 3",
   "language": "python",
   "name": "python3"
  },
  "language_info": {
   "codemirror_mode": {
    "name": "ipython",
    "version": 3
   },
   "file_extension": ".py",
   "mimetype": "text/x-python",
   "name": "python",
   "nbconvert_exporter": "python",
   "pygments_lexer": "ipython3",
   "version": "3.10.12"
  }
 },
 "nbformat": 4,
 "nbformat_minor": 5
}
