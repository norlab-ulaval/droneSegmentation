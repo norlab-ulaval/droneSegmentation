{
 "cells": [
  {
   "cell_type": "code",
   "id": "initial_id",
   "metadata": {
    "collapsed": true,
    "ExecuteTime": {
     "end_time": "2024-09-09T00:43:43.349507Z",
     "start_time": "2024-09-09T00:43:42.517568Z"
    }
   },
   "source": [
    "import matplotlib\n",
    "import matplotlib.pyplot as plt\n",
    "import pandas as pd\n",
    "from matplotlib import rc\n",
    "\n",
    "from lowAltitude_classification.gsd_utils import papermode"
   ],
   "outputs": [],
   "execution_count": 2
  },
  {
   "metadata": {
    "ExecuteTime": {
     "end_time": "2024-09-09T00:43:43.761966Z",
     "start_time": "2024-09-09T00:43:43.713269Z"
    }
   },
   "cell_type": "code",
   "source": [
    "font_size = 8\n",
    "papermode(plt, font_size, has_latex=True)\n",
    "rc('text.latex', preamble=r'\\usepackage{color}')\n",
    "matplotlib.use('ps')"
   ],
   "id": "eabce59d76784de3",
   "outputs": [],
   "execution_count": 3
  },
  {
   "metadata": {
    "ExecuteTime": {
     "end_time": "2024-09-09T00:43:45.159072Z",
     "start_time": "2024-09-09T00:43:45.149702Z"
    }
   },
   "cell_type": "code",
   "source": [
    "# Load the data\n",
    "data = pd.read_csv('results/phase3-test-M2F_METRICS_new.csv')\n",
    "data"
   ],
   "id": "190ba78b08ef5d17",
   "outputs": [
    {
     "data": {
      "text/plain": [
       "  PL_Version    experiment      F1    pAcc\n",
       "0        NaN    SUPERVISED  0.2683  0.3453\n",
       "1         V1      PRETRAIN  0.4382  0.5550\n",
       "2        NaN  MovingWINDOW  0.4069  0.5262\n",
       "3         V1      FINETUNE  0.4556  0.5970\n",
       "4         V1    CLASSIFIER  0.3440     NaN"
      ],
      "text/html": [
       "<div>\n",
       "<style scoped>\n",
       "    .dataframe tbody tr th:only-of-type {\n",
       "        vertical-align: middle;\n",
       "    }\n",
       "\n",
       "    .dataframe tbody tr th {\n",
       "        vertical-align: top;\n",
       "    }\n",
       "\n",
       "    .dataframe thead th {\n",
       "        text-align: right;\n",
       "    }\n",
       "</style>\n",
       "<table border=\"1\" class=\"dataframe\">\n",
       "  <thead>\n",
       "    <tr style=\"text-align: right;\">\n",
       "      <th></th>\n",
       "      <th>PL_Version</th>\n",
       "      <th>experiment</th>\n",
       "      <th>F1</th>\n",
       "      <th>pAcc</th>\n",
       "    </tr>\n",
       "  </thead>\n",
       "  <tbody>\n",
       "    <tr>\n",
       "      <th>0</th>\n",
       "      <td>NaN</td>\n",
       "      <td>SUPERVISED</td>\n",
       "      <td>0.2683</td>\n",
       "      <td>0.3453</td>\n",
       "    </tr>\n",
       "    <tr>\n",
       "      <th>1</th>\n",
       "      <td>V1</td>\n",
       "      <td>PRETRAIN</td>\n",
       "      <td>0.4382</td>\n",
       "      <td>0.5550</td>\n",
       "    </tr>\n",
       "    <tr>\n",
       "      <th>2</th>\n",
       "      <td>NaN</td>\n",
       "      <td>MovingWINDOW</td>\n",
       "      <td>0.4069</td>\n",
       "      <td>0.5262</td>\n",
       "    </tr>\n",
       "    <tr>\n",
       "      <th>3</th>\n",
       "      <td>V1</td>\n",
       "      <td>FINETUNE</td>\n",
       "      <td>0.4556</td>\n",
       "      <td>0.5970</td>\n",
       "    </tr>\n",
       "    <tr>\n",
       "      <th>4</th>\n",
       "      <td>V1</td>\n",
       "      <td>CLASSIFIER</td>\n",
       "      <td>0.3440</td>\n",
       "      <td>NaN</td>\n",
       "    </tr>\n",
       "  </tbody>\n",
       "</table>\n",
       "</div>"
      ]
     },
     "execution_count": 4,
     "metadata": {},
     "output_type": "execute_result"
    }
   ],
   "execution_count": 4
  },
  {
   "metadata": {
    "ExecuteTime": {
     "end_time": "2024-09-05T23:45:02.226331Z",
     "start_time": "2024-09-05T23:45:02.224848Z"
    }
   },
   "cell_type": "code",
   "source": "",
   "id": "3099fafdc14f06a4",
   "outputs": [],
   "execution_count": null
  },
  {
   "metadata": {
    "ExecuteTime": {
     "end_time": "2024-09-05T23:45:02.268069Z",
     "start_time": "2024-09-05T23:45:02.266486Z"
    }
   },
   "cell_type": "code",
   "source": "",
   "id": "ba7b6e14d9c64abb",
   "outputs": [],
   "execution_count": null
  },
  {
   "metadata": {
    "ExecuteTime": {
     "end_time": "2024-09-09T18:55:42.181315Z",
     "start_time": "2024-09-09T18:55:42.086310Z"
    }
   },
   "cell_type": "code",
   "source": [
    "\n",
    "\n",
    "results_f1 = {\n",
    "    r'Supervised' \"\\n\"r'(\\texttt{FT})': {'f1': data.iloc[0]['F1'], 'use_drones': True, 'use_pl': False,\n",
    "                                         'img': 'annotations/1.png'},\n",
    "    r'Pseudo-labels'\"\\n\"'(without voting)': {'f1': data.iloc[4]['F1'], 'use_drones': False, 'use_pl': False,},\n",
    "    r'Pseudo-labels'\"\\n\"'(with voting)': {'f1': data.iloc[2]['F1'], 'use_drones': False, 'use_pl': False,\n",
    "                                          'img': 'voting/1.png'},\n",
    "    r'Pre-trained'\"\\n\"r'(\\texttt{PT})': {'f1': data.iloc[1]['F1'], 'use_drones': False, 'use_pl': True,\n",
    "                                        'img': 'pt/1.png'},\n",
    "    r'Fine-tuned'\"\\n\"r'(\\texttt{PT+FT})': {'f1': data.iloc[3]['F1'], 'use_drones': True, 'use_pl': True,\n",
    "                                          'img': 'pt_ft/1.png'},\n",
    "}\n",
    "\n",
    "# results_f1 = {k: round(v, 4) * 100 for k, v in results_f1.items()}\n",
    "for k, v in results_f1.items():\n",
    "    results_f1[k]['f1'] = round(v['f1'], 4) * 100\n",
    "\n",
    "# width = 3.281\n",
    "width = 4.3\n",
    "height = width / 1.618\n",
    "height = 1.75\n",
    "fig, ax = plt.subplots(figsize=(width, height))\n",
    "for i, (k, v) in enumerate(results_f1.items()):\n",
    "    f1 = v['f1']\n",
    "    color = 'teal'\n",
    "    # if i == 0:\n",
    "    #     color = 'maroon'\n",
    "    if i == 1 or i == 2:\n",
    "        color = 'chocolate'\n",
    "    bar = ax.bar(k, f1, color=color, edgecolor=\"black\", zorder=1)\n",
    "    # move the bar label down\n",
    "    # bold text\n",
    "    ax.bar_label(bar, color=\"white\", zorder=2, padding=-12, fmt='%.2f')\n",
    "    #, backgroundcolor=[1, 1, 1, 0.5], padding=3,\n",
    "    # bbox=dict(facecolor=[1, 1, 1, 0.75], edgecolor='none', boxstyle='round,pad=0.2'))\n",
    "\n",
    "    fig.text(bar[0].get_x() + bar[0].get_width() / 2, 5, f\"Drone\", ha='center', va='bottom', color=\"white\", fontsize=15)\n",
    "\n",
    "    if v['use_drones']:\n",
    "        ax.text(bar[0].get_x() + bar[0].get_width() / 2, 3, r\"\\textbf{$D_{train}^{drone}$}%\", ha='center', va='bottom',\n",
    "                color=\"w\", fontsize=font_size)\n",
    "    if v['use_pl']:\n",
    "        ax.text(bar[0].get_x() + bar[0].get_width() / 2, 13, r\"\\textbf{$D^{pl}$}%\", ha='center', va='bottom',\n",
    "                color=\"w\", fontsize=font_size)\n",
    "\n",
    "ax.set_yticks(range(0, 45, 10))\n",
    "ax.grid(True, axis=\"y\", color=\"gray\", zorder=0, linestyle=\"--\")\n",
    "# ax.set_ylim(0, 50)\n",
    "ax.set_axisbelow(True)\n",
    "ax.set_ylabel(r\"$F1$ Score on \\hspace{2.2em} (\\%)\")\n",
    "ax.text(-0.085, 0.69, r\"$D_{test}^{drone}$\", fontsize=font_size, color=\"blue\", transform=ax.transAxes, ha='center',\n",
    "        va='center', rotation=90)\n",
    "\n",
    "fig.subplots_adjust(top=0.99, bottom=0.23, left=0.095, right=0.99, wspace=0.3)\n",
    "fig.set_size_inches(width, 0.8 * height)\n",
    "\n",
    "fig.savefig('results/M2F_F1.pdf')\n",
    "fig.savefig('results/M2F_F1.png')\n"
   ],
   "id": "c3a48050cba10de",
   "outputs": [],
   "execution_count": 41
  }
 ],
 "metadata": {
  "kernelspec": {
   "display_name": "Python 3",
   "language": "python",
   "name": "python3"
  },
  "language_info": {
   "codemirror_mode": {
    "name": "ipython",
    "version": 2
   },
   "file_extension": ".py",
   "mimetype": "text/x-python",
   "name": "python",
   "nbconvert_exporter": "python",
   "pygments_lexer": "ipython2",
   "version": "2.7.6"
  }
 },
 "nbformat": 4,
 "nbformat_minor": 5
}
