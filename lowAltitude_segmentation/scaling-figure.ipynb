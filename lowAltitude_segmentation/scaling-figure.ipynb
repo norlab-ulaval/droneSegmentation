{
 "cells": [
  {
   "metadata": {
    "ExecuteTime": {
     "end_time": "2024-09-07T14:39:00.630966Z",
     "start_time": "2024-09-07T14:39:00.628818Z"
    }
   },
   "cell_type": "code",
   "source": [
    "import matplotlib\n",
    "import matplotlib.pyplot as plt\n",
    "import pandas as pd\n",
    "from matplotlib import rc\n",
    "\n",
    "from lowAltitude_classification.gsd_utils import papermode"
   ],
   "id": "90eafff770790ed1",
   "outputs": [],
   "execution_count": 112
  },
  {
   "metadata": {
    "ExecuteTime": {
     "end_time": "2024-09-07T14:39:00.637636Z",
     "start_time": "2024-09-07T14:39:00.635687Z"
    }
   },
   "cell_type": "code",
   "source": [
    "font_size = 8\n",
    "papermode(plt, font_size, has_latex=True)\n",
    "rc('text.latex', preamble=r'\\usepackage{color}')\n",
    "matplotlib.use('ps')"
   ],
   "id": "328506faec50ff97",
   "outputs": [],
   "execution_count": 113
  },
  {
   "cell_type": "code",
   "id": "initial_id",
   "metadata": {
    "collapsed": true,
    "ExecuteTime": {
     "end_time": "2024-09-07T22:39:06.997764Z",
     "start_time": "2024-09-07T22:39:06.981166Z"
    }
   },
   "source": [
    "# data = pd.read_csv('results/scaling-test-METRICS.csv')\n",
    "data = pd.read_csv('results/scaling-test-METRICS_version2.csv')\n",
    "\n",
    "num_images = 143065\n",
    "data['F1'] = data['F1'] * 100\n",
    "\n",
    "factors = []\n",
    "fractions = []\n",
    "for idx, row in data.iterrows():\n",
    "    fraction = str(row['factor']).replace('.', '/')\n",
    "    factor = eval(fraction)\n",
    "    factors.append(factor)\n",
    "    fractions.append(fraction)\n",
    "data['factor'] = factors\n",
    "data['fraction'] = fractions\n",
    "\n",
    "data['num_images'] = (num_images * data['factor']).astype(int)\n",
    "data = data.sort_values('num_images')\n",
    "\n",
    "data"
   ],
   "outputs": [
    {
     "data": {
      "text/plain": [
       "     factor     F1    pAcc fraction  num_images\n",
       "5  0.001953  20.95  0.3403    1/512         279\n",
       "1  0.003906  27.97  0.4052    1/256         558\n",
       "4  0.125000  40.34  0.4777      1/8       17883\n",
       "3  0.250000  35.00  0.4563      1/4       35766\n",
       "2  0.500000  37.63  0.4736      1/2       71532\n",
       "6  0.750000  38.48  0.4678      3/4      107298\n",
       "0  1.000000  43.82  0.5550      1/1      143065"
      ],
      "text/html": [
       "<div>\n",
       "<style scoped>\n",
       "    .dataframe tbody tr th:only-of-type {\n",
       "        vertical-align: middle;\n",
       "    }\n",
       "\n",
       "    .dataframe tbody tr th {\n",
       "        vertical-align: top;\n",
       "    }\n",
       "\n",
       "    .dataframe thead th {\n",
       "        text-align: right;\n",
       "    }\n",
       "</style>\n",
       "<table border=\"1\" class=\"dataframe\">\n",
       "  <thead>\n",
       "    <tr style=\"text-align: right;\">\n",
       "      <th></th>\n",
       "      <th>factor</th>\n",
       "      <th>F1</th>\n",
       "      <th>pAcc</th>\n",
       "      <th>fraction</th>\n",
       "      <th>num_images</th>\n",
       "    </tr>\n",
       "  </thead>\n",
       "  <tbody>\n",
       "    <tr>\n",
       "      <th>5</th>\n",
       "      <td>0.001953</td>\n",
       "      <td>20.95</td>\n",
       "      <td>0.3403</td>\n",
       "      <td>1/512</td>\n",
       "      <td>279</td>\n",
       "    </tr>\n",
       "    <tr>\n",
       "      <th>1</th>\n",
       "      <td>0.003906</td>\n",
       "      <td>27.97</td>\n",
       "      <td>0.4052</td>\n",
       "      <td>1/256</td>\n",
       "      <td>558</td>\n",
       "    </tr>\n",
       "    <tr>\n",
       "      <th>4</th>\n",
       "      <td>0.125000</td>\n",
       "      <td>40.34</td>\n",
       "      <td>0.4777</td>\n",
       "      <td>1/8</td>\n",
       "      <td>17883</td>\n",
       "    </tr>\n",
       "    <tr>\n",
       "      <th>3</th>\n",
       "      <td>0.250000</td>\n",
       "      <td>35.00</td>\n",
       "      <td>0.4563</td>\n",
       "      <td>1/4</td>\n",
       "      <td>35766</td>\n",
       "    </tr>\n",
       "    <tr>\n",
       "      <th>2</th>\n",
       "      <td>0.500000</td>\n",
       "      <td>37.63</td>\n",
       "      <td>0.4736</td>\n",
       "      <td>1/2</td>\n",
       "      <td>71532</td>\n",
       "    </tr>\n",
       "    <tr>\n",
       "      <th>6</th>\n",
       "      <td>0.750000</td>\n",
       "      <td>38.48</td>\n",
       "      <td>0.4678</td>\n",
       "      <td>3/4</td>\n",
       "      <td>107298</td>\n",
       "    </tr>\n",
       "    <tr>\n",
       "      <th>0</th>\n",
       "      <td>1.000000</td>\n",
       "      <td>43.82</td>\n",
       "      <td>0.5550</td>\n",
       "      <td>1/1</td>\n",
       "      <td>143065</td>\n",
       "    </tr>\n",
       "  </tbody>\n",
       "</table>\n",
       "</div>"
      ]
     },
     "execution_count": 149,
     "metadata": {},
     "output_type": "execute_result"
    }
   ],
   "execution_count": 149
  },
  {
   "metadata": {
    "ExecuteTime": {
     "end_time": "2024-09-07T22:41:41.921194Z",
     "start_time": "2024-09-07T22:41:41.539593Z"
    }
   },
   "cell_type": "code",
   "source": [
    "width = 3.281\n",
    "height = width / 1.618\n",
    "height = 1.8\n",
    "fig, ax = plt.subplots(figsize=(width, height))\n",
    "\n",
    "ax.plot(data['num_images'], data['F1'], color='teal')\n",
    "ax.set_xlabel('Training Set Size (\\# images)')\n",
    "ax.set_ylabel(r\"$F1$ Score on \\hspace{2.2em} (\\%)\")\n",
    "ax.text(-0.113, 0.715, r\"$D_{test}^{drone}$\", fontsize=font_size, color=\"blue\", transform=ax.transAxes, ha='center',\n",
    "        va='center', rotation=90)\n",
    "ax.set_xscale('log')\n",
    "\n",
    "labels = []\n",
    "for n, f in zip(data['num_images'], data['fraction']):\n",
    "    # labels.append(n)\n",
    "    if f == '1/1':\n",
    "        labels.append(rf'{n}'\"\\n\"'$(1)$')\n",
    "    else:\n",
    "        labels.append(rf'{n}'\"\\n\"rf'$\\left({f}\\right)$')\n",
    "# ax.set_yticks(range(34, 46, 2))\n",
    "ax.set_xticks(data['num_images'], labels, rotation=45, ha='right')\n",
    "ax.grid(True, which=\"major\", ls=\"--\", color='gray')\n",
    "\n",
    "fig.subplots_adjust(top=0.965, bottom=0.334, left=0.12, right=0.99)\n",
    "fig.set_size_inches(width, 0.8 * height)\n",
    "\n",
    "fig.savefig('results/M2F_scaling.pdf')\n",
    "fig.savefig('results/M2F_scaling.png')\n",
    "\n",
    "fig.show()"
   ],
   "id": "fcf37d34617b963a",
   "outputs": [
    {
     "name": "stderr",
     "output_type": "stream",
     "text": [
      "/tmp/ipykernel_7445/1242238419.py:30: UserWarning: FigureCanvasPS is non-interactive, and thus cannot be shown\n",
      "  fig.show()\n"
     ]
    }
   ],
   "execution_count": 157
  }
 ],
 "metadata": {
  "kernelspec": {
   "display_name": "Python 3",
   "language": "python",
   "name": "python3"
  },
  "language_info": {
   "codemirror_mode": {
    "name": "ipython",
    "version": 2
   },
   "file_extension": ".py",
   "mimetype": "text/x-python",
   "name": "python",
   "nbconvert_exporter": "python",
   "pygments_lexer": "ipython2",
   "version": "2.7.6"
  }
 },
 "nbformat": 4,
 "nbformat_minor": 5
}
