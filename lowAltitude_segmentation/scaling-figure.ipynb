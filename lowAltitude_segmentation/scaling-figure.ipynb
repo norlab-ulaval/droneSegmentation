{
 "cells": [
  {
   "metadata": {
    "ExecuteTime": {
     "end_time": "2024-09-06T02:10:42.052168Z",
     "start_time": "2024-09-06T02:10:42.048101Z"
    }
   },
   "cell_type": "code",
   "source": [
    "import matplotlib\n",
    "import matplotlib.pyplot as plt\n",
    "import pandas as pd\n",
    "from matplotlib import rc\n",
    "\n",
    "from lowAltitude_classification.gsd_utils import papermode"
   ],
   "id": "90eafff770790ed1",
   "outputs": [],
   "execution_count": 15
  },
  {
   "metadata": {
    "ExecuteTime": {
     "end_time": "2024-09-06T02:08:30.345095Z",
     "start_time": "2024-09-06T02:08:30.309369Z"
    }
   },
   "cell_type": "code",
   "source": [
    "font_size = 8\n",
    "papermode(plt, font_size, has_latex=True)\n",
    "rc('text.latex', preamble=r'\\usepackage{color}')\n",
    "matplotlib.use('ps')"
   ],
   "id": "328506faec50ff97",
   "outputs": [],
   "execution_count": 3
  },
  {
   "cell_type": "code",
   "id": "initial_id",
   "metadata": {
    "collapsed": true,
    "ExecuteTime": {
     "end_time": "2024-09-06T02:14:56.611523Z",
     "start_time": "2024-09-06T02:14:56.604009Z"
    }
   },
   "source": [
    "data = pd.read_csv('results/scaling-test-METRICS.csv')\n",
    "num_images = 143065\n",
    "data['num_images'] = (num_images / data['factor']).astype(int)\n",
    "data = data.sort_values('num_images')\n",
    "data['F1'] = data['F1'] * 100\n",
    "data"
   ],
   "outputs": [
    {
     "data": {
      "text/plain": [
       "   factor     F1    pAcc  num_images\n",
       "6      64  34.89  0.4703        2235\n",
       "2      32  36.39  0.4789        4470\n",
       "0      16  37.56  0.4796        8941\n",
       "5       8  37.27  0.4819       17883\n",
       "1       4  38.15  0.4821       35766\n",
       "4       2  37.21  0.4764       71532\n",
       "3       1  43.82  0.5550      143065"
      ],
      "text/html": [
       "<div>\n",
       "<style scoped>\n",
       "    .dataframe tbody tr th:only-of-type {\n",
       "        vertical-align: middle;\n",
       "    }\n",
       "\n",
       "    .dataframe tbody tr th {\n",
       "        vertical-align: top;\n",
       "    }\n",
       "\n",
       "    .dataframe thead th {\n",
       "        text-align: right;\n",
       "    }\n",
       "</style>\n",
       "<table border=\"1\" class=\"dataframe\">\n",
       "  <thead>\n",
       "    <tr style=\"text-align: right;\">\n",
       "      <th></th>\n",
       "      <th>factor</th>\n",
       "      <th>F1</th>\n",
       "      <th>pAcc</th>\n",
       "      <th>num_images</th>\n",
       "    </tr>\n",
       "  </thead>\n",
       "  <tbody>\n",
       "    <tr>\n",
       "      <th>6</th>\n",
       "      <td>64</td>\n",
       "      <td>34.89</td>\n",
       "      <td>0.4703</td>\n",
       "      <td>2235</td>\n",
       "    </tr>\n",
       "    <tr>\n",
       "      <th>2</th>\n",
       "      <td>32</td>\n",
       "      <td>36.39</td>\n",
       "      <td>0.4789</td>\n",
       "      <td>4470</td>\n",
       "    </tr>\n",
       "    <tr>\n",
       "      <th>0</th>\n",
       "      <td>16</td>\n",
       "      <td>37.56</td>\n",
       "      <td>0.4796</td>\n",
       "      <td>8941</td>\n",
       "    </tr>\n",
       "    <tr>\n",
       "      <th>5</th>\n",
       "      <td>8</td>\n",
       "      <td>37.27</td>\n",
       "      <td>0.4819</td>\n",
       "      <td>17883</td>\n",
       "    </tr>\n",
       "    <tr>\n",
       "      <th>1</th>\n",
       "      <td>4</td>\n",
       "      <td>38.15</td>\n",
       "      <td>0.4821</td>\n",
       "      <td>35766</td>\n",
       "    </tr>\n",
       "    <tr>\n",
       "      <th>4</th>\n",
       "      <td>2</td>\n",
       "      <td>37.21</td>\n",
       "      <td>0.4764</td>\n",
       "      <td>71532</td>\n",
       "    </tr>\n",
       "    <tr>\n",
       "      <th>3</th>\n",
       "      <td>1</td>\n",
       "      <td>43.82</td>\n",
       "      <td>0.5550</td>\n",
       "      <td>143065</td>\n",
       "    </tr>\n",
       "  </tbody>\n",
       "</table>\n",
       "</div>"
      ]
     },
     "execution_count": 38,
     "metadata": {},
     "output_type": "execute_result"
    }
   ],
   "execution_count": 38
  },
  {
   "metadata": {
    "ExecuteTime": {
     "end_time": "2024-09-06T02:39:05.189558Z",
     "start_time": "2024-09-06T02:39:05.048900Z"
    }
   },
   "cell_type": "code",
   "source": [
    "width = 3.281\n",
    "height = width / 1.618\n",
    "height = 2.3\n",
    "fig, ax = plt.subplots(figsize=(width, height))\n",
    "\n",
    "ax.plot(data['num_images'], data['F1'], color='teal')\n",
    "ax.set_xlabel('Training Set Size (\\# images)')\n",
    "ax.set_ylabel(r\"$F1$ Score on \\hspace{2.6em} (\\%)\")\n",
    "ax.text(-0.115, 0.65, r\"$D_{test}^{drone}$\", fontsize=font_size, color=\"blue\", transform=ax.transAxes, ha='center',\n",
    "        va='center', rotation=90)\n",
    "ax.set_xscale('log')\n",
    "\n",
    "labels = []\n",
    "for n, f in zip(data['num_images'], data['factor']):\n",
    "    if f == 1:\n",
    "        labels.append(rf'{n}'\"\\n\"'$(1)$')\n",
    "    else:\n",
    "        labels.append(rf'{n}'\"\\n\"rf'$\\left(\\frac{{1}}{{{f}}}\\right)$')\n",
    "ax.set_xticks(data['num_images'], labels)#, rotation=45, ha='right')\n",
    "ax.grid(True, which=\"major\", ls=\"--\", color='gray')\n",
    "\n",
    "fig.subplots_adjust(top=0.99, bottom=0.31, left=0.15, right=0.98, wspace=0.3)\n",
    "fig.set_size_inches(width, 0.8 * height)\n",
    "\n",
    "fig.savefig('results/M2F_scaling.pdf')\n",
    "fig.savefig('results/M2F_scaling.png')\n",
    "\n",
    "fig.show()"
   ],
   "id": "fcf37d34617b963a",
   "outputs": [
    {
     "name": "stderr",
     "output_type": "stream",
     "text": [
      "/tmp/ipykernel_264588/3813095727.py:28: UserWarning: FigureCanvasPS is non-interactive, and thus cannot be shown\n",
      "  fig.show()\n"
     ]
    }
   ],
   "execution_count": 63
  }
 ],
 "metadata": {
  "kernelspec": {
   "display_name": "Python 3",
   "language": "python",
   "name": "python3"
  },
  "language_info": {
   "codemirror_mode": {
    "name": "ipython",
    "version": 2
   },
   "file_extension": ".py",
   "mimetype": "text/x-python",
   "name": "python",
   "nbconvert_exporter": "python",
   "pygments_lexer": "ipython2",
   "version": "2.7.6"
  }
 },
 "nbformat": 4,
 "nbformat_minor": 5
}
