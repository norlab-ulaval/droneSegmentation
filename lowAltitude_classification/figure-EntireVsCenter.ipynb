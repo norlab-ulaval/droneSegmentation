{
 "cells": [
  {
   "cell_type": "code",
   "execution_count": null,
   "metadata": {
    "ExecuteTime": {
     "end_time": "2024-09-04T20:46:24.865124Z",
     "start_time": "2024-09-04T20:46:24.358955Z"
    }
   },
   "outputs": [],
   "source": [
    "import matplotlib as mpl\n",
    "import numpy as np\n",
    "import pandas as pd\n",
    "\n",
    "mpl.use(\"pdf\")\n",
    "import matplotlib.pyplot as plt\n",
    "from gsd_utils import papermode\n",
    "\n",
    "papermode(plt=plt, size=8, has_latex=True)\n",
    "\n",
    "# width as measured in inkscape\n",
    "width = 3.281\n",
    "height = width / 1.618\n"
   ]
  },
  {
   "cell_type": "code",
   "execution_count": null,
   "metadata": {
    "ExecuteTime": {
     "end_time": "2024-09-04T20:46:24.875590Z",
     "start_time": "2024-09-04T20:46:24.865883Z"
    }
   },
   "outputs": [],
   "source": [
    "metrics_test_df = pd.read_csv(\n",
    "    \"results/New_phase_2/center/test/phase2-test-center.csv\"\n",
    ")\n",
    "votes_test_df = pd.read_csv(\n",
    "    \"results/avg_voters/test/Votes_test.csv\"\n",
    ")\n",
    "metrics_val_df = pd.read_csv(\n",
    "    \"results/New_phase_2/center/val/phase2-val-center.csv\"\n",
    ")\n",
    "votes_val_df = pd.read_csv(\n",
    "    \"results/avg_voters/val/Votes_val.csv\"\n",
    ")\n",
    "\n",
    "merged_test_df = pd.merge(\n",
    "    metrics_test_df,\n",
    "    votes_test_df,\n",
    "    how=\"outer\",\n",
    "    on=[\"Central Size\", \"Patch Size\", \"Step Size\", \"Pad Size\"],\n",
    ")\n",
    "merged_val_df = pd.merge(\n",
    "    metrics_val_df,\n",
    "    votes_val_df,\n",
    "    how=\"outer\",\n",
    "    on=[\"Central Size\", \"Patch Size\", \"Step Size\", \"Pad Size\"],\n",
    ")\n",
    "\n",
    "filtered_val = merged_val_df[\n",
    "    (merged_val_df[\"Pad Size\"] == 184) & (merged_val_df[\"Step Size\"] == 27)\n",
    "]\n",
    "filtered_test = merged_test_df[\n",
    "    (merged_test_df[\"Pad Size\"] == 184) & (merged_test_df[\"Step Size\"] == 27)\n",
    "]\n",
    "\n",
    "filtered_test.F1 *= 100\n",
    "filtered_val.F1 *= 100\n"
   ]
  },
  {
   "cell_type": "code",
   "execution_count": null,
   "metadata": {
    "ExecuteTime": {
     "end_time": "2024-09-04T20:46:27.722205Z",
     "start_time": "2024-09-04T20:46:24.876059Z"
    }
   },
   "outputs": [],
   "source": [
    "fig, ax = plt.subplots()\n",
    "\n",
    "bar_width = 0.45\n",
    "labels = filtered_val[\"Central Size\"].astype(str)\n",
    "x1 = np.arange(len(labels))\n",
    "x2 = x1 + bar_width\n",
    "\n",
    "bars1 = ax.bar(\n",
    "    x1,\n",
    "    filtered_val.F1,\n",
    "    width=bar_width,\n",
    "    edgecolor=\"black\",\n",
    "    color=\"xkcd:irish green\",\n",
    "    label=r\"$D_{val}^{drone}$\",\n",
    ")\n",
    "bars2 = ax.bar(\n",
    "    x2,\n",
    "    filtered_test.F1,\n",
    "    width=bar_width,\n",
    "    edgecolor=\"black\",\n",
    "    color=\"xkcd:lime\",\n",
    "    label=r\"$D_{test}^{drone}$\",\n",
    ")\n",
    "\n",
    "ax.bar_label(bars1, padding=2, fontsize=\"x-small\", color=\"darkgreen\", zorder=3)\n",
    "ax.bar_label(bars2, padding=2, fontsize=\"x-small\", color=\"darkgreen\", zorder=3)\n",
    "\n",
    "ax.set_xlabel(\"Central Window Size\")\n",
    "ax.xaxis.set_label_coords(0.5, -0.2)\n",
    "\n",
    "ax.set_ylabel(\"$F1$ score (\\%)\")\n",
    "ax.yaxis.set_label_coords(-0.12, 0.5)\n",
    "\n",
    "ax.set_xticks(x1 + (bar_width / 2), labels)\n",
    "\n",
    "# ax.set_title(r\"$D_{val}^{drone}$\", color=\"b\", x=0.75, y=0.7, backgroundcolor=\"white\")\n",
    "# ax.set_title(r\"$D_{test}^{drone}$\", color=\"b\", x=0.75, y=0.7, backgroundcolor=\"white\")\n",
    "\n",
    "ylim = (\n",
    "    min(filtered_val.F1.min(), filtered_test.F1.min()) - 0.5,\n",
    "    max(filtered_val.F1.max(), filtered_test.F1.max()) + 0.5,\n",
    ")\n",
    "ax.set_ylim(ylim)\n",
    "\n",
    "# ax1.grid(True, axis=\"y\", color=\"k\", zorder=0)\n",
    "# ax2.grid(True, axis=\"y\", color=\"k\", zorder=0)\n",
    "\n",
    "ax.yaxis.set_major_locator(plt.MultipleLocator(0.5))\n",
    "\n",
    "ax.legend(\n",
    "    ncols=2,\n",
    "    loc=\"lower center\",\n",
    "    bbox_to_anchor=(0.5, 1),\n",
    "    labelcolor=\"b\",\n",
    "    # borderaxespad=0.2,\n",
    ")\n",
    "\n",
    "fig.subplots_adjust(top=0.82, bottom=0.22, left=0.15, right=0.99, wspace=0.3)\n",
    "fig.set_size_inches(width, 0.8 * height)\n",
    "\n",
    "fig.savefig(\"figs/phase2/phase2-val-test-EntireVsCenter.png\")\n",
    "fig.savefig(\"figs/phase2/phase2-val-test-EntireVsCenter.pdf\")"
   ]
  }
 ],
 "metadata": {
  "kernelspec": {
   "display_name": ".venv",
   "language": "python",
   "name": "python3"
  },
  "language_info": {
   "codemirror_mode": {
    "name": "ipython",
    "version": 3
   },
   "file_extension": ".py",
   "mimetype": "text/x-python",
   "name": "python",
   "nbconvert_exporter": "python",
   "pygments_lexer": "ipython3",
   "version": "3.10.12"
  }
 },
 "nbformat": 4,
 "nbformat_minor": 2
}
