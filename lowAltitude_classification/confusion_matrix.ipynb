{
 "cells": [
  {
   "cell_type": "code",
   "id": "initial_id",
   "metadata": {
    "collapsed": true,
    "ExecuteTime": {
     "end_time": "2024-08-20T23:21:59.067231Z",
     "start_time": "2024-08-20T23:21:59.065034Z"
    }
   },
   "source": [
    "import numpy as np\n",
    "from sklearn.metrics import ConfusionMatrixDisplay\n",
    "import os\n",
    "import cv2\n",
    "# from confustion_matrix_plot import load_images_from_folder, load_label_mapping\n",
    "from lowAltitude_classification import confustion_matrix_plot\n"
   ],
   "outputs": [],
   "execution_count": 40
  },
  {
   "metadata": {
    "ExecuteTime": {
     "end_time": "2024-08-20T23:21:59.125829Z",
     "start_time": "2024-08-20T23:21:59.120055Z"
    }
   },
   "cell_type": "code",
   "source": [
    "annotation_folder = '/home/kamyar/Documents/Train-val_Annotated_masks'\n",
    "prediction_folder = '/home/kamyar/Documents/Train-val_Annotated_Predictions/52_Final_5e/'\n",
    "label_to_id_path = 'label_to_id.txt'"
   ],
   "id": "bcd93289171118df",
   "outputs": [],
   "execution_count": 41
  },
  {
   "metadata": {
    "ExecuteTime": {
     "end_time": "2024-08-20T23:21:59.937251Z",
     "start_time": "2024-08-20T23:21:59.177675Z"
    }
   },
   "cell_type": "code",
   "source": [
    "def load_images_from_folder(folder, color_mode=cv2.IMREAD_GRAYSCALE):\n",
    "    images = {}\n",
    "    for filename in os.listdir(folder):\n",
    "        img = cv2.imread(os.path.join(folder, filename), color_mode)\n",
    "        if img is not None:\n",
    "            images[filename] = np.array(img)\n",
    "    return images\n",
    "\n",
    "predictions = load_images_from_folder(prediction_folder)\n",
    "annotations = load_images_from_folder(annotation_folder)\n",
    "\n",
    "\n",
    "all_annotations = np.concatenate([annotations[key].flatten() for key in annotations.keys()])\n",
    "all_predictions = np.concatenate([predictions[key].flatten() for key in predictions.keys()])\n",
    "\n",
    "valid_mask = all_predictions != 1\n",
    "filtered_annotations = all_annotations[valid_mask]\n",
    "filtered_predictions = all_predictions[valid_mask]\n",
    "correct_pixels = np.sum(filtered_annotations == filtered_predictions)\n",
    "total_pixels = filtered_annotations.size\n",
    "pixel_accuracy = correct_pixels / total_pixels if total_pixels > 0 else 0.0\n",
    "print(pixel_accuracy)\n",
    "\n",
    "\n",
    "\n",
    "# unique_labels = np.unique(np.concatenate([all_annotations, all_predictions]))\n",
    "# filtered_label_mapping = {i: label_mapping[i] for i in unique_labels if i in label_mapping}\n",
    "# \n",
    "# cm = confusion_matrix(all_annotations, all_predictions, labels=list(filtered_label_mapping.keys()), normalize='true')\n",
    "# class_labels = [filtered_label_mapping[i] for i in filtered_label_mapping.keys()]\n",
    "\n",
    "# correct_pixels = np.diag(cm)\n",
    "# total_pixels = np.sum(cm, axis=1)\n",
    "#\n",
    "# pixel_accuracy = np.mean(correct_pixels / total_pixels)"
   ],
   "id": "2b0b114a444b277d",
   "outputs": [
    {
     "name": "stdout",
     "output_type": "stream",
     "text": [
      "0.0894678512687953\n"
     ]
    }
   ],
   "execution_count": 42
  },
  {
   "metadata": {
    "ExecuteTime": {
     "end_time": "2024-08-20T23:21:59.946739Z",
     "start_time": "2024-08-20T23:21:59.943755Z"
    }
   },
   "cell_type": "code",
   "source": "all_annotations, all_predictions",
   "id": "8f325b9195d28b65",
   "outputs": [
    {
     "data": {
      "text/plain": [
       "(array([14, 14, 14, ..., 10, 10, 10], dtype=uint8),\n",
       " array([0, 0, 0, ..., 0, 0, 0], dtype=uint8))"
      ]
     },
     "execution_count": 43,
     "metadata": {},
     "output_type": "execute_result"
    }
   ],
   "execution_count": 43
  },
  {
   "metadata": {
    "ExecuteTime": {
     "end_time": "2024-08-20T23:22:00.010736Z",
     "start_time": "2024-08-20T23:21:59.996733Z"
    }
   },
   "cell_type": "code",
   "source": [
    "disp = ConfusionMatrixDisplay.from_predictions(all_annotations, all_predictions, cmap=\"Blues\", normalize=\"true\",\n",
    "                                               display_labels=class_labels)\n",
    "fig = disp.ax_.get_figure()\n",
    "ax = disp.ax_\n",
    "fig.set_figwidth(15)\n",
    "fig.set_figheight(15)\n",
    "ax.set_xticks(ax.get_xticks(), ax.get_xticklabels(), rotation=90)\n"
   ],
   "id": "f6060ee39592ca32",
   "outputs": [
    {
     "ename": "NameError",
     "evalue": "name 'class_labels' is not defined",
     "output_type": "error",
     "traceback": [
      "\u001B[0;31m---------------------------------------------------------------------------\u001B[0m",
      "\u001B[0;31mNameError\u001B[0m                                 Traceback (most recent call last)",
      "Cell \u001B[0;32mIn[44], line 2\u001B[0m\n\u001B[1;32m      1\u001B[0m disp \u001B[38;5;241m=\u001B[39m ConfusionMatrixDisplay\u001B[38;5;241m.\u001B[39mfrom_predictions(all_annotations, all_predictions, cmap\u001B[38;5;241m=\u001B[39m\u001B[38;5;124m\"\u001B[39m\u001B[38;5;124mBlues\u001B[39m\u001B[38;5;124m\"\u001B[39m, normalize\u001B[38;5;241m=\u001B[39m\u001B[38;5;124m\"\u001B[39m\u001B[38;5;124mtrue\u001B[39m\u001B[38;5;124m\"\u001B[39m,\n\u001B[0;32m----> 2\u001B[0m                                                display_labels\u001B[38;5;241m=\u001B[39m\u001B[43mclass_labels\u001B[49m)\n\u001B[1;32m      3\u001B[0m fig \u001B[38;5;241m=\u001B[39m disp\u001B[38;5;241m.\u001B[39max_\u001B[38;5;241m.\u001B[39mget_figure()\n\u001B[1;32m      4\u001B[0m ax \u001B[38;5;241m=\u001B[39m disp\u001B[38;5;241m.\u001B[39max_\n",
      "\u001B[0;31mNameError\u001B[0m: name 'class_labels' is not defined"
     ]
    }
   ],
   "execution_count": 44
  }
 ],
 "metadata": {
  "kernelspec": {
   "display_name": "Python 3",
   "language": "python",
   "name": "python3"
  },
  "language_info": {
   "codemirror_mode": {
    "name": "ipython",
    "version": 2
   },
   "file_extension": ".py",
   "mimetype": "text/x-python",
   "name": "python",
   "nbconvert_exporter": "python",
   "pygments_lexer": "ipython2",
   "version": "2.7.6"
  }
 },
 "nbformat": 4,
 "nbformat_minor": 5
}
