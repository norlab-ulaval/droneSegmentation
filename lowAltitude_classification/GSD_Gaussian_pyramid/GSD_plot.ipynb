{
 "cells": [
  {
   "cell_type": "code",
   "id": "initial_id",
   "metadata": {
    "collapsed": true,
    "ExecuteTime": {
     "end_time": "2024-12-20T15:53:04.157670Z",
     "start_time": "2024-12-20T15:53:03.780787Z"
    }
   },
   "source": [
    "from pathlib import Path\n",
    "\n",
    "import matplotlib as mpl\n",
    "\n",
    "mpl.use(\"pdf\")\n",
    "import matplotlib.pyplot as plt\n",
    "import numpy as np\n",
    "import pandas as pd\n",
    "from lowAltitude_classification.gsd_utils import papermode\n",
    "\n",
    "papermode(plt=plt, size=12)\n",
    "\n",
    "# width as measured in inkscape\n",
    "mm = 1/25.4\n",
    "width0 = 138.6 * mm\n",
    "width = width0\n",
    "height = width / 1.618"
   ],
   "outputs": [],
   "execution_count": 2
  },
  {
   "metadata": {
    "ExecuteTime": {
     "end_time": "2024-12-20T15:53:04.176602Z",
     "start_time": "2024-12-20T15:53:04.161690Z"
    }
   },
   "cell_type": "code",
   "source": [
    "import pandas as pd\n",
    "import matplotlib.pyplot as plt\n",
    "\n",
    "file_path = 'GSD_Gaussian_pyramid.csv'  \n",
    "df = pd.read_csv(file_path)\n",
    "\n",
    "df['sigma_numeric'] = df['sigma'].str.extract('(\\d+)').astype(int)\n",
    "\n",
    "mapping = { 0: 1.25,\n",
    "            1: 2.5,\n",
    "            2: 5,\n",
    "            4: 10,\n",
    "            8: 20\n",
    "}\n",
    "df['GSD'] = df['sigma_numeric'].map(mapping)\n",
    "df = df.drop(index=3)\n",
    "print(df)\n"
   ],
   "id": "2b369c3c69c73885",
   "outputs": [
    {
     "name": "stdout",
     "output_type": "stream",
     "text": [
      "     sigma      F1    pAcc  sigma_numeric    GSD\n",
      "0  sigma_4  0.3460  0.4527              4  10.00\n",
      "1  sigma_0  0.4317  0.5368              0   1.25\n",
      "2  sigma_8  0.1301  0.1999              8  20.00\n",
      "4  sigma_2  0.4234  0.5334              2   5.00\n",
      "5  sigma_1  0.4351  0.5453              1   2.50\n"
     ]
    }
   ],
   "execution_count": 3
  },
  {
   "metadata": {
    "ExecuteTime": {
     "end_time": "2024-12-20T15:53:47.419633Z",
     "start_time": "2024-12-20T15:53:47.121477Z"
    }
   },
   "cell_type": "code",
   "source": [
    "from scipy.interpolate import interp1d\n",
    "\n",
    "df = df.sort_values(by='sigma_numeric')\n",
    "x_positions = np.linspace(0, len(df) - 1, len(df))\n",
    "\n",
    "interp_F1 = interp1d(np.arange(len(df)), df['F1'] * 100, kind='linear')\n",
    "interp_pAcc = interp1d(np.arange(len(df)), df['pAcc'] * 100, kind='linear')\n",
    "\n",
    "even_F1 = interp_F1(x_positions)\n",
    "even_pAcc = interp_pAcc(x_positions)\n",
    "\n",
    "fig, ax = plt.subplots()\n",
    "ax.plot(x_positions, even_F1, marker='o', label='$F1$ Score', linestyle='-', linewidth=2,\n",
    "    color=\"xkcd:irish green\")\n",
    "ax.plot(x_positions, even_pAcc, marker='o', label='Pixel Accuracy', linestyle=':', linewidth=2,\n",
    "    color=\"xkcd:irish green\",)\n",
    "\n",
    "ax.set_xlabel(\"Standard Deviation of the Gaussian Blur (\\(\\sigma\\))\")\n",
    "ax.set_ylabel(\"$F1$ score on \\\\hspace{2.5em} (\\%)\")\n",
    "ax.yaxis.set_label_coords(-0.08, 0.5)\n",
    "ax.text(-0.0795, 0.570, r\"$D_{test}^{drone}$\", fontsize=12, color=\"blue\", transform=ax.transAxes, ha='right',\n",
    "        va='center', rotation=90)\n",
    "ax.legend()\n",
    "ax.grid(True)\n",
    "ax.set_xticks(x_positions)\n",
    "ax.set_xticklabels(df['sigma_numeric'])\n",
    "\n",
    "fig.tight_layout()\n",
    "\n",
    "fig.savefig('GSD_plot.png')\n",
    "fig.savefig('GSD_plot.pdf')"
   ],
   "id": "e27de9244c2072a1",
   "outputs": [],
   "execution_count": 5
  }
 ],
 "metadata": {
  "kernelspec": {
   "display_name": "Python 3",
   "language": "python",
   "name": "python3"
  },
  "language_info": {
   "codemirror_mode": {
    "name": "ipython",
    "version": 2
   },
   "file_extension": ".py",
   "mimetype": "text/x-python",
   "name": "python",
   "nbconvert_exporter": "python",
   "pygments_lexer": "ipython2",
   "version": "2.7.6"
  }
 },
 "nbformat": 4,
 "nbformat_minor": 5
}
