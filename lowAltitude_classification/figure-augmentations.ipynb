{
 "cells": [
  {
   "cell_type": "code",
   "execution_count": null,
   "metadata": {},
   "outputs": [],
   "source": [
    "from pathlib import Path\n",
    "\n",
    "import matplotlib as mpl\n",
    "\n",
    "mpl.use(\"pdf\")\n",
    "import matplotlib.pyplot as plt\n",
    "import matplotlib.ticker as mtick\n",
    "import numpy as np\n",
    "import pandas as pd\n",
    "from gsd_utils import papermode\n",
    "\n",
    "papermode(plt=plt, size=8)\n",
    "\n",
    "# width as measured in inkscape\n",
    "width = 3.281\n",
    "height = width / 1.618"
   ]
  },
  {
   "cell_type": "code",
   "execution_count": null,
   "metadata": {},
   "outputs": [],
   "source": [
    "results_dir = Path(\"results\")\n",
    "phase1 = results_dir / \"phase1\"\n",
    "figs_path = Path(\"figs\") / \"phase1\"\n",
    "figs_path.mkdir(exist_ok=True, parents=True)\n",
    "\n",
    "\n",
    "def num(s: pd.Series):\n",
    "    return pd.to_numeric(s, errors=\"coerce\").fillna(0)"
   ]
  },
  {
   "cell_type": "code",
   "execution_count": null,
   "metadata": {},
   "outputs": [],
   "source": [
    "df = pd.read_csv(phase1 / \"phase1-results-excel.csv\", index_col=\"Experiment\")\n",
    "experiments = [\n",
    "    \"Base\",\n",
    "    \"Filtered\",\n",
    "    \"Augm0\",\n",
    "    \"Augm1\",\n",
    "    \"Augm2\",\n",
    "    \"Augm3\",\n",
    "    \"Augm4\",\n",
    "    \"Augm5\",\n",
    "    \"Rebalance1\",\n",
    "    \"Rebalance2\",\n",
    "    \"Background\",\n",
    "    \"Final\",\n",
    "]\n",
    "df = (\n",
    "    df.loc[experiments, :]\n",
    "    .reset_index()\n",
    "    .rename(\n",
    "        columns={\n",
    "            \"test_mIOU\": \"test_mIoU\",\n",
    "            \"test_pacc\": \"test_pAcc\",\n",
    "            \"val_mIOU\": \"val_mIoU\",\n",
    "            \"val_pacc\": \"val_pAcc\",\n",
    "        }\n",
    "    )\n",
    ")\n",
    "\n",
    "dronetest_df = pd.read_csv(phase1 / \"test/phase1-test-avg.csv\")\n",
    "df[\"exp_idx\"] = dronetest_df.Experiment.str.lstrip(\"experiment \").apply(\n",
    "    pd.to_numeric,\n",
    "    errors=\"coerce\",\n",
    ")\n",
    "df[\"test_mIoU\"] = dronetest_df.mIoU\n",
    "df[\"test_pAcc\"] = dronetest_df.pAcc\n",
    "df[\"test_f1\"] = dronetest_df.F1\n",
    "\n",
    "droneval_df = pd.read_csv(phase1 / \"val/phase1-val-avg.csv\")\n",
    "df[\"val_mIoU\"] = droneval_df.mIoU\n",
    "df[\"val_pAcc\"] = droneval_df.pAcc\n",
    "df[\"val_f1\"] = droneval_df.F1\n",
    "\n",
    "df[\"Experiment\"] = df.Experiment.str.replace(\"Augm\", \"Aug\")\n",
    "df[\"Experiment\"] = df.Experiment.str.replace(\"Rebalance1\", \"Rebalance0\")\n",
    "df[\"Experiment\"] = df.Experiment.str.replace(\"Rebalance2\", \"Rebalance1\")\n",
    "df.to_csv(phase1 / \"phase1-metrics.csv\", index_label=None)"
   ]
  },
  {
   "cell_type": "code",
   "execution_count": null,
   "metadata": {},
   "outputs": [],
   "source": [
    "df.head()"
   ]
  },
  {
   "cell_type": "markdown",
   "metadata": {},
   "source": [
    "##### Bar plot"
   ]
  },
  {
   "cell_type": "code",
   "execution_count": null,
   "metadata": {},
   "outputs": [],
   "source": [
    "# @title Barplot\n",
    "fig, axs = plt.subplots(nrows=3, sharex=True)\n",
    "fig.subplots_adjust(left=.17, bottom=.17, right=.99, top=.97)\n",
    "\n",
    "bar_width = 0.3\n",
    "labels = df.Experiment.values.tolist()\n",
    "x1 = np.arange(len(labels))\n",
    "x2 = x1 + bar_width\n",
    "\n",
    "axs[0].bar(x1, num(df.val_mIoU), width=bar_width, color=\"xkcd:grass green\", label=\"Valid\")\n",
    "axs[0].bar(x2, num(df.test_mIoU), width=bar_width, color=\"xkcd:apple green\", label=\"Test\")\n",
    "axs[0].set_ylabel(\"mIoU (\\%)\")\n",
    "axs[0].yaxis.set_major_formatter(mtick.PercentFormatter(1.0, 0))\n",
    "axs[0].legend(loc=\"center left\", bbox_to_anchor=(1, 0.5))\n",
    "\n",
    "axs[1].bar(x1, num(df.val_pAcc), width=bar_width, color=\"xkcd:darkish blue\", label=\"Valid\")\n",
    "axs[1].bar(x2, num(df.test_pAcc), width=bar_width, color=\"xkcd:cerulean\", label=\"Test\")\n",
    "axs[1].set_ylabel(\"pAcc (\\%)\")\n",
    "axs[1].yaxis.set_major_formatter(mtick.PercentFormatter(1.0, 0))\n",
    "axs[1].legend(loc=\"center left\", bbox_to_anchor=(1, 0.5))\n",
    "\n",
    "axs[2].bar(x1, num(df.val_f1), width=bar_width, color=\"xkcd:orange\", label=\"Valid\")\n",
    "axs[2].bar(x2, num(df.test_f1), width=bar_width, color=\"xkcd:peach\", label=\"Test\")\n",
    "axs[2].set_ylabel(\"$F1$ score (\\%)\")\n",
    "axs[2].yaxis.set_major_formatter(mtick.PercentFormatter(1.0, 0))\n",
    "axs[2].legend(loc=\"center left\", bbox_to_anchor=(1, 0.5))\n",
    "\n",
    "axs[2].set_xticks(x1+(bar_width/2), labels, rotation=90)\n",
    "axs[2].set_xlabel(\"Experiment\")\n",
    "\n",
    "fig.set_size_inches(width, 2 * height)\n",
    "fig.savefig(figs_path / \"phase1-barplot.pdf\")\n",
    "fig.savefig(figs_path / \"phase1-barplot.png\")\n"
   ]
  },
  {
   "cell_type": "markdown",
   "metadata": {},
   "source": [
    "##### Accuracies"
   ]
  },
  {
   "cell_type": "code",
   "execution_count": null,
   "metadata": {},
   "outputs": [],
   "source": [
    "fig, ax = plt.subplots()\n",
    "fig.subplots_adjust(left=.17, bottom=.17, right=.80, top=.97)\n",
    "\n",
    "n_exp = len(df.Experiment)\n",
    "cmap = plt.get_cmap(\"turbo\", n_exp)\n",
    "\n",
    "sc = ax.scatter(df.val_avgfoldacc, df.test_f1, c=df.index, cmap=cmap)\n",
    "\n",
    "cbar = plt.colorbar(sc)\n",
    "ticks = (np.arange(n_exp) + 0.5) * (n_exp - 1) / n_exp\n",
    "cbar.set_ticks(ticks)\n",
    "cbar.set_ticklabels(df.Experiment)\n",
    "cbar.set_label(\"Experiment\")\n",
    "\n",
    "ax.set_xlabel(\"Average iNat classifier accuracy (\\%)\")\n",
    "ax.set_ylabel(\"$F1$ on test UAV images (\\%)\")\n",
    "# ax.set_ylabel(\"Pixel accuracy on test UAV images (\\%)\")\n",
    "ax.xaxis.set_major_formatter(mtick.PercentFormatter(1.0))\n",
    "ax.yaxis.set_major_formatter(mtick.PercentFormatter(1.0))\n",
    "\n",
    "fig.set_size_inches(width, height)\n",
    "fig.savefig(figs_path / \"phase1-accuracies.pdf\")\n",
    "fig.savefig(figs_path / \"phase1-accuracies.png\")"
   ]
  },
  {
   "cell_type": "code",
   "execution_count": null,
   "metadata": {},
   "outputs": [],
   "source": [
    "fig, axs = plt.subplots(ncols=3, figsize=(15,5))\n",
    "\n",
    "axs[0].scatter(num(df.val_mIoU), num(df.test_mIoU), color=\"xkcd:grass green\")\n",
    "axs[0].set_xlabel(\"Validation\")\n",
    "axs[0].set_ylabel(\"Test\")\n",
    "axs[0].set_title(\"mIoU\")\n",
    "\n",
    "axs[1].scatter(num(df.val_pAcc), num(df.test_pAcc), color=\"xkcd:darkish blue\")\n",
    "axs[1].set_xlabel(\"Validation\")\n",
    "axs[1].set_ylabel(\"Test\")\n",
    "axs[1].set_title(\"pAcc\")\n",
    "\n",
    "axs[2].scatter(num(df.val_f1), num(df.test_f1), color=\"xkcd:orange\")\n",
    "axs[2].set_xlabel(\"Validation\")\n",
    "axs[2].set_ylabel(\"Test\")\n",
    "axs[2].set_title(\"F1\")\n",
    "\n"
   ]
  }
 ],
 "metadata": {
  "kernelspec": {
   "display_name": ".venv",
   "language": "python",
   "name": "python3"
  },
  "language_info": {
   "codemirror_mode": {
    "name": "ipython",
    "version": 3
   },
   "file_extension": ".py",
   "mimetype": "text/x-python",
   "name": "python",
   "nbconvert_exporter": "python",
   "pygments_lexer": "ipython3",
   "version": "3.10.12"
  }
 },
 "nbformat": 4,
 "nbformat_minor": 2
}
