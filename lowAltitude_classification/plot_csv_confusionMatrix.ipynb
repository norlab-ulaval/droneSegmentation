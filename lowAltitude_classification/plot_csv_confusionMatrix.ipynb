{
 "cells": [
  {
   "cell_type": "code",
   "execution_count": null,
   "id": "0",
   "metadata": {},
   "outputs": [],
   "source": [
    "import os\n",
    "import pandas as pd\n",
    "import seaborn as sns\n",
    "import matplotlib.pyplot as plt\n",
    "import numpy as np\n",
    "import matplotlib\n",
    "from pathlib import Path\n",
    "\n",
    "from matplotlib import rc\n",
    "from lowAltitude_classification.gsd_utils import papermode"
   ]
  },
  {
   "cell_type": "code",
   "execution_count": null,
   "id": "1",
   "metadata": {},
   "outputs": [],
   "source": [
    "font_size = 16\n",
    "papermode(plt, font_size, has_latex=True)\n",
    "rc(\"text.latex\", preamble=r\"\\usepackage{color}\")\n",
    "matplotlib.use(\"ps\")"
   ]
  },
  {
   "cell_type": "code",
   "execution_count": null,
   "id": "2",
   "metadata": {},
   "outputs": [],
   "source": [
    "cm_path = Path(\"lowAltitude_classification/confusion-matrix\")\n",
    "conf_matrix = pd.read_csv(cm_path / \"MV.csv\", index_col=False)\n",
    "conf_matrix.index = conf_matrix.columns\n",
    "\n",
    "sorted_labels = sorted(conf_matrix.columns)\n",
    "\n",
    "conf_matrix = conf_matrix.loc[sorted_labels, sorted_labels]\n",
    "\n",
    "conf_matrix_normalized = conf_matrix.div(conf_matrix.sum(axis=1), axis=0)\n",
    "\n",
    "conf_matrix_normalized_percentage = conf_matrix_normalized * 100"
   ]
  },
  {
   "cell_type": "code",
   "execution_count": null,
   "id": "3",
   "metadata": {},
   "outputs": [],
   "source": [
    "fig, ax = plt.subplots(figsize=(16, 14))\n",
    "labels_col = np.array(conf_matrix.columns)\n",
    "print(conf_matrix.columns)\n",
    "\n",
    "labels_idx = np.array(conf_matrix.columns)\n",
    "sns.heatmap(\n",
    "    conf_matrix_normalized_percentage,\n",
    "    annot=True,\n",
    "    fmt=\".2f\",\n",
    "    cmap=\"Greens\",\n",
    "    cbar=True,\n",
    "    xticklabels=labels_col,\n",
    "    yticklabels=labels_idx,\n",
    "    annot_kws={\"size\": 11},\n",
    ")\n",
    "\n",
    "ax.set_axisbelow(True)\n",
    "ax.set_title(r\"b) Supervised (\\texttt{SP})\", fontsize=20)\n",
    "ax.set_xlabel(\"Predicted Label\", fontsize=20)\n",
    "ax.set_ylabel(\"True Label\", fontsize=20)\n",
    "\n",
    "fig.subplots_adjust(top=0.97, bottom=0.23, left=0.2, right=1.07, wspace=0.3)\n",
    "# fig.set_size_inches(width, 0.8 * height)\n",
    "fig.savefig(cm_path / \"SP.pdf\")"
   ]
  },
  {
   "cell_type": "code",
   "execution_count": null,
   "id": "4",
   "metadata": {},
   "outputs": [],
   "source": []
  }
 ],
 "metadata": {
  "kernelspec": {
   "display_name": "Python 3",
   "language": "python",
   "name": "python3"
  },
  "language_info": {
   "codemirror_mode": {
    "name": "ipython",
    "version": 2
   },
   "file_extension": ".py",
   "mimetype": "text/x-python",
   "name": "python",
   "nbconvert_exporter": "python",
   "pygments_lexer": "ipython2",
   "version": "2.7.6"
  }
 },
 "nbformat": 4,
 "nbformat_minor": 5
}
