{
 "cells": [
  {
   "cell_type": "code",
   "id": "initial_id",
   "metadata": {
    "collapsed": true,
    "ExecuteTime": {
     "end_time": "2024-11-18T17:43:09.209031Z",
     "start_time": "2024-11-18T17:43:09.203383Z"
    }
   },
   "source": [
    "import os\n",
    "import pandas as pd\n",
    "import seaborn as sns\n",
    "import matplotlib.pyplot as plt\n",
    "import numpy as np\n",
    "import matplotlib\n",
    "\n",
    "from matplotlib import rc\n",
    "from lowAltitude_classification.gsd_utils import papermode"
   ],
   "outputs": [],
   "execution_count": 33
  },
  {
   "metadata": {
    "ExecuteTime": {
     "end_time": "2024-11-18T17:43:09.251349Z",
     "start_time": "2024-11-18T17:43:09.249359Z"
    }
   },
   "cell_type": "code",
   "source": [
    "font_size = 16\n",
    "papermode(plt, font_size, has_latex=True)\n",
    "rc('text.latex', preamble=r'\\usepackage{color}')\n",
    "matplotlib.use('ps')"
   ],
   "id": "e4f7b394649d3130",
   "outputs": [],
   "execution_count": 34
  },
  {
   "metadata": {
    "ExecuteTime": {
     "end_time": "2024-11-18T17:43:09.298841Z",
     "start_time": "2024-11-18T17:43:09.294285Z"
    }
   },
   "cell_type": "code",
   "source": [
    "conf_matrix = pd.read_csv('/home/kamyar/PycharmProjects/droneSegmentation/lowAltitude_classification/confusion_matrix/FT_no_no/finetuning_NoPT_NoFT_Background.csv', index_col=0)\n",
    "conf_matrix_normalized = conf_matrix.div(conf_matrix.sum(axis=1), axis=0)\n",
    "\n",
    "conf_matrix_normalized_percentage = conf_matrix_normalized * 100\n"
   ],
   "id": "9fa3c3db8d39bf7e",
   "outputs": [],
   "execution_count": 35
  },
  {
   "metadata": {
    "ExecuteTime": {
     "end_time": "2024-11-18T17:43:16.757363Z",
     "start_time": "2024-11-18T17:43:09.342313Z"
    }
   },
   "cell_type": "code",
   "source": [
    "fig, ax = plt.subplots(figsize=(15, 12))\n",
    "labels_col = np.array(conf_matrix.columns)\n",
    "labels_col[0] = 'American\\nMountain-Ash'\n",
    "\n",
    "labels_idx = np.array(conf_matrix.index)\n",
    "labels_idx[0] = 'American\\nMountain-Ash'\n",
    "sns.heatmap(conf_matrix_normalized_percentage, annot=True, fmt='.2f', cmap='Greens', cbar=True,\n",
    "            xticklabels=labels_col, yticklabels=labels_idx,  annot_kws={\"size\": 11})\n",
    "\n",
    "ax.set_axisbelow(True)\n",
    "ax.set_title('Finetune, PT No, FT No', fontsize=20)\n",
    "ax.set_xlabel('Predicted Label', fontsize=20)\n",
    "ax.set_ylabel('True Label', fontsize=20)\n",
    "\n",
    "fig.subplots_adjust(top=0.9, bottom=0.23, left=0.2, right=0.99, wspace=0.3)\n",
    "# fig.set_size_inches(width, 0.8 * height)\n",
    "fig.savefig('/home/kamyar/PycharmProjects/droneSegmentation/lowAltitude_classification/confusion_matrix/FT_no_no/cm_ft_no_no.pdf')"
   ],
   "id": "1534534b0a2ea7b8",
   "outputs": [],
   "execution_count": 36
  },
  {
   "metadata": {
    "ExecuteTime": {
     "end_time": "2024-11-18T17:43:16.769376Z",
     "start_time": "2024-11-18T17:43:16.768340Z"
    }
   },
   "cell_type": "code",
   "source": "",
   "id": "fdb5629a2c041268",
   "outputs": [],
   "execution_count": null
  }
 ],
 "metadata": {
  "kernelspec": {
   "display_name": "Python 3",
   "language": "python",
   "name": "python3"
  },
  "language_info": {
   "codemirror_mode": {
    "name": "ipython",
    "version": 2
   },
   "file_extension": ".py",
   "mimetype": "text/x-python",
   "name": "python",
   "nbconvert_exporter": "python",
   "pygments_lexer": "ipython2",
   "version": "2.7.6"
  }
 },
 "nbformat": 4,
 "nbformat_minor": 5
}
