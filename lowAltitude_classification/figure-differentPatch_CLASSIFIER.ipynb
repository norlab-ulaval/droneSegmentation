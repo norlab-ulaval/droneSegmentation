{
 "cells": [
  {
   "cell_type": "code",
   "id": "initial_id",
   "metadata": {
    "collapsed": true,
    "ExecuteTime": {
     "end_time": "2024-09-05T11:20:06.436999Z",
     "start_time": "2024-09-05T11:20:06.434342Z"
    }
   },
   "source": [
    "import matplotlib as mpl\n",
    "import numpy as np\n",
    "import pandas as pd\n",
    "\n",
    "mpl.use(\"pdf\")\n",
    "import matplotlib.pyplot as plt\n",
    "from gsd_utils import papermode\n",
    "\n",
    "papermode(plt=plt, size=8, has_latex=True)\n",
    "\n",
    "# width as measured in inkscape\n",
    "width = 3.281\n",
    "height = width / 1.618"
   ],
   "outputs": [],
   "execution_count": 20
  },
  {
   "metadata": {
    "ExecuteTime": {
     "end_time": "2024-09-05T11:20:06.486002Z",
     "start_time": "2024-09-05T11:20:06.480542Z"
    }
   },
   "cell_type": "code",
   "source": [
    "val_df = pd.read_csv(\n",
    "    \"results/New_phase_1/VAL_differentPatchSize.csv\"\n",
    ")\n",
    "test_df = pd.read_csv(\n",
    "    \"results/New_phase_1/TEST_differentPatchSize.csv\"\n",
    ")\n",
    "\n",
    "val_df.F1 *= 100\n",
    "test_df.F1 *= 100"
   ],
   "id": "a2eff5d1cd53123b",
   "outputs": [],
   "execution_count": 21
  },
  {
   "metadata": {
    "ExecuteTime": {
     "end_time": "2024-09-05T11:20:06.635657Z",
     "start_time": "2024-09-05T11:20:06.528245Z"
    }
   },
   "cell_type": "code",
   "source": [
    "fig, ax = plt.subplots()\n",
    "\n",
    "bar_width = 0.45\n",
    "labels = val_df[\"Patch Size\"].astype(str)\n",
    "x1 = np.arange(len(labels))\n",
    "x2 = x1 + bar_width\n",
    "\n",
    "bars1 = ax.bar(\n",
    "    x1,\n",
    "    val_df.F1,\n",
    "    width=bar_width,\n",
    "    edgecolor=\"black\",\n",
    "    color=\"xkcd:irish green\",\n",
    "    label=r\"$D_{val}^{drone}$\",\n",
    ")\n",
    "bars2 = ax.bar(\n",
    "    x2,\n",
    "    test_df.F1,\n",
    "    width=bar_width,\n",
    "    edgecolor=\"black\",\n",
    "    color=\"xkcd:lime\",\n",
    "    label=r\"$D_{test}^{drone}$\",\n",
    ")\n",
    "\n",
    "ax.bar_label(bars1, padding=2, fontsize=\"x-small\", color=\"darkgreen\", zorder=3)\n",
    "ax.bar_label(bars2, padding=2, fontsize=\"x-small\", color=\"darkgreen\", zorder=3)\n",
    "\n",
    "ax.set_xlabel(\"Window Size\")\n",
    "ax.xaxis.set_label_coords(0.5, -0.2)\n",
    "\n",
    "ax.set_ylabel(\"$F1$ score (\\%)\")\n",
    "ax.yaxis.set_label_coords(-0.12, 0.5)\n",
    "\n",
    "ax.set_xticks(x1 + (bar_width / 2), labels)\n",
    "\n",
    "# ax.set_title(r\"$D_{val}^{drone}$\", color=\"b\", x=0.75, y=0.7, backgroundcolor=\"white\")\n",
    "# ax.set_title(r\"$D_{test}^{drone}$\", color=\"b\", x=0.75, y=0.7, backgroundcolor=\"white\")\n",
    "\n",
    "ylim = (\n",
    "    min(val_df.F1.min(), test_df.F1.min()) - 0.5,\n",
    "    max(val_df.F1.max(), test_df.F1.max()) + 0.5,\n",
    ")\n",
    "ax.set_ylim(ylim)\n",
    "\n",
    "# ax1.grid(True, axis=\"y\", color=\"k\", zorder=0)\n",
    "# ax2.grid(True, axis=\"y\", color=\"k\", zorder=0)\n",
    "\n",
    "ax.yaxis.set_major_locator(plt.MultipleLocator(0.5))\n",
    "\n",
    "ax.legend(\n",
    "    ncols=2,\n",
    "    loc=\"lower center\",\n",
    "    bbox_to_anchor=(0.5, 1),\n",
    "    labelcolor=\"b\",\n",
    "    # borderaxespad=0.2,\n",
    ")\n",
    "\n",
    "fig.subplots_adjust(top=0.82, bottom=0.22, left=0.15, right=0.99, wspace=0.3)\n",
    "\n",
    "fig.savefig(\"figs/phase1/phase1-val-test-patchSizeClassifier.png\")\n",
    "fig.savefig(\"figs/phase1/phase1-val-test-patchSizeClassifier.pdf\")"
   ],
   "id": "695cc3eb64f6c8ba",
   "outputs": [],
   "execution_count": 22
  }
 ],
 "metadata": {
  "kernelspec": {
   "display_name": "Python 3",
   "language": "python",
   "name": "python3"
  },
  "language_info": {
   "codemirror_mode": {
    "name": "ipython",
    "version": 2
   },
   "file_extension": ".py",
   "mimetype": "text/x-python",
   "name": "python",
   "nbconvert_exporter": "python",
   "pygments_lexer": "ipython2",
   "version": "2.7.6"
  }
 },
 "nbformat": 4,
 "nbformat_minor": 5
}
