{
 "cells": [
  {
   "cell_type": "code",
   "execution_count": null,
   "metadata": {},
   "outputs": [],
   "source": [
    "import matplotlib as mpl\n",
    "import pandas as pd\n",
    "from pathlib import Path\n",
    "\n",
    "mpl.use(\"pdf\")\n",
    "import matplotlib.pyplot as plt\n",
    "from gsd_utils import papermode\n",
    "\n",
    "papermode(plt=plt, size=8, has_latex=True)\n",
    "\n",
    "# width as measured in inkscape\n",
    "width = 3.281\n",
    "height = width / 1.618\n",
    "\n",
    "# Path\n",
    "figdir = Path(\"PL_Step_Size_Experiment\")\n"
   ]
  },
  {
   "cell_type": "code",
   "execution_count": null,
   "metadata": {},
   "outputs": [],
   "source": [
    "votes_test_df = pd.read_csv(\"PL_Step_Size_Experiment/PL_Step_Size_Experiment_test.csv\")\n",
    "votes_val_df = pd.read_csv(\"PL_Step_Size_Experiment/PL_Step_Size_Experiment_Train-val.csv\")\n",
    "\n",
    "merged_test_df[\"F1\"] *= 100\n",
    "filtered_df[\"F1\"] *= 100\n"
   ]
  },
  {
   "cell_type": "code",
   "execution_count": null,
   "metadata": {},
   "outputs": [],
   "source": [
    "merged_val_df"
   ]
  },
  {
   "cell_type": "code",
   "execution_count": null,
   "metadata": {},
   "outputs": [],
   "source": [
    "merged_test_df"
   ]
  },
  {
   "cell_type": "code",
   "execution_count": null,
   "metadata": {},
   "outputs": [],
   "source": [
    "fig, ax = plt.subplots()\n",
    "\n",
    "ax.plot(\n",
    "    filtered_df.Avg_Voters,\n",
    "    filtered_df.F1,\n",
    "    marker=\"o\",\n",
    "    linestyle=\"-\",\n",
    "    color=\"xkcd:irish green\",\n",
    "    label=r\"$D_{val}^{drone}$\",\n",
    ")\n",
    "ax.plot(\n",
    "    merged_test_df.Avg_Voters,\n",
    "    merged_test_df.F1,\n",
    "    marker=\"o\",\n",
    "    linestyle=\"-\",\n",
    "    color=\"xkcd:lime\",\n",
    "    label=r\"$D_{test}^{drone}$\",\n",
    ")\n",
    "\n",
    "ax.set_xlabel(\"Average number of voters\")\n",
    "ax.xaxis.set_label_coords(0.5, -0.17)\n",
    "\n",
    "ax.set_ylabel(\"$F1$ score (\\\\%)\")\n",
    "ax.yaxis.set_label_coords(-0.08, 0.5)\n",
    "\n",
    "# ax1.set_title(r\"$D_{val}^{drone}$\", color=\"blue\", y=0.25, x=0.65, backgroundcolor=\"white\")\n",
    "# ax2.set_title(r\"$D_{test}^{drone}$\", color=\"blue\", y=0.25, x=0.65, backgroundcolor=\"white\")\n",
    "\n",
    "ax.yaxis.set_major_locator(plt.MultipleLocator(1))\n",
    "ax.yaxis.set_minor_locator(plt.MultipleLocator(0.5))\n",
    "\n",
    "ax.grid(True, which=\"major\", axis=\"both\")\n",
    "ax.grid(True, which=\"minor\", axis=\"y\", linestyle=\"--\")\n",
    "\n",
    "# ax.legend(\n",
    "#     ncols=2,\n",
    "#     loc=\"lower center\",\n",
    "#     bbox_to_anchor=(0.5, 1),\n",
    "#     labelcolor=\"b\",\n",
    "#     # borderaxespad=0.2,\n",
    "# )\n",
    "\n",
    "fig.subplots_adjust(top=0.98, bottom=0.2, left=0.125, right=0.98, wspace=0.2)\n",
    "fig.set_size_inches(width, 0.8 * height)\n",
    "\n",
    "fig.savefig(figdir / \"phase2-val-test-DifferentStepSize.pdf\")\n",
    "fig.savefig(figdir / \"phase2-val-test-DifferentStepSize.png\")\n"
   ]
  }
 ],
 "metadata": {
  "kernelspec": {
   "display_name": "drone-segmentation",
   "language": "python",
   "name": "python3"
  },
  "language_info": {
   "codemirror_mode": {
    "name": "ipython",
    "version": 3
   },
   "file_extension": ".py",
   "mimetype": "text/x-python",
   "name": "python",
   "nbconvert_exporter": "python",
   "pygments_lexer": "ipython3",
   "version": "3.10.12"
  }
 },
 "nbformat": 4,
 "nbformat_minor": 2
}
