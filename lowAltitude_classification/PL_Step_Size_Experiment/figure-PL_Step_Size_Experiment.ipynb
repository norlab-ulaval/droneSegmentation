{
 "cells": [
  {
   "cell_type": "code",
   "metadata": {
    "ExecuteTime": {
     "end_time": "2024-12-09T22:24:24.443893Z",
     "start_time": "2024-12-09T22:24:24.441680Z"
    }
   },
   "source": [
    "import matplotlib as mpl\n",
    "import pandas as pd\n",
    "from pathlib import Path\n",
    "\n",
    "mpl.use(\"pdf\")\n",
    "import matplotlib.pyplot as plt\n",
    "from lowAltitude_classification.gsd_utils import papermode\n",
    "\n",
    "papermode(plt=plt, size=8, has_latex=True)\n",
    "\n",
    "# width as measured in inkscape\n",
    "width = 3.281\n",
    "height = width / 1.618\n"
   ],
   "outputs": [],
   "execution_count": 36
  },
  {
   "cell_type": "code",
   "metadata": {
    "ExecuteTime": {
     "end_time": "2024-12-09T22:24:24.478859Z",
     "start_time": "2024-12-09T22:24:24.445499Z"
    }
   },
   "source": [
    "votes_test_df = pd.read_csv(\"PL_Step_Size_Experiment_test.csv\")\n",
    "votes_val_df = pd.read_csv(\"PL_Step_Size_Experiment_Train-val.csv\")\n",
    "\n",
    "votes_val_df[\"pAcc\"] *= 100\n",
    "votes_val_df[\"F1\"] *= 100\n",
    "votes_test_df[\"pAcc\"] *= 100\n",
    "votes_test_df[\"F1\"] *= 100\n"
   ],
   "outputs": [],
   "execution_count": 37
  },
  {
   "metadata": {
    "ExecuteTime": {
     "end_time": "2024-12-09T22:24:24.513406Z",
     "start_time": "2024-12-09T22:24:24.489732Z"
    }
   },
   "cell_type": "code",
   "source": [
    "votes_val_df = votes_val_df.sort_values(by=\"num_votes\", ascending=True)\n",
    "votes_test_df = votes_test_df.sort_values(by=\"num_votes\", ascending=True)\n",
    "votes_val_df"
   ],
   "outputs": [
    {
     "data": {
      "text/plain": [
       "     Dataset  step size  num_votes     F1   pAcc\n",
       "2  Train-val        256   1.000000  40.71  52.06\n",
       "3  Train-val        128   4.000000  42.82  55.09\n",
       "4  Train-val         64  16.000000  44.72  56.84\n",
       "0  Train-val         38  45.378117  45.06  57.24\n",
       "1  Train-val         32  64.000000  45.05  57.15"
      ],
      "text/html": [
       "<div>\n",
       "<style scoped>\n",
       "    .dataframe tbody tr th:only-of-type {\n",
       "        vertical-align: middle;\n",
       "    }\n",
       "\n",
       "    .dataframe tbody tr th {\n",
       "        vertical-align: top;\n",
       "    }\n",
       "\n",
       "    .dataframe thead th {\n",
       "        text-align: right;\n",
       "    }\n",
       "</style>\n",
       "<table border=\"1\" class=\"dataframe\">\n",
       "  <thead>\n",
       "    <tr style=\"text-align: right;\">\n",
       "      <th></th>\n",
       "      <th>Dataset</th>\n",
       "      <th>step size</th>\n",
       "      <th>num_votes</th>\n",
       "      <th>F1</th>\n",
       "      <th>pAcc</th>\n",
       "    </tr>\n",
       "  </thead>\n",
       "  <tbody>\n",
       "    <tr>\n",
       "      <th>2</th>\n",
       "      <td>Train-val</td>\n",
       "      <td>256</td>\n",
       "      <td>1.000000</td>\n",
       "      <td>40.71</td>\n",
       "      <td>52.06</td>\n",
       "    </tr>\n",
       "    <tr>\n",
       "      <th>3</th>\n",
       "      <td>Train-val</td>\n",
       "      <td>128</td>\n",
       "      <td>4.000000</td>\n",
       "      <td>42.82</td>\n",
       "      <td>55.09</td>\n",
       "    </tr>\n",
       "    <tr>\n",
       "      <th>4</th>\n",
       "      <td>Train-val</td>\n",
       "      <td>64</td>\n",
       "      <td>16.000000</td>\n",
       "      <td>44.72</td>\n",
       "      <td>56.84</td>\n",
       "    </tr>\n",
       "    <tr>\n",
       "      <th>0</th>\n",
       "      <td>Train-val</td>\n",
       "      <td>38</td>\n",
       "      <td>45.378117</td>\n",
       "      <td>45.06</td>\n",
       "      <td>57.24</td>\n",
       "    </tr>\n",
       "    <tr>\n",
       "      <th>1</th>\n",
       "      <td>Train-val</td>\n",
       "      <td>32</td>\n",
       "      <td>64.000000</td>\n",
       "      <td>45.05</td>\n",
       "      <td>57.15</td>\n",
       "    </tr>\n",
       "  </tbody>\n",
       "</table>\n",
       "</div>"
      ]
     },
     "execution_count": 38,
     "metadata": {},
     "output_type": "execute_result"
    }
   ],
   "execution_count": 38
  },
  {
   "cell_type": "code",
   "metadata": {
    "ExecuteTime": {
     "end_time": "2024-12-09T22:24:24.683586Z",
     "start_time": "2024-12-09T22:24:24.545805Z"
    }
   },
   "source": [
    "fig, axes = plt.subplots(1, 2, figsize=(2 * width, height)) \n",
    "\n",
    "axes[0].plot(\n",
    "    votes_val_df.num_votes,\n",
    "    votes_val_df.F1,\n",
    "    marker=\"o\",\n",
    "    linestyle=\"-\",\n",
    "    color=\"xkcd:irish green\",\n",
    "    label=r\"$D_{val}^{drone}$\",\n",
    ")\n",
    "axes[0].plot(\n",
    "    votes_test_df.num_votes,\n",
    "    votes_test_df.F1,\n",
    "    marker=\"o\",\n",
    "    linestyle=\"-\",\n",
    "    color=\"xkcd:lime\",\n",
    "    label=r\"$D_{test}^{drone}$\",\n",
    ")\n",
    "axes[0].grid(True, which=\"major\", axis=\"both\")\n",
    "axes[0].grid(True, which=\"minor\", axis=\"y\", linestyle=\"--\")\n",
    "axes[0].set_xlabel(\"Average number of voters\")\n",
    "axes[0].set_ylabel(\"$F1$ score (\\\\%)\")\n",
    "axes[0].legend()\n",
    "axes[0].grid(True)\n",
    "\n",
    "\n",
    "axes[1].plot(\n",
    "    votes_val_df.num_votes,\n",
    "    votes_val_df.pAcc,\n",
    "    marker=\"o\",\n",
    "    linestyle=\":\",\n",
    "    color=\"xkcd:irish green\",\n",
    "    label=r\"$D_{val}^{drone}$\",\n",
    ")\n",
    "axes[1].plot(\n",
    "    votes_test_df.num_votes,\n",
    "    votes_test_df.pAcc,\n",
    "    marker=\"o\",\n",
    "    linestyle=\":\",\n",
    "    color=\"xkcd:lime\",\n",
    "    label=r\"$D_{test}^{drone}$\",\n",
    ")\n",
    "\n",
    "axes[1].grid(True, which=\"major\", axis=\"both\")\n",
    "axes[1].grid(True, which=\"minor\", axis=\"y\", linestyle=\"--\")\n",
    "axes[1].set_xlabel(\"Average number of voters\")\n",
    "axes[1].set_ylabel(\"Pixel Accuracy (\\\\%)\")\n",
    "axes[1].legend()\n",
    "\n",
    "fig.subplots_adjust(top=0.9, bottom=0.2, left=0.1, right=0.98, wspace=0.4)\n",
    "fig.savefig(\"PL_Step_Size_Experiment_figure.pdf\")\n",
    "fig.savefig(\"PL_Step_Size_Experiment_figure.png\")"
   ],
   "outputs": [],
   "execution_count": 39
  }
 ],
 "metadata": {
  "kernelspec": {
   "display_name": "drone-segmentation",
   "language": "python",
   "name": "python3"
  },
  "language_info": {
   "codemirror_mode": {
    "name": "ipython",
    "version": 3
   },
   "file_extension": ".py",
   "mimetype": "text/x-python",
   "name": "python",
   "nbconvert_exporter": "python",
   "pygments_lexer": "ipython3",
   "version": "3.10.12"
  }
 },
 "nbformat": 4,
 "nbformat_minor": 2
}
