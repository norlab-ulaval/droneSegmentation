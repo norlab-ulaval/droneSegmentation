{
 "cells": [
  {
   "cell_type": "code",
   "execution_count": null,
   "metadata": {},
   "outputs": [],
   "source": [
    "import matplotlib as mpl\n",
    "import pandas as pd\n",
    "from pathlib import Path\n",
    "\n",
    "mpl.use(\"pdf\")\n",
    "import matplotlib.pyplot as plt\n",
    "from lowAltitude_classification.gsd_utils import papermode\n",
    "\n",
    "papermode(plt=plt, size=8, has_latex=True)\n",
    "\n",
    "# width as measured in inkscape\n",
    "width = 3.281\n",
    "height = width / 1.618"
   ]
  },
  {
   "cell_type": "code",
   "execution_count": null,
   "metadata": {},
   "outputs": [],
   "source": [
    "votes_test_df = pd.read_csv(\"PL_Step_Size_Experiment_test.csv\")\n",
    "votes_val_df = pd.read_csv(\"PL_Step_Size_Experiment_Train-val.csv\")\n",
    "\n",
    "votes_val_df[\"pAcc\"] *= 100\n",
    "votes_val_df[\"F1\"] *= 100\n",
    "votes_test_df[\"pAcc\"] *= 100\n",
    "votes_test_df[\"F1\"] *= 100"
   ]
  },
  {
   "cell_type": "code",
   "execution_count": null,
   "metadata": {},
   "outputs": [],
   "source": [
    "votes_val_df = votes_val_df.sort_values(by=\"num_votes\", ascending=True)\n",
    "votes_test_df = votes_test_df.sort_values(by=\"num_votes\", ascending=True)\n",
    "votes_val_df"
   ]
  },
  {
   "cell_type": "code",
   "execution_count": null,
   "metadata": {},
   "outputs": [],
   "source": [
    "fig, axes = plt.subplots(1, 2, figsize=(2 * width, height))\n",
    "\n",
    "axes[0].plot(\n",
    "    votes_val_df.num_votes,\n",
    "    votes_val_df.F1,\n",
    "    marker=\"o\",\n",
    "    linestyle=\"-\",\n",
    "    color=\"xkcd:irish green\",\n",
    "    label=r\"$D_{val}^{drone}$\",\n",
    ")\n",
    "axes[0].plot(\n",
    "    votes_test_df.num_votes,\n",
    "    votes_test_df.F1,\n",
    "    marker=\"o\",\n",
    "    linestyle=\"-\",\n",
    "    color=\"xkcd:lime\",\n",
    "    label=r\"$D_{test}^{drone}$\",\n",
    ")\n",
    "axes[0].grid(True, which=\"major\", axis=\"both\")\n",
    "axes[0].grid(True, which=\"minor\", axis=\"y\", linestyle=\"--\")\n",
    "axes[0].set_xlabel(\"Average number of voters\")\n",
    "axes[0].set_ylabel(\"$F1$ score (\\\\%)\")\n",
    "axes[0].legend()\n",
    "axes[0].grid(True)\n",
    "\n",
    "\n",
    "axes[1].plot(\n",
    "    votes_val_df.num_votes,\n",
    "    votes_val_df.pAcc,\n",
    "    marker=\"o\",\n",
    "    linestyle=\":\",\n",
    "    color=\"xkcd:irish green\",\n",
    "    label=r\"$D_{val}^{drone}$\",\n",
    ")\n",
    "axes[1].plot(\n",
    "    votes_test_df.num_votes,\n",
    "    votes_test_df.pAcc,\n",
    "    marker=\"o\",\n",
    "    linestyle=\":\",\n",
    "    color=\"xkcd:lime\",\n",
    "    label=r\"$D_{test}^{drone}$\",\n",
    ")\n",
    "\n",
    "axes[1].grid(True, which=\"major\", axis=\"both\")\n",
    "axes[1].grid(True, which=\"minor\", axis=\"y\", linestyle=\"--\")\n",
    "axes[1].set_xlabel(\"Average number of voters\")\n",
    "axes[1].set_ylabel(\"Pixel Accuracy (\\\\%)\")\n",
    "axes[1].legend()\n",
    "\n",
    "fig.subplots_adjust(top=0.9, bottom=0.2, left=0.1, right=0.98, wspace=0.4)\n",
    "fig.savefig(\"PL_Step_Size_Experiment_figure.pdf\")\n",
    "fig.savefig(\"PL_Step_Size_Experiment_figure.png\")"
   ]
  }
 ],
 "metadata": {
  "kernelspec": {
   "display_name": "drone-segmentation",
   "language": "python",
   "name": "python3"
  },
  "language_info": {
   "codemirror_mode": {
    "name": "ipython",
    "version": 3
   },
   "file_extension": ".py",
   "mimetype": "text/x-python",
   "name": "python",
   "nbconvert_exporter": "python",
   "pygments_lexer": "ipython3",
   "version": "3.10.12"
  }
 },
 "nbformat": 4,
 "nbformat_minor": 2
}
