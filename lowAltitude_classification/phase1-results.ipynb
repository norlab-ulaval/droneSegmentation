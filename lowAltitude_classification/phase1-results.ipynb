{
 "cells": [
  {
   "cell_type": "code",
   "execution_count": null,
   "metadata": {},
   "outputs": [],
   "source": [
    "import pandas as pd\n",
    "import numpy as np\n",
    "import matplotlib.pyplot as plt"
   ]
  },
  {
   "cell_type": "code",
   "execution_count": null,
   "metadata": {},
   "outputs": [],
   "source": [
    "df = pd.read_csv(\"phase1-results.csv\", index_col=\"Experiment\")\n",
    "experiments = [\n",
    "    \"Base\",\n",
    "    \"Filtered\",\n",
    "    \"Augm0\",\n",
    "    \"Augm1\",\n",
    "    \"Augm2\",\n",
    "    \"Augm3\",\n",
    "    \"Augm4\",\n",
    "    \"Augm5\",\n",
    "    \"Background\",\n",
    "]\n",
    "df = df.loc[experiments, :]\n",
    "\n",
    "\n",
    "def numerical(s: pd.Series):\n",
    "    return pd.to_numeric(s, errors=\"coerce\").fillna(0)"
   ]
  },
  {
   "cell_type": "code",
   "execution_count": null,
   "metadata": {},
   "outputs": [],
   "source": [
    "df.head()"
   ]
  },
  {
   "cell_type": "code",
   "execution_count": null,
   "metadata": {},
   "outputs": [],
   "source": [
    "bar_width = 0.3\n",
    "labels = df.index.values.tolist()\n",
    "\n",
    "fig, axs = plt.subplots(nrows=3, sharex=True, figsize=(6,6))\n",
    "x1 = np.arange(len(labels))\n",
    "x2 = x1 + bar_width\n",
    "\n",
    "axs[0].bar(x1, numerical(df.val_mIOU), width=bar_width, color=\"xkcd:grass green\", label=\"valid\")\n",
    "axs[0].bar(x2, numerical(df.test_mIOU), width=bar_width, color=\"xkcd:apple green\", label=\"test\")\n",
    "axs[0].set_ylabel(\"mIOU\")\n",
    "axs[0].legend(loc=\"center left\", bbox_to_anchor=(1, 0.5))\n",
    "\n",
    "axs[1].bar(x1, numerical(df.val_pacc), width=bar_width, color=\"xkcd:darkish blue\", label=\"valid\")\n",
    "axs[1].bar(x2, numerical(df.test_pacc), width=bar_width, color=\"xkcd:cerulean\", label=\"test\")\n",
    "axs[1].set_ylabel(\"pAcc\")\n",
    "axs[1].legend(loc=\"center left\", bbox_to_anchor=(1, 0.5))\n",
    "\n",
    "axs[2].bar(x1, numerical(df.val_f1), width=bar_width, color=\"xkcd:orange\", label=\"valid\")\n",
    "axs[2].bar(x2, numerical(df.test_f1), width=bar_width, color=\"xkcd:peach\", label=\"test\")\n",
    "axs[2].set_ylabel(\"f1\")\n",
    "axs[2].legend(loc=\"center left\", bbox_to_anchor=(1, 0.5))\n",
    "\n",
    "axs[2].set_xticks(x1+(bar_width/2), labels, rotation=90)\n",
    "axs[2].set_xlabel(\"Experiment\")\n",
    "\n"
   ]
  },
  {
   "cell_type": "code",
   "execution_count": null,
   "metadata": {},
   "outputs": [],
   "source": [
    "fig, axs = plt.subplots(ncols=3, figsize=(15,5))\n",
    "\n",
    "axs[0].scatter(numerical(df.val_mIOU), numerical(df.test_mIOU), color=\"xkcd:grass green\")\n",
    "axs[0].set_xlabel(\"Validation\")\n",
    "axs[0].set_ylabel(\"Test\")\n",
    "axs[0].set_title(\"mIOU\")\n",
    "\n",
    "axs[1].scatter(numerical(df.val_pacc), numerical(df.test_pacc), color=\"xkcd:darkish blue\")\n",
    "axs[1].set_xlabel(\"Validation\")\n",
    "axs[1].set_ylabel(\"Test\")\n",
    "axs[1].set_title(\"pAcc\")\n",
    "\n",
    "axs[2].scatter(numerical(df.val_f1), numerical(df.test_f1), color=\"xkcd:orange\")\n",
    "axs[2].set_xlabel(\"Validation\")\n",
    "axs[2].set_ylabel(\"Test\")\n",
    "axs[2].set_title(\"f1\")\n",
    "\n",
    "fig.tight_layout()\n"
   ]
  }
 ],
 "metadata": {
  "kernelspec": {
   "display_name": ".venv",
   "language": "python",
   "name": "python3"
  },
  "language_info": {
   "codemirror_mode": {
    "name": "ipython",
    "version": 3
   },
   "file_extension": ".py",
   "mimetype": "text/x-python",
   "name": "python",
   "nbconvert_exporter": "python",
   "pygments_lexer": "ipython3",
   "version": "3.10.12"
  }
 },
 "nbformat": 4,
 "nbformat_minor": 2
}
