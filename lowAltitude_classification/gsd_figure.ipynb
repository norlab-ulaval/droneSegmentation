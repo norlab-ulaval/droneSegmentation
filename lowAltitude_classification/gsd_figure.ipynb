{
 "cells": [
  {
   "cell_type": "code",
   "execution_count": null,
   "metadata": {},
   "outputs": [],
   "source": [
    "import numpy as np\n",
    "from pathlib import Path\n",
    "import pandas as pd\n",
    "import matplotlib.pyplot as plt"
   ]
  },
  {
   "cell_type": "code",
   "execution_count": null,
   "metadata": {},
   "outputs": [],
   "source": [
    "# Paths\n",
    "data_path = Path.cwd().parent / \"data\"\n",
    "gsddat_folder = data_path / \"gsds\" / \"val\"\n",
    "df = pd.read_csv(gsddat_folder / \"gsd-metrics.csv\")"
   ]
  },
  {
   "cell_type": "code",
   "execution_count": null,
   "metadata": {},
   "outputs": [],
   "source": [
    "df"
   ]
  },
  {
   "cell_type": "code",
   "execution_count": null,
   "metadata": {},
   "outputs": [],
   "source": [
    "fig, axs = plt.subplots(nrows=3, sharex=True)\n",
    "\n",
    "ious = [100 * df[df.GSD == gsd].iou for gsd in df.GSD.unique()]\n",
    "accs = [100 * df[df.GSD == gsd].acc for gsd in df.GSD.unique()]\n",
    "f1s = [100 * df[df.GSD == gsd].f1 for gsd in df.GSD.unique()]\n",
    "\n",
    "m_IOU = [iou.mean() for iou in ious]\n",
    "m_acc = [acc.mean() for acc in accs]\n",
    "m_f1 = [f1.mean() for f1 in f1s]\n",
    "\n",
    "vio_ious = axs[0].violinplot(ious, showmeans=False)\n",
    "vio_accs = axs[1].violinplot(accs, showmeans=False)\n",
    "vio_f1s = axs[2].violinplot(f1s, showmeans=False)\n",
    "xlabs = [\"$GSD$ =\\n0.8-1.3 mm\", \"$1.5\\\\times GSD$\", \"$2.25\\\\times GSD$\", \"$3.375\\\\times GSD$\"]\n",
    "\n",
    "for pc_iou in vio_ious[\"bodies\"]:\n",
    "    pc_iou.set_facecolor(\"#4248ad\")\n",
    "    pc_iou.set_edgecolor(\"#4248ad\")\n",
    "    pc_iou.set_alpha(1)\n",
    "\n",
    "for pc_acc in vio_accs[\"bodies\"]:\n",
    "    pc_acc.set_facecolor(\"#cb416b\")\n",
    "    pc_acc.set_edgecolor(\"#cb416b\")\n",
    "    pc_acc.set_alpha(1)\n",
    "\n",
    "for pc_f1 in vio_f1s[\"bodies\"]:\n",
    "    pc_f1.set_facecolor(\"#ff9408\")\n",
    "    pc_f1.set_edgecolor(\"#ff9408\")\n",
    "    pc_f1.set_alpha(1)\n",
    "\n",
    "axs[0].plot(np.arange(1, 5), m_IOU, \"k\")\n",
    "axs[1].plot(np.arange(1, 5), m_acc, \"k\")\n",
    "axs[2].plot(np.arange(1, 5), m_f1, \"k\")\n",
    "\n",
    "axs[2].set_xticks([1, 2, 3, 4], xlabs)\n",
    "axs[2].set_xlabel(\"Ground Sample Distance (m)\")\n",
    "\n",
    "axs[0].set_ylabel(\"IoU (%)\")\n",
    "axs[1].set_ylabel(\"Pixel Accuracy (%)\")\n",
    "axs[2].set_ylabel(\"F1 score (%)\")\n",
    "\n",
    "axs[0].set_ylim(bottom=0)\n",
    "axs[1].set_ylim(bottom=0)\n",
    "axs[2].set_ylim(bottom=0)\n",
    "\n"
   ]
  },
  {
   "cell_type": "code",
   "execution_count": null,
   "metadata": {},
   "outputs": [],
   "source": [
    "fig, axs = plt.subplots(nrows=3, sharex=True)\n",
    "\n",
    "ious = [100 * df[df.GSD == gsd].iou for gsd in df.GSD.unique()]\n",
    "accs = [100 * df[df.GSD == gsd].acc for gsd in df.GSD.unique()]\n",
    "f1s = [100 * df[df.GSD == gsd].f1 for gsd in df.GSD.unique()]\n",
    "\n",
    "m_IOU = [iou.mean() for iou in ious]\n",
    "m_acc = [acc.mean() for acc in accs]\n",
    "m_f1 = [f1.mean() for f1 in f1s]\n",
    "\n",
    "xlabs = [\n",
    "    \"$GSD$ =\\n0.8-1.3 mm\",\n",
    "    \"$1.5\\\\times GSD$\",\n",
    "    \"$2.25\\\\times GSD$\",\n",
    "    \"$3.375\\\\times GSD$\",\n",
    "]\n",
    "\n",
    "axs[0].plot(np.arange(1, 5), m_IOU, marker=\"o\", linestyle=\"\", color=\"xkcd:grass green\")\n",
    "axs[1].plot(np.arange(1, 5), m_acc, marker=\"o\", linestyle=\"\", color=\"xkcd:darkish blue\")\n",
    "axs[2].plot(np.arange(1, 5), m_f1, marker=\"o\", linestyle=\"\", color=\"xkcd:orange\")\n",
    "\n",
    "axs[2].set_xticks([1, 2, 3, 4], xlabs)\n",
    "axs[2].set_xlabel(\"Ground Sample Distance (mm)\")\n",
    "\n",
    "axs[0].set_ylabel(\"mIoU (%)\", rotation=0, ha=\"right\", va=\"center\")\n",
    "axs[1].set_ylabel(\"Average pixel\\naccuracy (%)\", rotation=0, ha=\"right\", va=\"center\")\n",
    "axs[2].set_ylabel(\"F1 score (%)\", rotation=0, ha=\"right\", va=\"center\")\n",
    "\n",
    "axs[0].yaxis.set_label_coords(-0.1, 0.5)\n",
    "axs[1].yaxis.set_label_coords(-0.1, 0.5)\n",
    "axs[2].yaxis.set_label_coords(-0.1, 0.5)\n",
    "\n",
    "axs[0].set_ylim(bottom=0, top=30)\n",
    "axs[1].set_ylim(bottom=0, top=50)\n",
    "axs[2].set_ylim(bottom=0, top=40)\n"
   ]
  }
 ],
 "metadata": {
  "kernelspec": {
   "display_name": "drone-segm",
   "language": "python",
   "name": "python3"
  },
  "language_info": {
   "codemirror_mode": {
    "name": "ipython",
    "version": 3
   },
   "file_extension": ".py",
   "mimetype": "text/x-python",
   "name": "python",
   "nbconvert_exporter": "python",
   "pygments_lexer": "ipython3",
   "version": "3.12.4"
  }
 },
 "nbformat": 4,
 "nbformat_minor": 2
}
