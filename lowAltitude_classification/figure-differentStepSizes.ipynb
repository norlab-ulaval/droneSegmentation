{
 "cells": [
  {
   "cell_type": "code",
   "execution_count": 1,
   "metadata": {},
   "outputs": [],
   "source": [
    "import matplotlib as mpl\n",
    "import pandas as pd\n",
    "\n",
    "mpl.use(\"pdf\")\n",
    "import matplotlib.pyplot as plt\n",
    "from gsd_utils import papermode\n",
    "\n",
    "papermode(plt=plt, size=8, has_latex=True)\n",
    "\n",
    "# width as measured in inkscape\n",
    "width = 3.281\n",
    "height = width / 1.618\n"
   ]
  },
  {
   "cell_type": "code",
   "execution_count": 2,
   "metadata": {},
   "outputs": [
    {
     "name": "stderr",
     "output_type": "stream",
     "text": [
      "/tmp/ipykernel_388862/1089783674.py:34: SettingWithCopyWarning: \n",
      "A value is trying to be set on a copy of a slice from a DataFrame.\n",
      "Try using .loc[row_indexer,col_indexer] = value instead\n",
      "\n",
      "See the caveats in the documentation: https://pandas.pydata.org/pandas-docs/stable/user_guide/indexing.html#returning-a-view-versus-a-copy\n",
      "  filtered_df[\"F1\"] *= 100\n"
     ]
    }
   ],
   "source": [
    "metrics_test_df = pd.read_csv(\n",
    "    \"results/phase2/center/test/phase2-test-center.csv\"\n",
    ")\n",
    "metrics_val_df = pd.read_csv(\n",
    "    \"results/phase2/center/val/phase2-val-center.csv\"\n",
    ")\n",
    "votes_test_df = pd.read_csv(\n",
    "    \"results/avg_voters/test/Votes_test.csv\"\n",
    ")\n",
    "votes_val_df = pd.read_csv(\n",
    "    \"results/avg_voters/val/Votes_val.csv\"\n",
    ")\n",
    "\n",
    "merged_test_df = pd.merge(\n",
    "    metrics_test_df,\n",
    "    votes_test_df,\n",
    "    how=\"outer\",\n",
    "    on=[\"Central Size\", \"Patch Size\", \"Step Size\", \"Pad Size\"],\n",
    ")\n",
    "merged_val_df = pd.merge(\n",
    "    metrics_val_df,\n",
    "    votes_val_df,\n",
    "    how=\"outer\",\n",
    "    on=[\"Central Size\", \"Patch Size\", \"Step Size\", \"Pad Size\"],\n",
    ")\n",
    "filtered_df = merged_val_df[\n",
    "    (merged_val_df[\"Pad Size\"] == 184) & (merged_val_df[\"Central Size\"] == 96)\n",
    "]\n",
    "merged_test_df = merged_test_df[\n",
    "    (merged_test_df[\"Pad Size\"] == 184) & (merged_test_df[\"Central Size\"] == 96)\n",
    "]\n",
    "\n",
    "merged_test_df[\"F1\"] *= 100\n",
    "filtered_df[\"F1\"] *= 100\n"
   ]
  },
  {
   "cell_type": "code",
   "execution_count": 6,
   "metadata": {},
   "outputs": [],
   "source": [
    "fig, (ax1, ax2) = plt.subplots(ncols=2)\n",
    "fig.subplots_adjust(top=0.88, bottom=0.15, left=0.1, right=0.95, wspace=0.3)\n",
    "\n",
    "ax1.plot(\n",
    "    filtered_df.Avg_Voters,\n",
    "    filtered_df.F1,\n",
    "    marker=\"o\",\n",
    "    linestyle=\"-\",\n",
    "    color=\"forestgreen\",\n",
    ")\n",
    "ax2.plot(\n",
    "    merged_test_df.Avg_Voters,\n",
    "    merged_test_df.F1,\n",
    "    marker=\"o\",\n",
    "    linestyle=\"-\",\n",
    "    color=\"forestgreen\",\n",
    ")\n",
    "\n",
    "ax1.grid(True)\n",
    "ax2.grid(True)\n",
    "\n",
    "ax1.set_xlabel(\"Average number of voters\")\n",
    "ax2.set_xlabel(\"Average number of voters\")\n",
    "ax1.xaxis.set_label_coords(0.5, -0.12)\n",
    "ax2.xaxis.set_label_coords(0.5, -0.12)\n",
    "\n",
    "ax1.set_ylabel(\"F1 score (\\\\%)\")\n",
    "ax1.yaxis.set_label_coords(-0.25, 0.5)\n",
    "\n",
    "ax1.set_title(r\"$D_{val}^{drone}$\", color=\"blue\", y=1.02)\n",
    "ax2.set_title(r\"$D_{test}^{drone}$\", color=\"blue\", y=1.02)\n",
    "\n",
    "fig.set_size_inches(width, 1.25 * height)\n",
    "\n",
    "fig.savefig(\n",
    "    \"figs/phase2/phase2-val-test-DifferentStepSize.pdf\"\n",
    ")\n",
    "fig.savefig(\n",
    "    \"figs/phase2/phase2-val-test-DifferentStepSize.png\"\n",
    ")\n"
   ]
  }
 ],
 "metadata": {
  "kernelspec": {
   "display_name": "drone-segmentation",
   "language": "python",
   "name": "python3"
  },
  "language_info": {
   "codemirror_mode": {
    "name": "ipython",
    "version": 3
   },
   "file_extension": ".py",
   "mimetype": "text/x-python",
   "name": "python",
   "nbconvert_exporter": "python",
   "pygments_lexer": "ipython3",
   "version": "3.12.3"
  }
 },
 "nbformat": 4,
 "nbformat_minor": 2
}
