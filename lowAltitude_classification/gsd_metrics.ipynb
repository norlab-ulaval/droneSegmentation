{
 "cells": [
  {
   "cell_type": "code",
   "execution_count": 1,
   "metadata": {},
   "outputs": [],
   "source": [
    "import numpy as np\n",
    "from pathlib import Path\n",
    "import pandas as pd\n",
    "\n",
    "from gsd_utils import evaluate_segmentation, IDENTICAL_MAPPING"
   ]
  },
  {
   "cell_type": "code",
   "execution_count": 2,
   "metadata": {},
   "outputs": [],
   "source": [
    "# Paths\n",
    "data_path = Path.cwd().parent / \"data\" / \"drone-seg\"\n",
    "image_folder = data_path / \"test-data\"\n",
    "annot_folder = data_path / \"test-data-annotation\"\n",
    "gsddat_folder = data_path / \"gsds\"\n",
    "\n",
    "patch_sizes = [256]\n",
    "overlaps = [0.85]\n",
    "\n",
    "# GSD metrics\n",
    "GSD_FACTOR = 2\n",
    "N_GSD = 4\n",
    "# GSD_FACTOR=8 and N_GSD = 4\n",
    "# => SCALES = [1, 1/8, 1/64, 1/512]\n",
    "SCALES = np.logspace(0, -(N_GSD - 1), num=N_GSD, base=GSD_FACTOR)"
   ]
  },
  {
   "cell_type": "code",
   "execution_count": 3,
   "metadata": {},
   "outputs": [
    {
     "name": "stderr",
     "output_type": "stream",
     "text": [
      "100%|██████████| 53/53 [00:14<00:00,  3.60it/s]\n"
     ]
    },
    {
     "name": "stdout",
     "output_type": "stream",
     "text": [
      "28273677 (55574528,) (55574528,)\n"
     ]
    },
    {
     "name": "stderr",
     "output_type": "stream",
     "text": [
      "100%|██████████| 53/53 [00:04<00:00, 12.36it/s]\n"
     ]
    },
    {
     "name": "stdout",
     "output_type": "stream",
     "text": [
      "4938220 (13893632,) (13893632,)\n"
     ]
    },
    {
     "name": "stderr",
     "output_type": "stream",
     "text": [
      "100%|██████████| 53/53 [00:01<00:00, 43.01it/s]\n"
     ]
    },
    {
     "name": "stdout",
     "output_type": "stream",
     "text": [
      "613752 (3473408,) (3473408,)\n"
     ]
    },
    {
     "name": "stderr",
     "output_type": "stream",
     "text": [
      "100%|██████████| 53/53 [00:00<00:00, 117.71it/s]"
     ]
    },
    {
     "name": "stdout",
     "output_type": "stream",
     "text": [
      "0 (868352,) (868352,)\n"
     ]
    },
    {
     "name": "stderr",
     "output_type": "stream",
     "text": [
      "\n"
     ]
    }
   ],
   "source": [
    "all_values = []\n",
    "for patch_size in patch_sizes:\n",
    "    for overlap in overlaps:\n",
    "        patch_overlap = f\"p{patch_size:04}-o{overlap * 100:.0f}\"\n",
    "        gsd_po_dir = gsddat_folder / patch_overlap\n",
    "\n",
    "        # For each GSD:\n",
    "        for gsd_idx, scale in enumerate(SCALES):\n",
    "            gsd_dir = gsd_po_dir / f\"GSD{gsd_idx}\"\n",
    "\n",
    "            gsd_plab_dir = gsd_dir / \"pseudolabels\"\n",
    "            gsd_annot_dir = gsd_dir / \"annotations\"\n",
    "\n",
    "            ious, accs, f1s, all_predictions, all_targets = evaluate_segmentation(\n",
    "                gsd_plab_dir,\n",
    "                gsd_annot_dir,\n",
    "                IDENTICAL_MAPPING,\n",
    "                {},\n",
    "            )\n",
    "\n",
    "            correct = (all_predictions == all_targets)\n",
    "            print(correct.sum(), all_predictions.shape, correct.shape)\n",
    "\n",
    "            gsd_values = [\n",
    "                {\n",
    "                    \"GSD\": f\"GSD{gsd_idx}\",\n",
    "                    \"scale\": scale,\n",
    "                    \"iou\": iou,\n",
    "                    \"acc\": acc,\n",
    "                    \"f1\": f1,\n",
    "                }\n",
    "                for iou, acc, f1 in zip(ious, accs, f1s)\n",
    "            ]\n",
    "\n",
    "            all_values.extend(gsd_values)"
   ]
  },
  {
   "cell_type": "code",
   "execution_count": null,
   "metadata": {},
   "outputs": [],
   "source": [
    "df = pd.DataFrame(all_values)\n",
    "df.to_csv(gsddat_folder / \"gsd-metrics.csv\", index=False)"
   ]
  },
  {
   "cell_type": "code",
   "execution_count": null,
   "metadata": {},
   "outputs": [],
   "source": [
    "df"
   ]
  }
 ],
 "metadata": {
  "kernelspec": {
   "display_name": "drone-segm",
   "language": "python",
   "name": "python3"
  },
  "language_info": {
   "codemirror_mode": {
    "name": "ipython",
    "version": 3
   },
   "file_extension": ".py",
   "mimetype": "text/x-python",
   "name": "python",
   "nbconvert_exporter": "python",
   "pygments_lexer": "ipython3",
   "version": "3.12.0"
  }
 },
 "nbformat": 4,
 "nbformat_minor": 2
}
