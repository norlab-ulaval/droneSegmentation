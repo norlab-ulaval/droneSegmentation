{
 "cells": [
  {
   "cell_type": "code",
   "execution_count": 1,
   "metadata": {},
   "outputs": [],
   "source": [
    "import numpy as np\n",
    "from pathlib import Path\n",
    "import pandas as pd\n",
    "\n",
    "from gsd_utils import evaluate_segmentation, IDENTICAL_MAPPING"
   ]
  },
  {
   "cell_type": "code",
   "execution_count": 2,
   "metadata": {},
   "outputs": [],
   "source": [
    "# Paths\n",
    "data_path = Path.cwd().parent / \"data\" / \"drone-seg\"\n",
    "image_folder = data_path / \"test-data\"\n",
    "annot_folder = data_path / \"test-data-annotation\"\n",
    "gsddat_folder = data_path / \"gsds\"\n",
    "\n",
    "patch_sizes = [256]\n",
    "overlaps = [0.85]\n",
    "\n",
    "# GSD metrics\n",
    "GSD_FACTOR = 1.5\n",
    "N_GSD = 4\n",
    "# GSD_FACTOR=8 and N_GSD = 4\n",
    "# => SCALES = [1, 1/8, 1/64, 1/512]\n",
    "SCALES = np.logspace(0, -(N_GSD - 1), num=N_GSD, base=GSD_FACTOR)"
   ]
  },
  {
   "cell_type": "code",
   "execution_count": 3,
   "metadata": {},
   "outputs": [
    {
     "name": "stderr",
     "output_type": "stream",
     "text": [
      "100%|██████████| 53/53 [00:02<00:00, 22.92it/s]\n"
     ]
    },
    {
     "name": "stdout",
     "output_type": "stream",
     "text": [
      "708798 (55574528,) (55574528,)\n"
     ]
    },
    {
     "name": "stderr",
     "output_type": "stream",
     "text": [
      "100%|██████████| 53/53 [00:00<00:00, 55.64it/s]\n"
     ]
    },
    {
     "name": "stdout",
     "output_type": "stream",
     "text": [
      "338460 (24723917,) (24723917,)\n"
     ]
    },
    {
     "name": "stderr",
     "output_type": "stream",
     "text": [
      "100%|██████████| 53/53 [00:00<00:00, 119.37it/s]\n"
     ]
    },
    {
     "name": "stdout",
     "output_type": "stream",
     "text": [
      "168573 (10972325,) (10972325,)\n"
     ]
    },
    {
     "name": "stderr",
     "output_type": "stream",
     "text": [
      "100%|██████████| 53/53 [00:00<00:00, 244.13it/s]"
     ]
    },
    {
     "name": "stdout",
     "output_type": "stream",
     "text": [
      "147890 (4865877,) (4865877,)\n"
     ]
    },
    {
     "name": "stderr",
     "output_type": "stream",
     "text": [
      "\n"
     ]
    }
   ],
   "source": [
    "all_values = []\n",
    "for patch_size in patch_sizes:\n",
    "    for overlap in overlaps:\n",
    "        patch_overlap = f\"p{patch_size:04}-o{overlap * 100:.0f}\"\n",
    "        gsd_po_dir = gsddat_folder / patch_overlap\n",
    "\n",
    "        # For each GSD:\n",
    "        for gsd_idx, scale in enumerate(SCALES):\n",
    "            gsd_dir = gsd_po_dir / f\"GSD{gsd_idx}\"\n",
    "\n",
    "            gsd_plab_dir = gsd_dir / \"pseudolabels\"\n",
    "            gsd_annot_dir = gsd_dir / \"annotations\"\n",
    "\n",
    "            ious, accs, f1s, all_predictions, all_targets = evaluate_segmentation(\n",
    "                gsd_plab_dir,\n",
    "                gsd_annot_dir,\n",
    "                IDENTICAL_MAPPING,\n",
    "                {},\n",
    "            )\n",
    "\n",
    "            correct = (all_predictions == all_targets)\n",
    "            print(correct.sum(), all_predictions.shape, correct.shape)\n",
    "\n",
    "            gsd_values = [\n",
    "                {\n",
    "                    \"GSD\": f\"GSD{gsd_idx}\",\n",
    "                    \"scale\": scale,\n",
    "                    \"iou\": iou,\n",
    "                    \"acc\": acc,\n",
    "                    \"f1\": f1,\n",
    "                }\n",
    "                for iou, acc, f1 in zip(ious, accs, f1s)\n",
    "            ]\n",
    "\n",
    "            all_values.extend(gsd_values)"
   ]
  },
  {
   "cell_type": "code",
   "execution_count": 4,
   "metadata": {},
   "outputs": [],
   "source": [
    "df = pd.DataFrame(all_values)\n",
    "df.to_csv(gsddat_folder / \"gsd-metrics.csv\", index=False)"
   ]
  },
  {
   "cell_type": "code",
   "execution_count": 5,
   "metadata": {},
   "outputs": [
    {
     "data": {
      "text/html": [
       "<div>\n",
       "<style scoped>\n",
       "    .dataframe tbody tr th:only-of-type {\n",
       "        vertical-align: middle;\n",
       "    }\n",
       "\n",
       "    .dataframe tbody tr th {\n",
       "        vertical-align: top;\n",
       "    }\n",
       "\n",
       "    .dataframe thead th {\n",
       "        text-align: right;\n",
       "    }\n",
       "</style>\n",
       "<table border=\"1\" class=\"dataframe\">\n",
       "  <thead>\n",
       "    <tr style=\"text-align: right;\">\n",
       "      <th></th>\n",
       "      <th>GSD</th>\n",
       "      <th>scale</th>\n",
       "      <th>iou</th>\n",
       "      <th>acc</th>\n",
       "      <th>f1</th>\n",
       "    </tr>\n",
       "  </thead>\n",
       "  <tbody>\n",
       "    <tr>\n",
       "      <th>0</th>\n",
       "      <td>GSD0</td>\n",
       "      <td>1.000000</td>\n",
       "      <td>0.023142</td>\n",
       "      <td>0.044260</td>\n",
       "      <td>0.042292</td>\n",
       "    </tr>\n",
       "    <tr>\n",
       "      <th>1</th>\n",
       "      <td>GSD0</td>\n",
       "      <td>1.000000</td>\n",
       "      <td>0.000000</td>\n",
       "      <td>0.000000</td>\n",
       "      <td>0.000000</td>\n",
       "    </tr>\n",
       "    <tr>\n",
       "      <th>2</th>\n",
       "      <td>GSD0</td>\n",
       "      <td>1.000000</td>\n",
       "      <td>0.012179</td>\n",
       "      <td>0.049249</td>\n",
       "      <td>0.022699</td>\n",
       "    </tr>\n",
       "    <tr>\n",
       "      <th>3</th>\n",
       "      <td>GSD0</td>\n",
       "      <td>1.000000</td>\n",
       "      <td>0.005402</td>\n",
       "      <td>0.011926</td>\n",
       "      <td>0.010465</td>\n",
       "    </tr>\n",
       "    <tr>\n",
       "      <th>4</th>\n",
       "      <td>GSD0</td>\n",
       "      <td>1.000000</td>\n",
       "      <td>0.000000</td>\n",
       "      <td>0.000000</td>\n",
       "      <td>0.000000</td>\n",
       "    </tr>\n",
       "    <tr>\n",
       "      <th>...</th>\n",
       "      <td>...</td>\n",
       "      <td>...</td>\n",
       "      <td>...</td>\n",
       "      <td>...</td>\n",
       "      <td>...</td>\n",
       "    </tr>\n",
       "    <tr>\n",
       "      <th>207</th>\n",
       "      <td>GSD3</td>\n",
       "      <td>0.296296</td>\n",
       "      <td>0.005856</td>\n",
       "      <td>0.027089</td>\n",
       "      <td>0.011379</td>\n",
       "    </tr>\n",
       "    <tr>\n",
       "      <th>208</th>\n",
       "      <td>GSD3</td>\n",
       "      <td>0.296296</td>\n",
       "      <td>0.091805</td>\n",
       "      <td>0.104848</td>\n",
       "      <td>0.148531</td>\n",
       "    </tr>\n",
       "    <tr>\n",
       "      <th>209</th>\n",
       "      <td>GSD3</td>\n",
       "      <td>0.296296</td>\n",
       "      <td>0.000000</td>\n",
       "      <td>0.000000</td>\n",
       "      <td>0.000000</td>\n",
       "    </tr>\n",
       "    <tr>\n",
       "      <th>210</th>\n",
       "      <td>GSD3</td>\n",
       "      <td>0.296296</td>\n",
       "      <td>0.086202</td>\n",
       "      <td>0.145781</td>\n",
       "      <td>0.128199</td>\n",
       "    </tr>\n",
       "    <tr>\n",
       "      <th>211</th>\n",
       "      <td>GSD3</td>\n",
       "      <td>0.296296</td>\n",
       "      <td>0.000000</td>\n",
       "      <td>0.000000</td>\n",
       "      <td>0.000000</td>\n",
       "    </tr>\n",
       "  </tbody>\n",
       "</table>\n",
       "<p>212 rows × 5 columns</p>\n",
       "</div>"
      ],
      "text/plain": [
       "      GSD     scale       iou       acc        f1\n",
       "0    GSD0  1.000000  0.023142  0.044260  0.042292\n",
       "1    GSD0  1.000000  0.000000  0.000000  0.000000\n",
       "2    GSD0  1.000000  0.012179  0.049249  0.022699\n",
       "3    GSD0  1.000000  0.005402  0.011926  0.010465\n",
       "4    GSD0  1.000000  0.000000  0.000000  0.000000\n",
       "..    ...       ...       ...       ...       ...\n",
       "207  GSD3  0.296296  0.005856  0.027089  0.011379\n",
       "208  GSD3  0.296296  0.091805  0.104848  0.148531\n",
       "209  GSD3  0.296296  0.000000  0.000000  0.000000\n",
       "210  GSD3  0.296296  0.086202  0.145781  0.128199\n",
       "211  GSD3  0.296296  0.000000  0.000000  0.000000\n",
       "\n",
       "[212 rows x 5 columns]"
      ]
     },
     "execution_count": 5,
     "metadata": {},
     "output_type": "execute_result"
    }
   ],
   "source": [
    "df"
   ]
  }
 ],
 "metadata": {
  "kernelspec": {
   "display_name": "drone-segm",
   "language": "python",
   "name": "python3"
  },
  "language_info": {
   "codemirror_mode": {
    "name": "ipython",
    "version": 3
   },
   "file_extension": ".py",
   "mimetype": "text/x-python",
   "name": "python",
   "nbconvert_exporter": "python",
   "pygments_lexer": "ipython3",
   "version": "3.12.4"
  }
 },
 "nbformat": 4,
 "nbformat_minor": 2
}
