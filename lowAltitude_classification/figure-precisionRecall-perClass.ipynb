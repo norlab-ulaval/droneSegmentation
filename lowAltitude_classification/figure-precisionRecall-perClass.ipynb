{
 "cells": [
  {
   "cell_type": "code",
   "execution_count": null,
   "id": "0",
   "metadata": {},
   "outputs": [],
   "source": [
    "import pandas as pd\n",
    "import matplotlib.pyplot as plt\n",
    "import numpy as np\n",
    "from pathlib import Path"
   ]
  },
  {
   "cell_type": "code",
   "execution_count": null,
   "id": "1",
   "metadata": {},
   "outputs": [],
   "source": [
    "metrics_path = Path(\"lowAltitude_classification/confusion_matrix_Precision_Recall\")\n",
    "PL = pd.read_csv(metrics_path / \"pl/per_class_metrics.csv\", header=0)\n",
    "PT = pd.read_csv(metrics_path / \"pt/per_class_metrics.csv\", header=0)\n",
    "FT = pd.read_csv(metrics_path / \"ft/per_class_metrics.csv\", header=0)"
   ]
  },
  {
   "cell_type": "code",
   "execution_count": null,
   "id": "2",
   "metadata": {},
   "outputs": [],
   "source": [
    "print(PL)"
   ]
  },
  {
   "cell_type": "code",
   "execution_count": null,
   "id": "3",
   "metadata": {},
   "outputs": [],
   "source": [
    "data = [PL, PT, FT]\n",
    "experiment_labels = [\"PL\", \"PT\", \"PT + FT\"]\n",
    "metrics = PL.columns"
   ]
  },
  {
   "cell_type": "code",
   "execution_count": null,
   "id": "4",
   "metadata": {},
   "outputs": [],
   "source": [
    "print(data)"
   ]
  },
  {
   "cell_type": "code",
   "execution_count": null,
   "id": "5",
   "metadata": {},
   "outputs": [],
   "source": [
    "num_classes = len(PL)\n",
    "num_metrics = len(metrics)\n",
    "fig, axes = plt.subplots(num_metrics, 1, figsize=(5 * num_metrics, 6), sharex=True)\n",
    "\n",
    "bar_width = 0.25\n",
    "x = np.arange(num_classes)\n",
    "\n",
    "for i, metric in enumerate(metrics):\n",
    "    for j, exp in enumerate(data):\n",
    "        axes[i].bar(\n",
    "            x + j * bar_width, exp[metric], width=bar_width, label=experiment_labels[j]\n",
    "        )\n",
    "\n",
    "    axes[i].set_title(metric)\n",
    "    axes[i].set_xlabel(\"Class\")\n",
    "    axes[i].set_xticks(x + bar_width)\n",
    "    axes[i].set_xticklabels([f\"Class {k + 1}\" for k in range(num_classes)])\n",
    "    # axes[i].legend(title=\"Experiment\")\n",
    "    axes[i].set_ylabel(\"Value\")\n",
    "\n",
    "plt.tight_layout()\n",
    "plt.show()"
   ]
  }
 ],
 "metadata": {
  "kernelspec": {
   "display_name": "Python 3",
   "language": "python",
   "name": "python3"
  },
  "language_info": {
   "codemirror_mode": {
    "name": "ipython",
    "version": 2
   },
   "file_extension": ".py",
   "mimetype": "text/x-python",
   "name": "python",
   "nbconvert_exporter": "python",
   "pygments_lexer": "ipython2",
   "version": "2.7.6"
  }
 },
 "nbformat": 4,
 "nbformat_minor": 5
}
