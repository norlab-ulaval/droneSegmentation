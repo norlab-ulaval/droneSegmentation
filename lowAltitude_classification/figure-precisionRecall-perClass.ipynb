{
 "cells": [
  {
   "cell_type": "code",
   "id": "initial_id",
   "metadata": {
    "collapsed": true,
    "ExecuteTime": {
     "end_time": "2024-11-07T16:18:11.679355Z",
     "start_time": "2024-11-07T16:18:11.677314Z"
    }
   },
   "source": [
    "import pandas as pd\n",
    "import matplotlib.pyplot as plt\n",
    "import numpy as np"
   ],
   "outputs": [],
   "execution_count": 14
  },
  {
   "metadata": {
    "ExecuteTime": {
     "end_time": "2024-11-07T16:18:11.701801Z",
     "start_time": "2024-11-07T16:18:11.682779Z"
    }
   },
   "cell_type": "code",
   "source": [
    "PL = pd.read_csv('', header=0)\n",
    "PT = pd.read_csv('', header=0)\n",
    "FT = pd.read_csv('', header=0)"
   ],
   "id": "fe48992cc0cb3c55",
   "outputs": [],
   "execution_count": 15
  },
  {
   "metadata": {
    "ExecuteTime": {
     "end_time": "2024-11-07T16:19:43.163771Z",
     "start_time": "2024-11-07T16:19:43.160739Z"
    }
   },
   "cell_type": "code",
   "source": "print(PL)",
   "id": "1a544ae8275fa4af",
   "outputs": [
    {
     "name": "stdout",
     "output_type": "stream",
     "text": [
      "    precision    recall  f1_score\n",
      "0    0.681880  0.570790  0.621409\n",
      "1    0.699701  0.311388  0.430978\n",
      "2    0.644847  0.463997  0.539674\n",
      "3    0.536522  0.131341  0.211024\n",
      "4    0.123738  0.079531  0.096827\n",
      "5    0.120779  0.764718  0.208611\n",
      "6    0.593587  0.745843  0.661061\n",
      "7    0.000000  0.000000  0.000000\n",
      "8    0.263886  0.793270  0.396030\n",
      "9    0.643370  0.841219  0.729111\n",
      "10   0.756562  0.518109  0.615031\n",
      "11   0.878763  0.359512  0.510268\n",
      "12   0.000000  0.000000  0.000000\n",
      "13   0.000000  0.000000  0.000000\n",
      "14   0.799409  0.858277  0.827798\n",
      "15   0.622120  0.846050  0.717008\n",
      "16   0.868943  0.934084  0.900337\n",
      "17   0.597390  0.769299  0.672533\n",
      "18   0.643469  0.582066  0.611229\n",
      "19   0.000000  0.000000  0.000000\n",
      "20   0.332181  0.478261  0.392056\n",
      "21   0.718825  0.942632  0.815655\n",
      "22   0.000000  0.000000  0.000000\n",
      "23   0.137341  0.198469  0.162341\n",
      "24   0.422279  0.188253  0.260413\n",
      "25   0.449811  0.128901  0.200379\n"
     ]
    }
   ],
   "execution_count": 21
  },
  {
   "metadata": {
    "ExecuteTime": {
     "end_time": "2024-11-07T16:18:11.730968Z",
     "start_time": "2024-11-07T16:18:11.727849Z"
    }
   },
   "cell_type": "code",
   "source": [
    "data = [PL, PT, FT]\n",
    "experiment_labels = [\"PL\", \"PT\", \"PT + FT\"]\n",
    "metrics = PL.columns "
   ],
   "id": "8560f10525cbb0b4",
   "outputs": [],
   "execution_count": 16
  },
  {
   "metadata": {
    "ExecuteTime": {
     "end_time": "2024-11-07T16:18:52.326675Z",
     "start_time": "2024-11-07T16:18:52.322549Z"
    }
   },
   "cell_type": "code",
   "source": "print(data)",
   "id": "c545e20fc32473d8",
   "outputs": [
    {
     "name": "stdout",
     "output_type": "stream",
     "text": [
      "[    precision    recall  f1_score\n",
      "0    0.681880  0.570790  0.621409\n",
      "1    0.699701  0.311388  0.430978\n",
      "2    0.644847  0.463997  0.539674\n",
      "3    0.536522  0.131341  0.211024\n",
      "4    0.123738  0.079531  0.096827\n",
      "5    0.120779  0.764718  0.208611\n",
      "6    0.593587  0.745843  0.661061\n",
      "7    0.000000  0.000000  0.000000\n",
      "8    0.263886  0.793270  0.396030\n",
      "9    0.643370  0.841219  0.729111\n",
      "10   0.756562  0.518109  0.615031\n",
      "11   0.878763  0.359512  0.510268\n",
      "12   0.000000  0.000000  0.000000\n",
      "13   0.000000  0.000000  0.000000\n",
      "14   0.799409  0.858277  0.827798\n",
      "15   0.622120  0.846050  0.717008\n",
      "16   0.868943  0.934084  0.900337\n",
      "17   0.597390  0.769299  0.672533\n",
      "18   0.643469  0.582066  0.611229\n",
      "19   0.000000  0.000000  0.000000\n",
      "20   0.332181  0.478261  0.392056\n",
      "21   0.718825  0.942632  0.815655\n",
      "22   0.000000  0.000000  0.000000\n",
      "23   0.137341  0.198469  0.162341\n",
      "24   0.422279  0.188253  0.260413\n",
      "25   0.449811  0.128901  0.200379,     precision    recall  f1_score\n",
      "0    0.713560  0.705985  0.709752\n",
      "1    0.724630  0.247558  0.369040\n",
      "2    0.532735  0.873830  0.661925\n",
      "3    0.621081  0.381273  0.472491\n",
      "4    0.130939  0.080297  0.099548\n",
      "5    0.109407  0.942991  0.196067\n",
      "6    0.541666  0.497973  0.518902\n",
      "7    0.000000  0.000000  0.000000\n",
      "8    0.323277  0.823306  0.464260\n",
      "9    0.618893  0.873002  0.724307\n",
      "10   0.711137  0.527195  0.605505\n",
      "11   0.000000  0.000000  0.000000\n",
      "12   0.000000  0.000000  0.000000\n",
      "13   0.737230  0.858037  0.793059\n",
      "14   0.601372  0.808583  0.689752\n",
      "15   0.858233  0.944860  0.899465\n",
      "16   0.511445  0.823283  0.630936\n",
      "17   0.682647  0.542754  0.604715\n",
      "18   0.000000  0.000000  0.000000\n",
      "19   0.549290  0.775647  0.643133\n",
      "20   0.703576  0.962411  0.812887\n",
      "21   0.000000  0.000000  0.000000\n",
      "22   0.261037  0.129971  0.173537\n",
      "23   0.478971  0.247076  0.325991\n",
      "24   0.857633  0.415886  0.560145,     precision    recall  f1_score\n",
      "0    0.637872  0.735687  0.683296\n",
      "1    0.530400  0.529067  0.529732\n",
      "2    0.692968  0.862632  0.768548\n",
      "3    0.476857  0.338653  0.396045\n",
      "4    0.106124  0.033441  0.050857\n",
      "5    0.169599  0.914520  0.286134\n",
      "6    0.818918  0.489271  0.612561\n",
      "7    0.000000  0.000000  0.000000\n",
      "8    0.472236  0.718297  0.569838\n",
      "9    0.733310  0.745719  0.739462\n",
      "10   0.755612  0.535151  0.626555\n",
      "11   0.000000  0.000000  0.000000\n",
      "12   0.000987  0.008747  0.001773\n",
      "13   0.778071  0.863849  0.818719\n",
      "14   0.579414  0.864871  0.693933\n",
      "15   0.836587  0.969596  0.898194\n",
      "16   0.597337  0.764542  0.670675\n",
      "17   0.810072  0.287835  0.424749\n",
      "18   0.000000  0.000000  0.000000\n",
      "19   0.537305  0.854357  0.659715\n",
      "20   0.730768  0.952683  0.827099\n",
      "21   0.000000  0.000000  0.000000\n",
      "22   0.478766  0.149753  0.228145\n",
      "23   0.539914  0.283852  0.372086\n",
      "24   0.978127  0.364095  0.530659]\n"
     ]
    }
   ],
   "execution_count": 19
  },
  {
   "metadata": {
    "ExecuteTime": {
     "end_time": "2024-11-07T16:18:11.932067Z",
     "start_time": "2024-11-07T16:18:11.775062Z"
    }
   },
   "cell_type": "code",
   "source": [
    "num_classes = len(PL)\n",
    "num_metrics = len(metrics)\n",
    "fig, axes = plt.subplots(num_metrics, 1, figsize=(5 * num_metrics, 6), sharex=True)\n",
    "\n",
    "bar_width = 0.25\n",
    "x = np.arange(num_classes)\n",
    "\n",
    "for i, metric in enumerate(metrics):\n",
    "    for j, exp in enumerate(data):\n",
    "        axes[i].bar(x + j * bar_width, exp[metric], width=bar_width, label=experiment_labels[j])\n",
    "\n",
    "    axes[i].set_title(metric)\n",
    "    axes[i].set_xlabel(\"Class\")\n",
    "    axes[i].set_xticks(x + bar_width)\n",
    "    axes[i].set_xticklabels([f\"Class {k+1}\" for k in range(num_classes)])\n",
    "    # axes[i].legend(title=\"Experiment\")\n",
    "    axes[i].set_ylabel(\"Value\")\n",
    "\n",
    "plt.tight_layout()\n",
    "plt.show()"
   ],
   "id": "1e1d9dbab8b6b3f7",
   "outputs": [
    {
     "ename": "ValueError",
     "evalue": "shape mismatch: objects cannot be broadcast to a single shape.  Mismatch is between arg 0 with shape (26,) and arg 1 with shape (25,).",
     "output_type": "error",
     "traceback": [
      "\u001B[0;31m---------------------------------------------------------------------------\u001B[0m",
      "\u001B[0;31mValueError\u001B[0m                                Traceback (most recent call last)",
      "Cell \u001B[0;32mIn[17], line 10\u001B[0m\n\u001B[1;32m      8\u001B[0m \u001B[38;5;28;01mfor\u001B[39;00m i, metric \u001B[38;5;129;01min\u001B[39;00m \u001B[38;5;28menumerate\u001B[39m(metrics):\n\u001B[1;32m      9\u001B[0m     \u001B[38;5;28;01mfor\u001B[39;00m j, exp \u001B[38;5;129;01min\u001B[39;00m \u001B[38;5;28menumerate\u001B[39m(data):\n\u001B[0;32m---> 10\u001B[0m         \u001B[43maxes\u001B[49m\u001B[43m[\u001B[49m\u001B[43mi\u001B[49m\u001B[43m]\u001B[49m\u001B[38;5;241;43m.\u001B[39;49m\u001B[43mbar\u001B[49m\u001B[43m(\u001B[49m\u001B[43mx\u001B[49m\u001B[43m \u001B[49m\u001B[38;5;241;43m+\u001B[39;49m\u001B[43m \u001B[49m\u001B[43mj\u001B[49m\u001B[43m \u001B[49m\u001B[38;5;241;43m*\u001B[39;49m\u001B[43m \u001B[49m\u001B[43mbar_width\u001B[49m\u001B[43m,\u001B[49m\u001B[43m \u001B[49m\u001B[43mexp\u001B[49m\u001B[43m[\u001B[49m\u001B[43mmetric\u001B[49m\u001B[43m]\u001B[49m\u001B[43m,\u001B[49m\u001B[43m \u001B[49m\u001B[43mwidth\u001B[49m\u001B[38;5;241;43m=\u001B[39;49m\u001B[43mbar_width\u001B[49m\u001B[43m,\u001B[49m\u001B[43m \u001B[49m\u001B[43mlabel\u001B[49m\u001B[38;5;241;43m=\u001B[39;49m\u001B[43mexperiment_labels\u001B[49m\u001B[43m[\u001B[49m\u001B[43mj\u001B[49m\u001B[43m]\u001B[49m\u001B[43m)\u001B[49m\n\u001B[1;32m     12\u001B[0m     axes[i]\u001B[38;5;241m.\u001B[39mset_title(metric)\n\u001B[1;32m     13\u001B[0m     axes[i]\u001B[38;5;241m.\u001B[39mset_xlabel(\u001B[38;5;124m\"\u001B[39m\u001B[38;5;124mClass\u001B[39m\u001B[38;5;124m\"\u001B[39m)\n",
      "File \u001B[0;32m~/PycharmProjects/droneSegmentation/.venv/lib/python3.10/site-packages/matplotlib/__init__.py:1465\u001B[0m, in \u001B[0;36m_preprocess_data.<locals>.inner\u001B[0;34m(ax, data, *args, **kwargs)\u001B[0m\n\u001B[1;32m   1462\u001B[0m \u001B[38;5;129m@functools\u001B[39m\u001B[38;5;241m.\u001B[39mwraps(func)\n\u001B[1;32m   1463\u001B[0m \u001B[38;5;28;01mdef\u001B[39;00m \u001B[38;5;21minner\u001B[39m(ax, \u001B[38;5;241m*\u001B[39margs, data\u001B[38;5;241m=\u001B[39m\u001B[38;5;28;01mNone\u001B[39;00m, \u001B[38;5;241m*\u001B[39m\u001B[38;5;241m*\u001B[39mkwargs):\n\u001B[1;32m   1464\u001B[0m     \u001B[38;5;28;01mif\u001B[39;00m data \u001B[38;5;129;01mis\u001B[39;00m \u001B[38;5;28;01mNone\u001B[39;00m:\n\u001B[0;32m-> 1465\u001B[0m         \u001B[38;5;28;01mreturn\u001B[39;00m \u001B[43mfunc\u001B[49m\u001B[43m(\u001B[49m\u001B[43max\u001B[49m\u001B[43m,\u001B[49m\u001B[43m \u001B[49m\u001B[38;5;241;43m*\u001B[39;49m\u001B[38;5;28;43mmap\u001B[39;49m\u001B[43m(\u001B[49m\u001B[43msanitize_sequence\u001B[49m\u001B[43m,\u001B[49m\u001B[43m \u001B[49m\u001B[43margs\u001B[49m\u001B[43m)\u001B[49m\u001B[43m,\u001B[49m\u001B[43m \u001B[49m\u001B[38;5;241;43m*\u001B[39;49m\u001B[38;5;241;43m*\u001B[39;49m\u001B[43mkwargs\u001B[49m\u001B[43m)\u001B[49m\n\u001B[1;32m   1467\u001B[0m     bound \u001B[38;5;241m=\u001B[39m new_sig\u001B[38;5;241m.\u001B[39mbind(ax, \u001B[38;5;241m*\u001B[39margs, \u001B[38;5;241m*\u001B[39m\u001B[38;5;241m*\u001B[39mkwargs)\n\u001B[1;32m   1468\u001B[0m     auto_label \u001B[38;5;241m=\u001B[39m (bound\u001B[38;5;241m.\u001B[39marguments\u001B[38;5;241m.\u001B[39mget(label_namer)\n\u001B[1;32m   1469\u001B[0m                   \u001B[38;5;129;01mor\u001B[39;00m bound\u001B[38;5;241m.\u001B[39mkwargs\u001B[38;5;241m.\u001B[39mget(label_namer))\n",
      "File \u001B[0;32m~/PycharmProjects/droneSegmentation/.venv/lib/python3.10/site-packages/matplotlib/axes/_axes.py:2460\u001B[0m, in \u001B[0;36mAxes.bar\u001B[0;34m(self, x, height, width, bottom, align, **kwargs)\u001B[0m\n\u001B[1;32m   2457\u001B[0m     \u001B[38;5;28;01mif\u001B[39;00m yerr \u001B[38;5;129;01mis\u001B[39;00m \u001B[38;5;129;01mnot\u001B[39;00m \u001B[38;5;28;01mNone\u001B[39;00m:\n\u001B[1;32m   2458\u001B[0m         yerr \u001B[38;5;241m=\u001B[39m \u001B[38;5;28mself\u001B[39m\u001B[38;5;241m.\u001B[39m_convert_dx(yerr, y0, y, \u001B[38;5;28mself\u001B[39m\u001B[38;5;241m.\u001B[39mconvert_yunits)\n\u001B[0;32m-> 2460\u001B[0m x, height, width, y, linewidth, hatch \u001B[38;5;241m=\u001B[39m \u001B[43mnp\u001B[49m\u001B[38;5;241;43m.\u001B[39;49m\u001B[43mbroadcast_arrays\u001B[49m\u001B[43m(\u001B[49m\n\u001B[1;32m   2461\u001B[0m \u001B[43m    \u001B[49m\u001B[38;5;66;43;03m# Make args iterable too.\u001B[39;49;00m\n\u001B[1;32m   2462\u001B[0m \u001B[43m    \u001B[49m\u001B[43mnp\u001B[49m\u001B[38;5;241;43m.\u001B[39;49m\u001B[43matleast_1d\u001B[49m\u001B[43m(\u001B[49m\u001B[43mx\u001B[49m\u001B[43m)\u001B[49m\u001B[43m,\u001B[49m\u001B[43m \u001B[49m\u001B[43mheight\u001B[49m\u001B[43m,\u001B[49m\u001B[43m \u001B[49m\u001B[43mwidth\u001B[49m\u001B[43m,\u001B[49m\u001B[43m \u001B[49m\u001B[43my\u001B[49m\u001B[43m,\u001B[49m\u001B[43m \u001B[49m\u001B[43mlinewidth\u001B[49m\u001B[43m,\u001B[49m\u001B[43m \u001B[49m\u001B[43mhatch\u001B[49m\u001B[43m)\u001B[49m\n\u001B[1;32m   2464\u001B[0m \u001B[38;5;66;03m# Now that units have been converted, set the tick locations.\u001B[39;00m\n\u001B[1;32m   2465\u001B[0m \u001B[38;5;28;01mif\u001B[39;00m orientation \u001B[38;5;241m==\u001B[39m \u001B[38;5;124m'\u001B[39m\u001B[38;5;124mvertical\u001B[39m\u001B[38;5;124m'\u001B[39m:\n",
      "File \u001B[0;32m~/PycharmProjects/droneSegmentation/.venv/lib/python3.10/site-packages/numpy/lib/stride_tricks.py:540\u001B[0m, in \u001B[0;36mbroadcast_arrays\u001B[0;34m(subok, *args)\u001B[0m\n\u001B[1;32m    533\u001B[0m \u001B[38;5;66;03m# nditer is not used here to avoid the limit of 32 arrays.\u001B[39;00m\n\u001B[1;32m    534\u001B[0m \u001B[38;5;66;03m# Otherwise, something like the following one-liner would suffice:\u001B[39;00m\n\u001B[1;32m    535\u001B[0m \u001B[38;5;66;03m# return np.nditer(args, flags=['multi_index', 'zerosize_ok'],\u001B[39;00m\n\u001B[1;32m    536\u001B[0m \u001B[38;5;66;03m#                  order='C').itviews\u001B[39;00m\n\u001B[1;32m    538\u001B[0m args \u001B[38;5;241m=\u001B[39m [np\u001B[38;5;241m.\u001B[39marray(_m, copy\u001B[38;5;241m=\u001B[39m\u001B[38;5;28;01mFalse\u001B[39;00m, subok\u001B[38;5;241m=\u001B[39msubok) \u001B[38;5;28;01mfor\u001B[39;00m _m \u001B[38;5;129;01min\u001B[39;00m args]\n\u001B[0;32m--> 540\u001B[0m shape \u001B[38;5;241m=\u001B[39m \u001B[43m_broadcast_shape\u001B[49m\u001B[43m(\u001B[49m\u001B[38;5;241;43m*\u001B[39;49m\u001B[43margs\u001B[49m\u001B[43m)\u001B[49m\n\u001B[1;32m    542\u001B[0m \u001B[38;5;28;01mif\u001B[39;00m \u001B[38;5;28mall\u001B[39m(array\u001B[38;5;241m.\u001B[39mshape \u001B[38;5;241m==\u001B[39m shape \u001B[38;5;28;01mfor\u001B[39;00m array \u001B[38;5;129;01min\u001B[39;00m args):\n\u001B[1;32m    543\u001B[0m     \u001B[38;5;66;03m# Common case where nothing needs to be broadcasted.\u001B[39;00m\n\u001B[1;32m    544\u001B[0m     \u001B[38;5;28;01mreturn\u001B[39;00m args\n",
      "File \u001B[0;32m~/PycharmProjects/droneSegmentation/.venv/lib/python3.10/site-packages/numpy/lib/stride_tricks.py:422\u001B[0m, in \u001B[0;36m_broadcast_shape\u001B[0;34m(*args)\u001B[0m\n\u001B[1;32m    417\u001B[0m \u001B[38;5;250m\u001B[39m\u001B[38;5;124;03m\"\"\"Returns the shape of the arrays that would result from broadcasting the\u001B[39;00m\n\u001B[1;32m    418\u001B[0m \u001B[38;5;124;03msupplied arrays against each other.\u001B[39;00m\n\u001B[1;32m    419\u001B[0m \u001B[38;5;124;03m\"\"\"\u001B[39;00m\n\u001B[1;32m    420\u001B[0m \u001B[38;5;66;03m# use the old-iterator because np.nditer does not handle size 0 arrays\u001B[39;00m\n\u001B[1;32m    421\u001B[0m \u001B[38;5;66;03m# consistently\u001B[39;00m\n\u001B[0;32m--> 422\u001B[0m b \u001B[38;5;241m=\u001B[39m \u001B[43mnp\u001B[49m\u001B[38;5;241;43m.\u001B[39;49m\u001B[43mbroadcast\u001B[49m\u001B[43m(\u001B[49m\u001B[38;5;241;43m*\u001B[39;49m\u001B[43margs\u001B[49m\u001B[43m[\u001B[49m\u001B[43m:\u001B[49m\u001B[38;5;241;43m32\u001B[39;49m\u001B[43m]\u001B[49m\u001B[43m)\u001B[49m\n\u001B[1;32m    423\u001B[0m \u001B[38;5;66;03m# unfortunately, it cannot handle 32 or more arguments directly\u001B[39;00m\n\u001B[1;32m    424\u001B[0m \u001B[38;5;28;01mfor\u001B[39;00m pos \u001B[38;5;129;01min\u001B[39;00m \u001B[38;5;28mrange\u001B[39m(\u001B[38;5;241m32\u001B[39m, \u001B[38;5;28mlen\u001B[39m(args), \u001B[38;5;241m31\u001B[39m):\n\u001B[1;32m    425\u001B[0m     \u001B[38;5;66;03m# ironically, np.broadcast does not properly handle np.broadcast\u001B[39;00m\n\u001B[1;32m    426\u001B[0m     \u001B[38;5;66;03m# objects (it treats them as scalars)\u001B[39;00m\n\u001B[1;32m    427\u001B[0m     \u001B[38;5;66;03m# use broadcasting to avoid allocating the full array\u001B[39;00m\n",
      "\u001B[0;31mValueError\u001B[0m: shape mismatch: objects cannot be broadcast to a single shape.  Mismatch is between arg 0 with shape (26,) and arg 1 with shape (25,)."
     ]
    },
    {
     "data": {
      "text/plain": [
       "<Figure size 1500x600 with 3 Axes>"
      ],
      "image/png": "[encoded data removed]"
     },
     "metadata": {},
     "output_type": "display_data"
    }
   ],
   "execution_count": 17
  }
 ],
 "metadata": {
  "kernelspec": {
   "display_name": "Python 3",
   "language": "python",
   "name": "python3"
  },
  "language_info": {
   "codemirror_mode": {
    "name": "ipython",
    "version": 2
   },
   "file_extension": ".py",
   "mimetype": "text/x-python",
   "name": "python",
   "nbconvert_exporter": "python",
   "pygments_lexer": "ipython2",
   "version": "2.7.6"
  }
 },
 "nbformat": 4,
 "nbformat_minor": 5
}
