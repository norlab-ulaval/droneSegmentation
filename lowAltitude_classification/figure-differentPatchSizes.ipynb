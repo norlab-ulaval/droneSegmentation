{
 "cells": [
  {
   "cell_type": "code",
   "execution_count": null,
   "metadata": {},
   "outputs": [],
   "source": [
    "import matplotlib as mpl\n",
    "import pandas as pd\n",
    "from pathlib import Path\n",
    "\n",
    "# mpl.use(\"pdf\")\n",
    "import matplotlib.pyplot as plt\n",
    "from gsd_utils import papermode\n",
    "\n",
    "papermode(plt=plt, size=8, has_latex=True)\n",
    "\n",
    "# width as measured in inkscape\n",
    "width = 3.281\n",
    "height = width / 1.618\n",
    "\n",
    "# Path\n",
    "figdir = Path(\"figs/phase2\")\n"
   ]
  },
  {
   "cell_type": "code",
   "execution_count": null,
   "metadata": {},
   "outputs": [],
   "source": [
    "df_patchsize = pd.read_csv(\n",
    "    \"results/phase2/patchsize/metrics-patch-overlap.csv\"\n",
    ")\n",
    "df_val = df_patchsize[(df_patchsize[\"type\"] == \"val\")]\n",
    "df_test = df_patchsize[(df_patchsize[\"type\"] == \"test\")]\n",
    "\n",
    "df_val_filtered = df_val[(df_val[\"overlap\"] == 0.85)]\n",
    "df_test_filtered = df_test[(df_test[\"overlap\"] == 0.85)]\n",
    "\n",
    "df_val_filtered[\"F1\"] *= 100\n",
    "df_test_filtered[\"F1\"] *= 100\n"
   ]
  },
  {
   "cell_type": "code",
   "execution_count": null,
   "metadata": {},
   "outputs": [],
   "source": [
    "fig, (ax1, ax2) = plt.subplots(ncols=2)\n",
    "\n",
    "bar_labels = df_test_filtered.patch_size.unique().astype(str)\n",
    "\n",
    "ax1.bar(bar_labels, df_val_filtered.F1, color='slateblue', width=0.3, edgecolor='black')\n",
    "ax2.bar(bar_labels, df_test_filtered.F1, color='slateblue', width=0.3, edgecolor='black')\n",
    "\n",
    "# ax1.plot(\n",
    "#     df_val_filtered.patch_size,\n",
    "#     df_val_filtered.F1,\n",
    "#     marker=\"o\",\n",
    "#     linestyle=\"-\",\n",
    "#     color=\"xkcd:grass green\",\n",
    "# )\n",
    "# ax2.plot(\n",
    "#     df_test_filtered.patch_size,\n",
    "#     df_test_filtered.F1,\n",
    "#     marker=\"o\",\n",
    "#     linestyle=\"-\",\n",
    "#     color=\"xkcd:grass green\",\n",
    "# )\n",
    "\n",
    "ax1.grid(True)\n",
    "ax2.grid(True)\n",
    "\n",
    "ax1.set_xlabel(\"Average number of voters\")\n",
    "ax2.set_xlabel(\"Average number of voters\")\n",
    "ax1.xaxis.set_label_coords(0.5, -0.15)\n",
    "ax2.xaxis.set_label_coords(0.5, -0.15)\n",
    "\n",
    "ax1.set_ylabel(\"F1 score (\\\\%)\")\n",
    "ax1.yaxis.set_label_coords(-0.20, 0.5)\n",
    "\n",
    "ax1.set_title(r\"$D_{val}^{drone}$\", color=\"blue\", y=0.75, x=0.75, backgroundcolor=\"white\")\n",
    "ax2.set_title(r\"$D_{test}^{drone}$\", color=\"blue\", y=0.75, x=0.75, backgroundcolor=\"white\")\n",
    "\n",
    "fig.subplots_adjust(top=0.90, bottom=0.15, left=0.1, right=0.95, wspace=0.3)\n",
    "\n",
    "fig.set_size_inches(width, height)\n",
    "\n",
    "fig.savefig(\n",
    "    figdir / \"phase2-val-test-DifferentPatchSize.pdf\"\n",
    ")\n",
    "fig.savefig(\n",
    "    figdir / \"phase2-val-test-DifferentPatchSize.png\"\n",
    ")\n"
   ]
  }
 ],
 "metadata": {
  "kernelspec": {
   "display_name": "drone-segmentation",
   "language": "python",
   "name": "python3"
  },
  "language_info": {
   "codemirror_mode": {
    "name": "ipython",
    "version": 3
   },
   "file_extension": ".py",
   "mimetype": "text/x-python",
   "name": "python",
   "nbconvert_exporter": "python",
   "pygments_lexer": "ipython3",
   "version": "3.10.12"
  }
 },
 "nbformat": 4,
 "nbformat_minor": 2
}
