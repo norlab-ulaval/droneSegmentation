{
 "cells": [
  {
   "cell_type": "code",
   "execution_count": null,
   "metadata": {},
   "outputs": [],
   "source": [
    "from pathlib import Path\n",
    "\n",
    "import matplotlib as mpl\n",
    "import pandas as pd\n",
    "\n",
    "mpl.use(\"pdf\")\n",
    "import matplotlib.pyplot as plt\n",
    "from gsd_utils import papermode\n",
    "\n",
    "papermode(plt=plt, size=8, has_latex=True)\n",
    "\n",
    "# width as measured in inkscape\n",
    "width = 3.281\n",
    "height = width / 1.618\n",
    "\n",
    "# Path\n",
    "figdir = Path(\"figs/phase2\")\n"
   ]
  },
  {
   "cell_type": "code",
   "execution_count": null,
   "metadata": {},
   "outputs": [],
   "source": [
    "df_patchsize = pd.read_csv(\"results/phase2/patchsize/metrics-patch-overlap.csv\")\n",
    "df_val = df_patchsize[(df_patchsize[\"type\"] == \"val\")]\n",
    "df_test = df_patchsize[(df_patchsize[\"type\"] == \"test\")]\n",
    "\n",
    "df_val_filtered = df_val[(df_val[\"overlap\"] == 0.85)]\n",
    "df_test_filtered = df_test[(df_test[\"overlap\"] == 0.85)]\n",
    "\n",
    "df_val_filtered[\"F1\"] *= 100\n",
    "df_test_filtered[\"F1\"] *= 100\n"
   ]
  },
  {
   "cell_type": "code",
   "execution_count": null,
   "metadata": {},
   "outputs": [],
   "source": [
    "fig, (ax1, ax2) = plt.subplots(ncols=2)\n",
    "\n",
    "bar_labels = df_test_filtered.patch_size.unique().astype(str)\n",
    "ax1.bar(\n",
    "    bar_labels,\n",
    "    df_val_filtered.F1,\n",
    "    color=\"slateblue\",\n",
    "    width=0.6,\n",
    "    edgecolor=\"black\",\n",
    ")\n",
    "ax2.bar(\n",
    "    bar_labels,\n",
    "    df_test_filtered.F1,\n",
    "    color=\"slateblue\",\n",
    "    width=0.6,\n",
    "    edgecolor=\"black\",\n",
    ")\n",
    "\n",
    "ax1.set_xlabel(\"Patch Size\")\n",
    "ax2.set_xlabel(\"Patch Size\")\n",
    "ax1.xaxis.set_label_coords(0.5, -0.18)\n",
    "ax2.xaxis.set_label_coords(0.5, -0.18)\n",
    "\n",
    "ax1.set_ylabel(\"$F1$ score (\\%)\")\n",
    "ax1.yaxis.set_label_coords(-0.18, 0.5)\n",
    "\n",
    "ax1.grid(True, axis=\"y\", alpha=0.8)\n",
    "ax2.grid(True, axis=\"y\", alpha=0.8)\n",
    "\n",
    "ax1.set_title(\n",
    "    r\"$D_{val}^{drone}$\",\n",
    "    color=\"blue\",\n",
    "    y=0.7,\n",
    "    x=0.75,\n",
    "    backgroundcolor=\"white\",\n",
    ")\n",
    "ax2.set_title(\n",
    "    r\"$D_{test}^{drone}$\",\n",
    "    color=\"blue\",\n",
    "    y=0.7,\n",
    "    x=0.75,\n",
    "    backgroundcolor=\"white\",\n",
    ")\n",
    "\n",
    "ax1.set_ylim(bottom=30)\n",
    "ax2.set_ylim(bottom=25, top=45)\n",
    "\n",
    "fig.subplots_adjust(top=0.96, bottom=0.20, left=0.11, right=0.95, wspace=0.3)\n",
    "fig.set_size_inches(width, 0.8 * height)\n",
    "\n",
    "fig.savefig(figdir / \"phase2-val-test-DifferentPatchSize.pdf\")\n",
    "fig.savefig(figdir / \"phase2-val-test-DifferentPatchSize.png\")"
   ]
  }
 ],
 "metadata": {
  "kernelspec": {
   "display_name": "drone-segmentation",
   "language": "python",
   "name": "python3"
  },
  "language_info": {
   "codemirror_mode": {
    "name": "ipython",
    "version": 3
   },
   "file_extension": ".py",
   "mimetype": "text/x-python",
   "name": "python",
   "nbconvert_exporter": "python",
   "pygments_lexer": "ipython3",
   "version": "3.10.12"
  }
 },
 "nbformat": 4,
 "nbformat_minor": 2
}
