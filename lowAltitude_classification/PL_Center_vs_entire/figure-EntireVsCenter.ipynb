{
 "cells": [
  {
   "cell_type": "code",
   "metadata": {
    "ExecuteTime": {
     "end_time": "2024-12-12T19:02:47.353584Z",
     "start_time": "2024-12-12T19:02:47.351252Z"
    }
   },
   "source": [
    "import matplotlib as mpl\n",
    "import numpy as np\n",
    "import pandas as pd\n",
    "\n",
    "mpl.use(\"pdf\")\n",
    "import matplotlib.pyplot as plt\n",
    "from lowAltitude_classification.gsd_utils import papermode\n",
    "\n",
    "papermode(plt=plt, size=8, has_latex=True)\n",
    "\n",
    "# width as measured in inkscape\n",
    "width = 3.281\n",
    "height = width / 1.618\n"
   ],
   "outputs": [],
   "execution_count": 37
  },
  {
   "cell_type": "code",
   "metadata": {
    "ExecuteTime": {
     "end_time": "2024-12-12T19:02:47.398501Z",
     "start_time": "2024-12-12T19:02:47.395163Z"
    }
   },
   "source": [
    "test_df = pd.read_csv(\"PL_Center_vs_entire_test.csv\")\n",
    "val_df = pd.read_csv(\"PL_Center_vs_entire_Train-val.csv\")\n",
    "\n",
    "val_df.F1 *= 100\n",
    "test_df.F1 *= 100\n",
    "val_df.pAcc *= 100\n",
    "test_df.pAcc *= 100\n"
   ],
   "outputs": [],
   "execution_count": 38
  },
  {
   "metadata": {
    "ExecuteTime": {
     "end_time": "2024-12-12T19:02:47.449032Z",
     "start_time": "2024-12-12T19:02:47.443444Z"
    }
   },
   "cell_type": "code",
   "source": [
    "val_df = val_df.sort_values(by=\"Center Size\", ascending=True)\n",
    "test_df = test_df.sort_values(by=\"Center Size\", ascending=True)"
   ],
   "outputs": [],
   "execution_count": 39
  },
  {
   "metadata": {
    "ExecuteTime": {
     "end_time": "2024-12-12T19:02:47.511578Z",
     "start_time": "2024-12-12T19:02:47.502015Z"
    }
   },
   "cell_type": "code",
   "source": "test_df",
   "outputs": [
    {
     "data": {
      "text/plain": [
       "  Dataset  Center Size     F1   pAcc\n",
       "1    test          128  44.29  53.68\n",
       "0    test          256  43.17  53.68"
      ],
      "text/html": [
       "<div>\n",
       "<style scoped>\n",
       "    .dataframe tbody tr th:only-of-type {\n",
       "        vertical-align: middle;\n",
       "    }\n",
       "\n",
       "    .dataframe tbody tr th {\n",
       "        vertical-align: top;\n",
       "    }\n",
       "\n",
       "    .dataframe thead th {\n",
       "        text-align: right;\n",
       "    }\n",
       "</style>\n",
       "<table border=\"1\" class=\"dataframe\">\n",
       "  <thead>\n",
       "    <tr style=\"text-align: right;\">\n",
       "      <th></th>\n",
       "      <th>Dataset</th>\n",
       "      <th>Center Size</th>\n",
       "      <th>F1</th>\n",
       "      <th>pAcc</th>\n",
       "    </tr>\n",
       "  </thead>\n",
       "  <tbody>\n",
       "    <tr>\n",
       "      <th>1</th>\n",
       "      <td>test</td>\n",
       "      <td>128</td>\n",
       "      <td>44.29</td>\n",
       "      <td>53.68</td>\n",
       "    </tr>\n",
       "    <tr>\n",
       "      <th>0</th>\n",
       "      <td>test</td>\n",
       "      <td>256</td>\n",
       "      <td>43.17</td>\n",
       "      <td>53.68</td>\n",
       "    </tr>\n",
       "  </tbody>\n",
       "</table>\n",
       "</div>"
      ]
     },
     "execution_count": 40,
     "metadata": {},
     "output_type": "execute_result"
    }
   ],
   "execution_count": 40
  },
  {
   "cell_type": "code",
   "metadata": {
    "ExecuteTime": {
     "end_time": "2024-12-12T19:02:47.812849Z",
     "start_time": "2024-12-12T19:02:47.578133Z"
    }
   },
   "source": [
    "fig, axes = plt.subplots(1, 2, figsize=(2 * width, height))\n",
    "\n",
    "bar_width = 0.45\n",
    "labels = val_df[\"Center Size\"].astype(str)\n",
    "x1 = np.arange(len(labels))\n",
    "x2 = x1 + bar_width\n",
    "\n",
    "ax1 = axes[0]\n",
    "bars1 = ax1.bar(\n",
    "    x1,\n",
    "    val_df.F1,\n",
    "    width=bar_width,\n",
    "    edgecolor=\"black\",\n",
    "    color=\"xkcd:irish green\",\n",
    "    label=r\"$D_{val}^{drone}$\",\n",
    ")\n",
    "bars2 = ax1.bar(\n",
    "    x2,\n",
    "    test_df.F1,\n",
    "    width=bar_width,\n",
    "    edgecolor=\"black\",\n",
    "    color=\"xkcd:lime\",\n",
    "    label=r\"$D_{test}^{drone}$\",\n",
    ")\n",
    "\n",
    "ax1.bar_label(bars1, padding=2, fontsize=\"x-small\", color=\"darkgreen\", zorder=3)\n",
    "ax1.bar_label(bars2, padding=2, fontsize=\"x-small\", color=\"darkgreen\", zorder=3)\n",
    "\n",
    "ax1.set_xlabel(\"Central Window Size\")\n",
    "ax1.xaxis.set_label_coords(0.5, -0.2)\n",
    "\n",
    "ax1.set_ylabel(\"$F1$ score (\\%)\")\n",
    "ax1.yaxis.set_label_coords(-0.12, 0.5)\n",
    "\n",
    "ax1.set_xticks(x1 + (bar_width / 2), labels)\n",
    "\n",
    "ylim = (\n",
    "    min(val_df.F1.min(), test_df.F1.min()) - 1,\n",
    "    max(val_df.F1.max(), test_df.F1.max()) + 1,\n",
    ")\n",
    "ax1.set_ylim(ylim)\n",
    "\n",
    "ax1.legend(\n",
    "    ncols=2,\n",
    "    loc=\"lower center\",\n",
    "    bbox_to_anchor=(0.5, 1),\n",
    "    labelcolor=\"b\",\n",
    ")\n",
    "\n",
    "ax2 = axes[1]\n",
    "bars3 = ax2.bar(\n",
    "    x1,\n",
    "    val_df.pAcc,\n",
    "    width=bar_width,\n",
    "    edgecolor=\"black\",\n",
    "    color=\"xkcd:irish green\",\n",
    "    label=r\"$D_{val}^{test}$\",\n",
    "    hatch=\"/\",\n",
    ")\n",
    "bars4 = ax2.bar(\n",
    "    x2,\n",
    "    test_df.pAcc,\n",
    "    width=bar_width,\n",
    "    edgecolor=\"black\",\n",
    "    color=\"xkcd:lime\",\n",
    "    label=r\"$D_{test}^{test}$\",\n",
    "    hatch=\"/\",\n",
    ")\n",
    "\n",
    "ax2.bar_label(bars3, padding=2, fontsize=\"x-small\", color=\"darkgreen\", zorder=3)\n",
    "ax2.bar_label(bars4, padding=2, fontsize=\"x-small\", color=\"darkgreen\", zorder=3)\n",
    "\n",
    "ax2.set_xlabel(\"Central Window Size\")\n",
    "ax2.xaxis.set_label_coords(0.5, -0.2)\n",
    "\n",
    "ylim2 = (\n",
    "    min(val_df.pAcc.min(), test_df.pAcc.min()) - 1,\n",
    "    max(val_df.pAcc.max(), test_df.pAcc.max()) + 1,\n",
    ")\n",
    "\n",
    "ax2.set_ylim(ylim2)\n",
    "ax2.set_xticks(x1 + (bar_width / 2), labels)\n",
    "axes[1].set_ylabel(\"Pixel Accuracy (\\\\%)\")\n",
    "\n",
    "ax2.legend(\n",
    "    ncols=2,\n",
    "    loc=\"lower center\",\n",
    "    bbox_to_anchor=(0.5, 1),\n",
    "    labelcolor=\"b\",\n",
    ")\n",
    "\n",
    "fig.subplots_adjust(top=0.82, bottom=0.22, left=0.08, right=0.97, wspace=0.3)\n",
    "fig.savefig(\"PL_Center_vs_entire.png\")\n",
    "fig.savefig(\"PL_Center_vs_entire.pdf\")"
   ],
   "outputs": [],
   "execution_count": 41
  }
 ],
 "metadata": {
  "kernelspec": {
   "display_name": ".venv",
   "language": "python",
   "name": "python3"
  },
  "language_info": {
   "codemirror_mode": {
    "name": "ipython",
    "version": 3
   },
   "file_extension": ".py",
   "mimetype": "text/x-python",
   "name": "python",
   "nbconvert_exporter": "python",
   "pygments_lexer": "ipython3",
   "version": "3.10.12"
  }
 },
 "nbformat": 4,
 "nbformat_minor": 2
}
