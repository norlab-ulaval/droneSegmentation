{
 "cells": [
  {
   "cell_type": "code",
   "execution_count": 1,
   "metadata": {},
   "outputs": [],
   "source": [
    "from pathlib import Path\n",
    "\n",
    "import matplotlib as mpl\n",
    "\n",
    "# mpl.use(\"pdf\")\n",
    "import matplotlib.pyplot as plt\n",
    "import numpy as np\n",
    "import pandas as pd\n",
    "from gsd_utils import papermode\n",
    "\n",
    "papermode(plt=plt, size=8)\n",
    "\n",
    "# width as measured in inkscape\n",
    "width = 3.281\n",
    "height = width / 1.618"
   ]
  },
  {
   "cell_type": "code",
   "execution_count": 2,
   "metadata": {},
   "outputs": [],
   "source": [
    "# Paths\n",
    "data_path = Path.cwd().parent / \"data\"\n",
    "gsddat_folder = data_path / \"gsds\" / \"val\"\n",
    "results_dir = Path.cwd() / \"results\"\n",
    "patch_resdir = results_dir / \"phase2\" / \"patchsize\"\n",
    "\n",
    "test_path = patch_resdir / \"test\"\n",
    "val_path = patch_resdir / \"val\"\n",
    "\n",
    "figs_path = Path(\"figs\") / \"patch-overlap\"\n",
    "figs_path.mkdir(exist_ok=True, parents=True)"
   ]
  },
  {
   "cell_type": "code",
   "execution_count": 9,
   "metadata": {},
   "outputs": [],
   "source": [
    "test_df = pd.read_csv(test_path / \"phase2-test-patchsize.csv\").rename(\n",
    "    columns={\n",
    "        \"Patch Size\": \"patch_size\",\n",
    "        \"Overlap\": \"overlap\",\n",
    "    }\n",
    ")\n",
    "test_df[\"type\"] = \"test\"\n",
    "test_df[\"overlap\"] /= 100\n",
    "val_df = pd.read_csv(val_path / \"phase2-val-patchsize.csv\").rename(\n",
    "    columns={\n",
    "        \"Patch Size\": \"patch_size\",\n",
    "        \"Overlap\": \"overlap\",\n",
    "    }\n",
    ")\n",
    "val_df[\"type\"] = \"val\"\n",
    "val_df[\"overlap\"] /= 100\n",
    "\n",
    "df = pd.concat([val_df, test_df]).set_index([\"patch_size\", \"overlap\", \"type\"])\n",
    "\n",
    "df.to_csv(patch_resdir / \"metrics-patch-overlap.csv\")"
   ]
  },
  {
   "cell_type": "code",
   "execution_count": 26,
   "metadata": {},
   "outputs": [
    {
     "name": "stdout",
     "output_type": "stream",
     "text": [
      "                           mIoU    pAcc      F1\n",
      "patch_size overlap type                        \n",
      "144        0.75    val   0.3212  0.5515  0.4125\n",
      "           0.85    val   0.3264  0.5619  0.4175\n",
      "           0.95    val   0.3268  0.5637  0.4178\n",
      "           0.75    test  0.3005  0.4882  0.4029\n",
      "           0.85    test  0.3005  0.4952  0.4018\n",
      "           0.95    test  0.3022  0.4977  0.4036\n",
      "   overlap  type    mIoU    pAcc      F1\n",
      "0     0.75   val  0.3212  0.5515  0.4125\n",
      "1     0.85   val  0.3264  0.5619  0.4175\n",
      "2     0.95   val  0.3268  0.5637  0.4178\n",
      "3     0.75  test  0.3005  0.4882  0.4029\n",
      "4     0.85  test  0.3005  0.4952  0.4018\n",
      "5     0.95  test  0.3022  0.4977  0.4036\n",
      "144                            mIoU    pAcc      F1\n",
      "patch_size overlap type                        \n",
      "144        0.75    val   0.3212  0.5515  0.4125\n",
      "           0.85    val   0.3264  0.5619  0.4175\n",
      "           0.95    val   0.3268  0.5637  0.4178\n",
      "           0.75    test  0.3005  0.4882  0.4029\n",
      "           0.85    test  0.3005  0.4952  0.4018\n",
      "           0.95    test  0.3022  0.4977  0.4036\n",
      "                           mIoU    pAcc      F1\n",
      "patch_size overlap type                        \n",
      "184        0.75    val   0.3518  0.6302  0.4421\n",
      "           0.85    val   0.3542  0.6370  0.4446\n",
      "           0.95    val   0.3543  0.6396  0.4428\n",
      "           0.75    test  0.3210  0.5700  0.4213\n",
      "           0.85    test  0.3306  0.5780  0.4321\n",
      "           0.95    test  0.3301  0.5814  0.4309\n",
      "   overlap  type    mIoU    pAcc      F1\n",
      "0     0.75   val  0.3518  0.6302  0.4421\n",
      "1     0.85   val  0.3542  0.6370  0.4446\n",
      "2     0.95   val  0.3543  0.6396  0.4428\n",
      "3     0.75  test  0.3210  0.5700  0.4213\n",
      "4     0.85  test  0.3306  0.5780  0.4321\n",
      "5     0.95  test  0.3301  0.5814  0.4309\n",
      "184                            mIoU    pAcc      F1\n",
      "patch_size overlap type                        \n",
      "184        0.75    val   0.3518  0.6302  0.4421\n",
      "           0.85    val   0.3542  0.6370  0.4446\n",
      "           0.95    val   0.3543  0.6396  0.4428\n",
      "           0.75    test  0.3210  0.5700  0.4213\n",
      "           0.85    test  0.3306  0.5780  0.4321\n",
      "           0.95    test  0.3301  0.5814  0.4309\n",
      "                           mIoU    pAcc      F1\n",
      "patch_size overlap type                        \n",
      "256        0.75    val   0.3221  0.6296  0.4019\n",
      "           0.95    val   0.3243  0.6347  0.4048\n",
      "           0.85    val   0.3215  0.6313  0.4031\n",
      "           0.75    test  0.2812  0.5534  0.3708\n",
      "           0.95    test  0.2688  0.5498  0.3555\n",
      "           0.85    test  0.2669  0.5475  0.3537\n",
      "   overlap  type    mIoU    pAcc      F1\n",
      "0     0.75   val  0.3221  0.6296  0.4019\n",
      "1     0.95   val  0.3243  0.6347  0.4048\n",
      "2     0.85   val  0.3215  0.6313  0.4031\n",
      "3     0.75  test  0.2812  0.5534  0.3708\n",
      "4     0.95  test  0.2688  0.5498  0.3555\n",
      "5     0.85  test  0.2669  0.5475  0.3537\n",
      "256                            mIoU    pAcc      F1\n",
      "patch_size overlap type                        \n",
      "256        0.75    val   0.3221  0.6296  0.4019\n",
      "           0.95    val   0.3243  0.6347  0.4048\n",
      "           0.85    val   0.3215  0.6313  0.4031\n",
      "           0.75    test  0.2812  0.5534  0.3708\n",
      "           0.95    test  0.2688  0.5498  0.3555\n",
      "           0.85    test  0.2669  0.5475  0.3537\n"
     ]
    },
    {
     "data": {
      "image/png": "[encoded data removed]",
      "text/plain": [
       "<Figure size 640x480 with 3 Axes>"
      ]
     },
     "metadata": {},
     "output_type": "display_data"
    }
   ],
   "source": [
    "fig, axs = plt.subplots(ncols=3, sharey=True)\n",
    "fig.subplots_adjust(left=0.17, bottom=0.17, right=0.80, top=0.97, wspace=0)\n",
    "\n",
    "patch_groups = df.groupby(level=\"patch_size\", as_index=False)\n",
    "for ax, (patch_size, patch_df) in zip(axs, patch_groups):\n",
    "    # print(patch_df, patch_df.droplevel(\"patch_size\").index)\n",
    "    print(patch_df, patch_df.droplevel(0).reset_index(),sep=\"\\n\")\n",
    "\n",
    "    patch_df.droplevel(\"patch_size\").F1.unstack(1).plot(\n",
    "        kind=\"bar\",\n",
    "        ax=ax,\n",
    "        legend=False,\n",
    "    )\n",
    "    print(patch_size, patch_df)\n",
    "    ax.set_xlabel(patch_size)\n",
    "\n",
    "axs[1].tick_params(left=False)\n",
    "axs[2].tick_params(left=False)"
   ]
  }
 ],
 "metadata": {
  "kernelspec": {
   "display_name": ".venv",
   "language": "python",
   "name": "python3"
  },
  "language_info": {
   "codemirror_mode": {
    "name": "ipython",
    "version": 3
   },
   "file_extension": ".py",
   "mimetype": "text/x-python",
   "name": "python",
   "nbconvert_exporter": "python",
   "pygments_lexer": "ipython3",
   "version": "3.10.12"
  }
 },
 "nbformat": 4,
 "nbformat_minor": 2
}
