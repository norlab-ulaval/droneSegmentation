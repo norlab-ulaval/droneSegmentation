{
 "cells": [
  {
   "cell_type": "code",
   "execution_count": null,
   "metadata": {},
   "outputs": [],
   "source": [
    "from pathlib import Path\n",
    "\n",
    "import matplotlib as mpl\n",
    "\n",
    "# mpl.use(\"pdf\")\n",
    "import matplotlib.pyplot as plt\n",
    "import matplotlib.ticker as mtick\n",
    "import numpy as np\n",
    "import pandas as pd\n",
    "from gsd_utils import papermode\n",
    "\n",
    "papermode(plt=plt, size=8)\n",
    "\n",
    "# width as measured in inkscape\n",
    "width = 3.281\n",
    "height = width / 1.618"
   ]
  },
  {
   "cell_type": "code",
   "execution_count": null,
   "metadata": {},
   "outputs": [],
   "source": [
    "# Paths\n",
    "data_path = Path.cwd().parent / \"data\"\n",
    "gsddat_folder = data_path / \"gsds\" / \"val\"\n",
    "results_dir = Path.cwd() / \"results\"\n",
    "patch_resdir = results_dir / \"phase2\" / \"patchsize\"\n",
    "\n",
    "test_path = patch_resdir / \"test\"\n",
    "val_path = patch_resdir / \"val\"\n",
    "\n",
    "figs_path = Path(\"figs\") / \"patch-overlap\"\n",
    "figs_path.mkdir(exist_ok=True, parents=True)"
   ]
  },
  {
   "cell_type": "code",
   "execution_count": null,
   "metadata": {},
   "outputs": [],
   "source": [
    "test_df = pd.read_csv(test_path / \"phase2-test-patchsize.csv\").rename(\n",
    "    columns={\n",
    "        \"Patch Size\": \"patch_size\",\n",
    "        \"Overlap\": \"overlap\",\n",
    "    }\n",
    ")\n",
    "test_df[\"type\"] = \"test\"\n",
    "test_df[\"overlap\"] /= 100\n",
    "val_df = pd.read_csv(val_path / \"phase2-val-patchsize.csv\").rename(\n",
    "    columns={\n",
    "        \"Patch Size\": \"patch_size\",\n",
    "        \"Overlap\": \"overlap\",\n",
    "    }\n",
    ")\n",
    "val_df[\"type\"] = \"val\"\n",
    "val_df[\"overlap\"] /= 100\n",
    "\n",
    "df = pd.concat([val_df, test_df])\n",
    "\n",
    "df.to_csv(patch_resdir / \"metrics-patch-overlap.csv\", index=False)"
   ]
  },
  {
   "cell_type": "code",
   "execution_count": null,
   "metadata": {},
   "outputs": [],
   "source": [
    "fig, axs = plt.subplots(ncols=df.patch_size.unique().size, sharey=True)\n",
    "fig.subplots_adjust(left=0.17, bottom=0.17, right=0.80, top=0.97, wspace=0)\n",
    "\n",
    "metric = \"F1\"\n",
    "\n",
    "patch_groups = df.groupby(\"patch_size\")\n",
    "for ax, (patch_size, patch_df) in zip(axs, patch_groups):\n",
    "    print(patch_df)\n",
    "\n",
    "    patch_df.F1.plot(\n",
    "        kind=\"bar\",\n",
    "        ax=ax,\n",
    "        legend=False,\n",
    "    )\n",
    "    print(patch_size, patch_df)\n",
    "    ax.set_xlabel(patch_size)\n",
    "\n",
    "fig.supxlabel(\"Patch size\", y=-0.25)\n",
    "axs[0].yaxis.set_major_formatter(mtick.PercentFormatter(1.0, 0))\n",
    "\n",
    "axs[1].tick_params(left=False)\n",
    "axs[2].tick_params(left=False)\n",
    "axs[3].tick_params(left=False)\n",
    "\n",
    "fig.set_size_inches(width, 0.5 * height)"
   ]
  }
 ],
 "metadata": {
  "kernelspec": {
   "display_name": ".venv",
   "language": "python",
   "name": "python3"
  },
  "language_info": {
   "codemirror_mode": {
    "name": "ipython",
    "version": 3
   },
   "file_extension": ".py",
   "mimetype": "text/x-python",
   "name": "python",
   "nbconvert_exporter": "python",
   "pygments_lexer": "ipython3",
   "version": "3.10.12"
  }
 },
 "nbformat": 4,
 "nbformat_minor": 2
}
